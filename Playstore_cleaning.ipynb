{
 "cells": [
  {
   "cell_type": "markdown",
   "metadata": {
    "id": "FCHedMXT3JTs"
   },
   "source": [
    "#**Cleaning Data**"
   ]
  },
  {
   "cell_type": "markdown",
   "metadata": {
    "id": "covX1ZDu3c7d"
   },
   "source": [
    "### Importing packages"
   ]
  },
  {
   "cell_type": "code",
   "execution_count": 1,
   "metadata": {
    "id": "iv5Ywi31c4oM"
   },
   "outputs": [],
   "source": [
    "import pandas as pd\n",
    "import numpy as np\n",
    "import matplotlib.pyplot as plt\n",
    "import seaborn as sns"
   ]
  },
  {
   "cell_type": "code",
   "execution_count": 2,
   "metadata": {
    "id": "276rxpnRdxGy"
   },
   "outputs": [],
   "source": [
    "data = pd.read_csv('Google-Playstore.csv')"
   ]
  },
  {
   "cell_type": "code",
   "execution_count": 3,
   "metadata": {
    "colab": {
     "base_uri": "https://localhost:8080/"
    },
    "id": "hHFL_gtueZIF",
    "outputId": "00266084-453e-44dd-e3a5-2205d738b0d0"
   },
   "outputs": [
    {
     "data": {
      "text/plain": [
       "(2312944, 24)"
      ]
     },
     "execution_count": 3,
     "metadata": {},
     "output_type": "execute_result"
    }
   ],
   "source": [
    "data.shape"
   ]
  },
  {
   "cell_type": "code",
   "execution_count": 4,
   "metadata": {
    "colab": {
     "base_uri": "https://localhost:8080/",
     "height": 431
    },
    "id": "XulfMNjyVekG",
    "outputId": "6ca0fc2f-a659-437d-fad1-f7af19051aa0"
   },
   "outputs": [
    {
     "data": {
      "text/html": [
       "<div>\n",
       "<style scoped>\n",
       "    .dataframe tbody tr th:only-of-type {\n",
       "        vertical-align: middle;\n",
       "    }\n",
       "\n",
       "    .dataframe tbody tr th {\n",
       "        vertical-align: top;\n",
       "    }\n",
       "\n",
       "    .dataframe thead th {\n",
       "        text-align: right;\n",
       "    }\n",
       "</style>\n",
       "<table border=\"1\" class=\"dataframe\">\n",
       "  <thead>\n",
       "    <tr style=\"text-align: right;\">\n",
       "      <th></th>\n",
       "      <th>App Name</th>\n",
       "      <th>App Id</th>\n",
       "      <th>Category</th>\n",
       "      <th>Rating</th>\n",
       "      <th>Rating Count</th>\n",
       "      <th>Installs</th>\n",
       "      <th>Minimum Installs</th>\n",
       "      <th>Maximum Installs</th>\n",
       "      <th>Free</th>\n",
       "      <th>Price</th>\n",
       "      <th>...</th>\n",
       "      <th>Developer Website</th>\n",
       "      <th>Developer Email</th>\n",
       "      <th>Released</th>\n",
       "      <th>Last Updated</th>\n",
       "      <th>Content Rating</th>\n",
       "      <th>Privacy Policy</th>\n",
       "      <th>Ad Supported</th>\n",
       "      <th>In App Purchases</th>\n",
       "      <th>Editors Choice</th>\n",
       "      <th>Scraped Time</th>\n",
       "    </tr>\n",
       "  </thead>\n",
       "  <tbody>\n",
       "    <tr>\n",
       "      <th>0</th>\n",
       "      <td>Gakondo</td>\n",
       "      <td>com.ishakwe.gakondo</td>\n",
       "      <td>Adventure</td>\n",
       "      <td>0.0</td>\n",
       "      <td>0.0</td>\n",
       "      <td>10+</td>\n",
       "      <td>10.0</td>\n",
       "      <td>15</td>\n",
       "      <td>True</td>\n",
       "      <td>0.0</td>\n",
       "      <td>...</td>\n",
       "      <td>https://beniyizibyose.tk/#/</td>\n",
       "      <td>jean21101999@gmail.com</td>\n",
       "      <td>Feb 26, 2020</td>\n",
       "      <td>Feb 26, 2020</td>\n",
       "      <td>Everyone</td>\n",
       "      <td>https://beniyizibyose.tk/projects/</td>\n",
       "      <td>False</td>\n",
       "      <td>False</td>\n",
       "      <td>False</td>\n",
       "      <td>2021-06-15 20:19:35</td>\n",
       "    </tr>\n",
       "    <tr>\n",
       "      <th>1</th>\n",
       "      <td>Ampere Battery Info</td>\n",
       "      <td>com.webserveis.batteryinfo</td>\n",
       "      <td>Tools</td>\n",
       "      <td>4.4</td>\n",
       "      <td>64.0</td>\n",
       "      <td>5,000+</td>\n",
       "      <td>5000.0</td>\n",
       "      <td>7662</td>\n",
       "      <td>True</td>\n",
       "      <td>0.0</td>\n",
       "      <td>...</td>\n",
       "      <td>https://webserveis.netlify.app/</td>\n",
       "      <td>webserveis@gmail.com</td>\n",
       "      <td>May 21, 2020</td>\n",
       "      <td>May 06, 2021</td>\n",
       "      <td>Everyone</td>\n",
       "      <td>https://dev4phones.wordpress.com/licencia-de-uso/</td>\n",
       "      <td>True</td>\n",
       "      <td>False</td>\n",
       "      <td>False</td>\n",
       "      <td>2021-06-15 20:19:35</td>\n",
       "    </tr>\n",
       "    <tr>\n",
       "      <th>2</th>\n",
       "      <td>Vibook</td>\n",
       "      <td>com.doantiepvien.crm</td>\n",
       "      <td>Productivity</td>\n",
       "      <td>0.0</td>\n",
       "      <td>0.0</td>\n",
       "      <td>50+</td>\n",
       "      <td>50.0</td>\n",
       "      <td>58</td>\n",
       "      <td>True</td>\n",
       "      <td>0.0</td>\n",
       "      <td>...</td>\n",
       "      <td>NaN</td>\n",
       "      <td>vnacrewit@gmail.com</td>\n",
       "      <td>Aug 9, 2019</td>\n",
       "      <td>Aug 19, 2019</td>\n",
       "      <td>Everyone</td>\n",
       "      <td>https://www.vietnamairlines.com/vn/en/terms-an...</td>\n",
       "      <td>False</td>\n",
       "      <td>False</td>\n",
       "      <td>False</td>\n",
       "      <td>2021-06-15 20:19:35</td>\n",
       "    </tr>\n",
       "    <tr>\n",
       "      <th>3</th>\n",
       "      <td>Smart City Trichy Public Service Vehicles 17UC...</td>\n",
       "      <td>cst.stJoseph.ug17ucs548</td>\n",
       "      <td>Communication</td>\n",
       "      <td>5.0</td>\n",
       "      <td>5.0</td>\n",
       "      <td>10+</td>\n",
       "      <td>10.0</td>\n",
       "      <td>19</td>\n",
       "      <td>True</td>\n",
       "      <td>0.0</td>\n",
       "      <td>...</td>\n",
       "      <td>http://www.climatesmarttech.com/</td>\n",
       "      <td>climatesmarttech2@gmail.com</td>\n",
       "      <td>Sep 10, 2018</td>\n",
       "      <td>Oct 13, 2018</td>\n",
       "      <td>Everyone</td>\n",
       "      <td>NaN</td>\n",
       "      <td>True</td>\n",
       "      <td>False</td>\n",
       "      <td>False</td>\n",
       "      <td>2021-06-15 20:19:35</td>\n",
       "    </tr>\n",
       "  </tbody>\n",
       "</table>\n",
       "<p>4 rows × 24 columns</p>\n",
       "</div>"
      ],
      "text/plain": [
       "                                            App Name  \\\n",
       "0                                            Gakondo   \n",
       "1                                Ampere Battery Info   \n",
       "2                                             Vibook   \n",
       "3  Smart City Trichy Public Service Vehicles 17UC...   \n",
       "\n",
       "                       App Id       Category  Rating  Rating Count Installs  \\\n",
       "0         com.ishakwe.gakondo      Adventure     0.0           0.0      10+   \n",
       "1  com.webserveis.batteryinfo          Tools     4.4          64.0   5,000+   \n",
       "2        com.doantiepvien.crm   Productivity     0.0           0.0      50+   \n",
       "3     cst.stJoseph.ug17ucs548  Communication     5.0           5.0      10+   \n",
       "\n",
       "   Minimum Installs  Maximum Installs  Free  Price  ...  \\\n",
       "0              10.0                15  True    0.0  ...   \n",
       "1            5000.0              7662  True    0.0  ...   \n",
       "2              50.0                58  True    0.0  ...   \n",
       "3              10.0                19  True    0.0  ...   \n",
       "\n",
       "                  Developer Website              Developer Email  \\\n",
       "0       https://beniyizibyose.tk/#/       jean21101999@gmail.com   \n",
       "1   https://webserveis.netlify.app/         webserveis@gmail.com   \n",
       "2                               NaN          vnacrewit@gmail.com   \n",
       "3  http://www.climatesmarttech.com/  climatesmarttech2@gmail.com   \n",
       "\n",
       "       Released  Last Updated Content Rating  \\\n",
       "0  Feb 26, 2020  Feb 26, 2020       Everyone   \n",
       "1  May 21, 2020  May 06, 2021       Everyone   \n",
       "2   Aug 9, 2019  Aug 19, 2019       Everyone   \n",
       "3  Sep 10, 2018  Oct 13, 2018       Everyone   \n",
       "\n",
       "                                      Privacy Policy Ad Supported  \\\n",
       "0                 https://beniyizibyose.tk/projects/        False   \n",
       "1  https://dev4phones.wordpress.com/licencia-de-uso/         True   \n",
       "2  https://www.vietnamairlines.com/vn/en/terms-an...        False   \n",
       "3                                                NaN         True   \n",
       "\n",
       "  In App Purchases Editors Choice         Scraped Time  \n",
       "0            False          False  2021-06-15 20:19:35  \n",
       "1            False          False  2021-06-15 20:19:35  \n",
       "2            False          False  2021-06-15 20:19:35  \n",
       "3            False          False  2021-06-15 20:19:35  \n",
       "\n",
       "[4 rows x 24 columns]"
      ]
     },
     "execution_count": 4,
     "metadata": {},
     "output_type": "execute_result"
    }
   ],
   "source": [
    "data.head(4)"
   ]
  },
  {
   "cell_type": "code",
   "execution_count": 5,
   "metadata": {
    "colab": {
     "base_uri": "https://localhost:8080/"
    },
    "id": "BTi864ikSeS0",
    "outputId": "d8f3e730-f5c1-4bb4-bfc4-f1a509fa5748"
   },
   "outputs": [
    {
     "data": {
      "text/plain": [
       "Education                  241090\n",
       "Music & Audio              154906\n",
       "Tools                      143988\n",
       "Business                   143771\n",
       "Entertainment              138276\n",
       "Lifestyle                  118331\n",
       "Books & Reference          116728\n",
       "Personalization             89210\n",
       "Health & Fitness            83510\n",
       "Productivity                79698\n",
       "Shopping                    75256\n",
       "Food & Drink                73927\n",
       "Travel & Local              67288\n",
       "Finance                     65466\n",
       "Arcade                      53792\n",
       "Puzzle                      51168\n",
       "Casual                      50813\n",
       "Communication               48167\n",
       "Sports                      47483\n",
       "Social                      44734\n",
       "News & Magazines            42807\n",
       "Photography                 35552\n",
       "Medical                     32065\n",
       "Action                      27555\n",
       "Maps & Navigation           26722\n",
       "Simulation                  23282\n",
       "Adventure                   23203\n",
       "Educational                 21308\n",
       "Art & Design                18539\n",
       "Auto & Vehicles             18280\n",
       "House & Home                14369\n",
       "Video Players & Editors     14015\n",
       "Events                      12841\n",
       "Trivia                      11795\n",
       "Beauty                      11772\n",
       "Board                       10588\n",
       "Racing                      10362\n",
       "Role Playing                10034\n",
       "Word                         8630\n",
       "Strategy                     8526\n",
       "Card                         8179\n",
       "Weather                      7246\n",
       "Dating                       6524\n",
       "Libraries & Demo             5198\n",
       "Casino                       5076\n",
       "Music                        4202\n",
       "Parenting                    3810\n",
       "Comics                       2862\n",
       "Name: Category, dtype: int64"
      ]
     },
     "execution_count": 5,
     "metadata": {},
     "output_type": "execute_result"
    }
   ],
   "source": [
    "data['Category'].value_counts()"
   ]
  },
  {
   "cell_type": "code",
   "execution_count": 6,
   "metadata": {
    "colab": {
     "base_uri": "https://localhost:8080/"
    },
    "id": "NBrp1lfkSkEe",
    "outputId": "9e425aa1-e9cb-4549-d8e1-4d3478ef7101"
   },
   "outputs": [
    {
     "data": {
      "text/plain": [
       "48"
      ]
     },
     "execution_count": 6,
     "metadata": {},
     "output_type": "execute_result"
    }
   ],
   "source": [
    "len(data['Category'].value_counts())"
   ]
  },
  {
   "cell_type": "code",
   "execution_count": 7,
   "metadata": {
    "colab": {
     "base_uri": "https://localhost:8080/"
    },
    "id": "SFFtvwUzSzK8",
    "outputId": "3eb8c689-4ed1-4404-d94e-6fd474886ae7"
   },
   "outputs": [
    {
     "data": {
      "text/plain": [
       "USD    2311548\n",
       "XXX       1236\n",
       "EUR          6\n",
       "INR          5\n",
       "GBP          3\n",
       "CAD          2\n",
       "RUB          1\n",
       "PKR          1\n",
       "VND          1\n",
       "ZAR          1\n",
       "SGD          1\n",
       "BRL          1\n",
       "TRY          1\n",
       "AUD          1\n",
       "KRW          1\n",
       "Name: Currency, dtype: int64"
      ]
     },
     "execution_count": 7,
     "metadata": {},
     "output_type": "execute_result"
    }
   ],
   "source": [
    "data['Currency'].value_counts()"
   ]
  },
  {
   "cell_type": "code",
   "execution_count": 8,
   "metadata": {
    "id": "h1tXKpEZS4Fq"
   },
   "outputs": [],
   "source": [
    "data = data[data['Currency'] == 'USD']\n",
    "data.drop(['Currency'],1,inplace=True)\n",
    "data = data.reset_index(drop=True)"
   ]
  },
  {
   "cell_type": "markdown",
   "metadata": {
    "id": "aI68gPJwTvzA"
   },
   "source": [
    "Taking the data which has **Currency** as **USD** and dropping the **Currency** column"
   ]
  },
  {
   "cell_type": "code",
   "execution_count": 9,
   "metadata": {
    "colab": {
     "base_uri": "https://localhost:8080/"
    },
    "id": "szFqsEhxTAFV",
    "outputId": "cc9bb54c-c77a-4fc0-d8e6-b299ddf5b831"
   },
   "outputs": [
    {
     "data": {
      "text/plain": [
       "(2311548, 23)"
      ]
     },
     "execution_count": 9,
     "metadata": {},
     "output_type": "execute_result"
    }
   ],
   "source": [
    "data.shape"
   ]
  },
  {
   "cell_type": "markdown",
   "metadata": {
    "id": "HeQZdzvO30sY"
   },
   "source": [
    "### Dropping unnecessory columns"
   ]
  },
  {
   "cell_type": "code",
   "execution_count": 10,
   "metadata": {
    "colab": {
     "base_uri": "https://localhost:8080/",
     "height": 204
    },
    "id": "WJGEWID1fzb8",
    "outputId": "e34001ed-6832-4f26-b245-0fc046edbc37"
   },
   "outputs": [
    {
     "data": {
      "text/html": [
       "<div>\n",
       "<style scoped>\n",
       "    .dataframe tbody tr th:only-of-type {\n",
       "        vertical-align: middle;\n",
       "    }\n",
       "\n",
       "    .dataframe tbody tr th {\n",
       "        vertical-align: top;\n",
       "    }\n",
       "\n",
       "    .dataframe thead th {\n",
       "        text-align: right;\n",
       "    }\n",
       "</style>\n",
       "<table border=\"1\" class=\"dataframe\">\n",
       "  <thead>\n",
       "    <tr style=\"text-align: right;\">\n",
       "      <th></th>\n",
       "      <th>Category</th>\n",
       "      <th>Rating</th>\n",
       "      <th>Rating Count</th>\n",
       "      <th>Minimum Installs</th>\n",
       "      <th>Free</th>\n",
       "      <th>Price</th>\n",
       "      <th>Size</th>\n",
       "      <th>Minimum Android</th>\n",
       "      <th>Developer Id</th>\n",
       "      <th>Released</th>\n",
       "      <th>Last Updated</th>\n",
       "      <th>Content Rating</th>\n",
       "      <th>Ad Supported</th>\n",
       "      <th>In App Purchases</th>\n",
       "    </tr>\n",
       "  </thead>\n",
       "  <tbody>\n",
       "    <tr>\n",
       "      <th>0</th>\n",
       "      <td>Adventure</td>\n",
       "      <td>0.0</td>\n",
       "      <td>0.0</td>\n",
       "      <td>10.0</td>\n",
       "      <td>True</td>\n",
       "      <td>0.0</td>\n",
       "      <td>10M</td>\n",
       "      <td>7.1 and up</td>\n",
       "      <td>Jean Confident Irénée NIYIZIBYOSE</td>\n",
       "      <td>Feb 26, 2020</td>\n",
       "      <td>Feb 26, 2020</td>\n",
       "      <td>Everyone</td>\n",
       "      <td>False</td>\n",
       "      <td>False</td>\n",
       "    </tr>\n",
       "    <tr>\n",
       "      <th>1</th>\n",
       "      <td>Tools</td>\n",
       "      <td>4.4</td>\n",
       "      <td>64.0</td>\n",
       "      <td>5000.0</td>\n",
       "      <td>True</td>\n",
       "      <td>0.0</td>\n",
       "      <td>2.9M</td>\n",
       "      <td>5.0 and up</td>\n",
       "      <td>Webserveis</td>\n",
       "      <td>May 21, 2020</td>\n",
       "      <td>May 06, 2021</td>\n",
       "      <td>Everyone</td>\n",
       "      <td>True</td>\n",
       "      <td>False</td>\n",
       "    </tr>\n",
       "    <tr>\n",
       "      <th>2</th>\n",
       "      <td>Productivity</td>\n",
       "      <td>0.0</td>\n",
       "      <td>0.0</td>\n",
       "      <td>50.0</td>\n",
       "      <td>True</td>\n",
       "      <td>0.0</td>\n",
       "      <td>3.7M</td>\n",
       "      <td>4.0.3 and up</td>\n",
       "      <td>Cabin Crew</td>\n",
       "      <td>Aug 9, 2019</td>\n",
       "      <td>Aug 19, 2019</td>\n",
       "      <td>Everyone</td>\n",
       "      <td>False</td>\n",
       "      <td>False</td>\n",
       "    </tr>\n",
       "    <tr>\n",
       "      <th>3</th>\n",
       "      <td>Communication</td>\n",
       "      <td>5.0</td>\n",
       "      <td>5.0</td>\n",
       "      <td>10.0</td>\n",
       "      <td>True</td>\n",
       "      <td>0.0</td>\n",
       "      <td>1.8M</td>\n",
       "      <td>4.0.3 and up</td>\n",
       "      <td>Climate Smart Tech2</td>\n",
       "      <td>Sep 10, 2018</td>\n",
       "      <td>Oct 13, 2018</td>\n",
       "      <td>Everyone</td>\n",
       "      <td>True</td>\n",
       "      <td>False</td>\n",
       "    </tr>\n",
       "    <tr>\n",
       "      <th>4</th>\n",
       "      <td>Tools</td>\n",
       "      <td>0.0</td>\n",
       "      <td>0.0</td>\n",
       "      <td>100.0</td>\n",
       "      <td>True</td>\n",
       "      <td>0.0</td>\n",
       "      <td>6.2M</td>\n",
       "      <td>4.1 and up</td>\n",
       "      <td>Rafal Milek-Horodyski</td>\n",
       "      <td>Feb 21, 2020</td>\n",
       "      <td>Nov 12, 2018</td>\n",
       "      <td>Everyone</td>\n",
       "      <td>False</td>\n",
       "      <td>False</td>\n",
       "    </tr>\n",
       "  </tbody>\n",
       "</table>\n",
       "</div>"
      ],
      "text/plain": [
       "        Category  Rating  Rating Count  Minimum Installs  Free  Price  Size  \\\n",
       "0      Adventure     0.0           0.0              10.0  True    0.0   10M   \n",
       "1          Tools     4.4          64.0            5000.0  True    0.0  2.9M   \n",
       "2   Productivity     0.0           0.0              50.0  True    0.0  3.7M   \n",
       "3  Communication     5.0           5.0              10.0  True    0.0  1.8M   \n",
       "4          Tools     0.0           0.0             100.0  True    0.0  6.2M   \n",
       "\n",
       "  Minimum Android                       Developer Id      Released  \\\n",
       "0      7.1 and up  Jean Confident Irénée NIYIZIBYOSE  Feb 26, 2020   \n",
       "1      5.0 and up                         Webserveis  May 21, 2020   \n",
       "2    4.0.3 and up                         Cabin Crew   Aug 9, 2019   \n",
       "3    4.0.3 and up                Climate Smart Tech2  Sep 10, 2018   \n",
       "4      4.1 and up              Rafal Milek-Horodyski  Feb 21, 2020   \n",
       "\n",
       "   Last Updated Content Rating  Ad Supported  In App Purchases  \n",
       "0  Feb 26, 2020       Everyone         False             False  \n",
       "1  May 06, 2021       Everyone          True             False  \n",
       "2  Aug 19, 2019       Everyone         False             False  \n",
       "3  Oct 13, 2018       Everyone          True             False  \n",
       "4  Nov 12, 2018       Everyone         False             False  "
      ]
     },
     "execution_count": 10,
     "metadata": {},
     "output_type": "execute_result"
    }
   ],
   "source": [
    "data.drop(['App Name','App Id','Developer Website','Developer Email','Privacy Policy','Scraped Time','Installs','Maximum Installs','Editors Choice'],1,inplace=True)\n",
    "data.head()"
   ]
  },
  {
   "cell_type": "markdown",
   "metadata": {
    "id": "I0KUfaKLlSJx"
   },
   "source": [
    "- Analyse **Catagory**\n",
    "- Change the data type of **Minimum Installs** and **Minimum Installs**\n",
    "- Combine **Rating** and **Rating Count** as **Sum of Ratings**\n",
    "- One hot encode the column **Free**\n",
    "- Remove **M** in **Size** column and make it as float64\n",
    "- Remove the text in **Minimum Android** and make it as float64 data type and rename it\n",
    "- Check data types of **Released** and **Last Updated** \n",
    "- Analyse the column **Content Rating**\n",
    "- One hot encode the columns --> **Ad Supported, In App Purchase, Editors**\n"
   ]
  },
  {
   "cell_type": "code",
   "execution_count": 11,
   "metadata": {
    "colab": {
     "base_uri": "https://localhost:8080/"
    },
    "id": "L4I5BntKfsJk",
    "outputId": "4604ac5b-ec83-4fa6-8221-cd334a0a9fb9"
   },
   "outputs": [
    {
     "data": {
      "text/plain": [
       "Index(['Category', 'Rating', 'Rating Count', 'Minimum Installs', 'Free',\n",
       "       'Price', 'Size', 'Minimum Android', 'Developer Id', 'Released',\n",
       "       'Last Updated', 'Content Rating', 'Ad Supported', 'In App Purchases'],\n",
       "      dtype='object')"
      ]
     },
     "execution_count": 11,
     "metadata": {},
     "output_type": "execute_result"
    }
   ],
   "source": [
    "data.columns"
   ]
  },
  {
   "cell_type": "code",
   "execution_count": 12,
   "metadata": {
    "colab": {
     "base_uri": "https://localhost:8080/"
    },
    "id": "gKEQks9XgyH9",
    "outputId": "1dab10f3-1b76-4875-ccda-38e16dab896d"
   },
   "outputs": [
    {
     "data": {
      "text/plain": [
       "Everyone           2020913\n",
       "Teen                196224\n",
       "Mature 17+           60254\n",
       "Everyone 10+         33868\n",
       "Unrated                154\n",
       "Adults only 18+        135\n",
       "Name: Content Rating, dtype: int64"
      ]
     },
     "execution_count": 12,
     "metadata": {},
     "output_type": "execute_result"
    }
   ],
   "source": [
    "data['Content Rating'].value_counts()"
   ]
  },
  {
   "cell_type": "markdown",
   "metadata": {
    "id": "GmFyEQDr386Q"
   },
   "source": [
    "Can apply **One Hot Encoding**"
   ]
  },
  {
   "cell_type": "code",
   "execution_count": 13,
   "metadata": {
    "colab": {
     "base_uri": "https://localhost:8080/"
    },
    "id": "u1-3rfhBAIQX",
    "outputId": "1f0f6caa-9732-4e8f-c733-ee11108ddc6b"
   },
   "outputs": [
    {
     "name": "stdout",
     "output_type": "stream",
     "text": [
      "(2311548, 14)\n"
     ]
    },
    {
     "data": {
      "text/plain": [
       "(2288801, 14)"
      ]
     },
     "execution_count": 13,
     "metadata": {},
     "output_type": "execute_result"
    }
   ],
   "source": [
    "print(data.shape)\n",
    "data.dropna(subset=['Rating Count','Rating'],axis=0,inplace=True)\n",
    "data.shape"
   ]
  },
  {
   "cell_type": "markdown",
   "metadata": {
    "id": "onIZezV64Dz7"
   },
   "source": [
    "Dropping null values from **Rating Count and Rating** to create **Rating**"
   ]
  },
  {
   "cell_type": "code",
   "execution_count": 14,
   "metadata": {
    "colab": {
     "base_uri": "https://localhost:8080/",
     "height": 204
    },
    "id": "FuiAMR_h_q2h",
    "outputId": "a43afea7-723f-4555-d3ee-5441f2ca90d5"
   },
   "outputs": [
    {
     "data": {
      "text/html": [
       "<div>\n",
       "<style scoped>\n",
       "    .dataframe tbody tr th:only-of-type {\n",
       "        vertical-align: middle;\n",
       "    }\n",
       "\n",
       "    .dataframe tbody tr th {\n",
       "        vertical-align: top;\n",
       "    }\n",
       "\n",
       "    .dataframe thead th {\n",
       "        text-align: right;\n",
       "    }\n",
       "</style>\n",
       "<table border=\"1\" class=\"dataframe\">\n",
       "  <thead>\n",
       "    <tr style=\"text-align: right;\">\n",
       "      <th></th>\n",
       "      <th>Category</th>\n",
       "      <th>Rating</th>\n",
       "      <th>Rating Count</th>\n",
       "      <th>Minimum Installs</th>\n",
       "      <th>Free</th>\n",
       "      <th>Price</th>\n",
       "      <th>Size</th>\n",
       "      <th>Minimum Android</th>\n",
       "      <th>Developer Id</th>\n",
       "      <th>Released</th>\n",
       "      <th>Last Updated</th>\n",
       "      <th>Content Rating</th>\n",
       "      <th>Ad Supported</th>\n",
       "      <th>In App Purchases</th>\n",
       "      <th>Rating Sum</th>\n",
       "    </tr>\n",
       "  </thead>\n",
       "  <tbody>\n",
       "    <tr>\n",
       "      <th>0</th>\n",
       "      <td>Adventure</td>\n",
       "      <td>0.0</td>\n",
       "      <td>0</td>\n",
       "      <td>10.0</td>\n",
       "      <td>True</td>\n",
       "      <td>0.0</td>\n",
       "      <td>10M</td>\n",
       "      <td>7.1 and up</td>\n",
       "      <td>Jean Confident Irénée NIYIZIBYOSE</td>\n",
       "      <td>Feb 26, 2020</td>\n",
       "      <td>Feb 26, 2020</td>\n",
       "      <td>Everyone</td>\n",
       "      <td>False</td>\n",
       "      <td>False</td>\n",
       "      <td>0.0</td>\n",
       "    </tr>\n",
       "    <tr>\n",
       "      <th>1</th>\n",
       "      <td>Tools</td>\n",
       "      <td>4.4</td>\n",
       "      <td>64</td>\n",
       "      <td>5000.0</td>\n",
       "      <td>True</td>\n",
       "      <td>0.0</td>\n",
       "      <td>2.9M</td>\n",
       "      <td>5.0 and up</td>\n",
       "      <td>Webserveis</td>\n",
       "      <td>May 21, 2020</td>\n",
       "      <td>May 06, 2021</td>\n",
       "      <td>Everyone</td>\n",
       "      <td>True</td>\n",
       "      <td>False</td>\n",
       "      <td>281.6</td>\n",
       "    </tr>\n",
       "    <tr>\n",
       "      <th>2</th>\n",
       "      <td>Productivity</td>\n",
       "      <td>0.0</td>\n",
       "      <td>0</td>\n",
       "      <td>50.0</td>\n",
       "      <td>True</td>\n",
       "      <td>0.0</td>\n",
       "      <td>3.7M</td>\n",
       "      <td>4.0.3 and up</td>\n",
       "      <td>Cabin Crew</td>\n",
       "      <td>Aug 9, 2019</td>\n",
       "      <td>Aug 19, 2019</td>\n",
       "      <td>Everyone</td>\n",
       "      <td>False</td>\n",
       "      <td>False</td>\n",
       "      <td>0.0</td>\n",
       "    </tr>\n",
       "    <tr>\n",
       "      <th>3</th>\n",
       "      <td>Communication</td>\n",
       "      <td>5.0</td>\n",
       "      <td>5</td>\n",
       "      <td>10.0</td>\n",
       "      <td>True</td>\n",
       "      <td>0.0</td>\n",
       "      <td>1.8M</td>\n",
       "      <td>4.0.3 and up</td>\n",
       "      <td>Climate Smart Tech2</td>\n",
       "      <td>Sep 10, 2018</td>\n",
       "      <td>Oct 13, 2018</td>\n",
       "      <td>Everyone</td>\n",
       "      <td>True</td>\n",
       "      <td>False</td>\n",
       "      <td>25.0</td>\n",
       "    </tr>\n",
       "    <tr>\n",
       "      <th>4</th>\n",
       "      <td>Tools</td>\n",
       "      <td>0.0</td>\n",
       "      <td>0</td>\n",
       "      <td>100.0</td>\n",
       "      <td>True</td>\n",
       "      <td>0.0</td>\n",
       "      <td>6.2M</td>\n",
       "      <td>4.1 and up</td>\n",
       "      <td>Rafal Milek-Horodyski</td>\n",
       "      <td>Feb 21, 2020</td>\n",
       "      <td>Nov 12, 2018</td>\n",
       "      <td>Everyone</td>\n",
       "      <td>False</td>\n",
       "      <td>False</td>\n",
       "      <td>0.0</td>\n",
       "    </tr>\n",
       "  </tbody>\n",
       "</table>\n",
       "</div>"
      ],
      "text/plain": [
       "        Category  Rating  Rating Count  Minimum Installs  Free  Price  Size  \\\n",
       "0      Adventure     0.0             0              10.0  True    0.0   10M   \n",
       "1          Tools     4.4            64            5000.0  True    0.0  2.9M   \n",
       "2   Productivity     0.0             0              50.0  True    0.0  3.7M   \n",
       "3  Communication     5.0             5              10.0  True    0.0  1.8M   \n",
       "4          Tools     0.0             0             100.0  True    0.0  6.2M   \n",
       "\n",
       "  Minimum Android                       Developer Id      Released  \\\n",
       "0      7.1 and up  Jean Confident Irénée NIYIZIBYOSE  Feb 26, 2020   \n",
       "1      5.0 and up                         Webserveis  May 21, 2020   \n",
       "2    4.0.3 and up                         Cabin Crew   Aug 9, 2019   \n",
       "3    4.0.3 and up                Climate Smart Tech2  Sep 10, 2018   \n",
       "4      4.1 and up              Rafal Milek-Horodyski  Feb 21, 2020   \n",
       "\n",
       "   Last Updated Content Rating  Ad Supported  In App Purchases  Rating Sum  \n",
       "0  Feb 26, 2020       Everyone         False             False         0.0  \n",
       "1  May 06, 2021       Everyone          True             False       281.6  \n",
       "2  Aug 19, 2019       Everyone         False             False         0.0  \n",
       "3  Oct 13, 2018       Everyone          True             False        25.0  \n",
       "4  Nov 12, 2018       Everyone         False             False         0.0  "
      ]
     },
     "execution_count": 14,
     "metadata": {},
     "output_type": "execute_result"
    }
   ],
   "source": [
    "data['Rating Count'] = data['Rating Count'].astype(int)\n",
    "data['Rating Sum'] = data['Rating Count'] * data['Rating']\n",
    "data.head()"
   ]
  },
  {
   "cell_type": "code",
   "execution_count": 15,
   "metadata": {
    "id": "6jZ2xc21miYg"
   },
   "outputs": [],
   "source": [
    "data['Size'] = data['Size'].str.replace('M','')\n",
    "data['Size'] = data['Size'].str.replace(',','')\n",
    "data.drop(data[data['Size'] == 'Varies with device'].index, inplace = True)\n",
    "data.drop(data[data['Size'].str.contains(\"k\") == True].index, inplace = True)"
   ]
  },
  {
   "cell_type": "markdown",
   "metadata": {
    "id": "nSpMcz0u4abi"
   },
   "source": [
    "Dropping Unnecessory rows with respect to **Size** and replacing string values to null to make it as **float** data type"
   ]
  },
  {
   "cell_type": "code",
   "execution_count": 16,
   "metadata": {
    "colab": {
     "base_uri": "https://localhost:8080/"
    },
    "id": "RAaKZWpowlOp",
    "outputId": "4b633447-baeb-4f61-d2ff-e04ed81be6a3"
   },
   "outputs": [
    {
     "name": "stdout",
     "output_type": "stream",
     "text": [
      "13\n"
     ]
    }
   ],
   "source": [
    "index_lst_G = data[data['Size'].str.contains(\"G\") == True].index.to_list()\n",
    "print(len(index_lst_G))"
   ]
  },
  {
   "cell_type": "markdown",
   "metadata": {
    "id": "DWER1sav5Lry"
   },
   "source": [
    "Checking for number of rows with GB sized apps.\n",
    " >As it is less for is affordable to covert them into MB sized data"
   ]
  },
  {
   "cell_type": "code",
   "execution_count": 17,
   "metadata": {
    "id": "gbU0zP25yE9E"
   },
   "outputs": [],
   "source": [
    "for i in index_lst_G:\n",
    "    data.loc[i,'Size'] = data.loc[i,'Size'].replace('G','')\n",
    "    val = float(data.loc[i,'Size'])*1000\n",
    "    data.loc[i,'Size'] = str(val)"
   ]
  },
  {
   "cell_type": "code",
   "execution_count": 18,
   "metadata": {
    "id": "y9sdMQsrsJje"
   },
   "outputs": [],
   "source": [
    "data['Size'] = data['Size'].astype(float)"
   ]
  },
  {
   "cell_type": "markdown",
   "metadata": {
    "id": "IonR3zKx5dyC"
   },
   "source": [
    "Converting the data type of **Size**"
   ]
  },
  {
   "cell_type": "code",
   "execution_count": 19,
   "metadata": {
    "colab": {
     "base_uri": "https://localhost:8080/"
    },
    "id": "Y8pIywP1m5L5",
    "outputId": "ea7da2fc-e592-4433-a698-db7619f5b03e"
   },
   "outputs": [
    {
     "data": {
      "text/plain": [
       "0            7.1\n",
       "1            5.0\n",
       "2          4.0.3\n",
       "3          4.0.3\n",
       "4            4.1\n",
       "           ...  \n",
       "2311543      4.1\n",
       "2311544      4.1\n",
       "2311545      5.0\n",
       "2311546      5.0\n",
       "2311547      5.0\n",
       "Name: Minimum Android, Length: 2199515, dtype: object"
      ]
     },
     "execution_count": 19,
     "metadata": {},
     "output_type": "execute_result"
    }
   ],
   "source": [
    "data['Minimum Android'] = data['Minimum Android'].str.replace(' and up','')\n",
    "data['Minimum Android']"
   ]
  },
  {
   "cell_type": "markdown",
   "metadata": {
    "id": "GrF7YMs15sm4"
   },
   "source": [
    "Replacing Unnecessory Strings to empty String"
   ]
  },
  {
   "cell_type": "code",
   "execution_count": 20,
   "metadata": {
    "id": "yJ30LqfiAuib"
   },
   "outputs": [],
   "source": [
    "data.loc[data['Minimum Android'].str.count('.') == 5.0,'Minimum Android'] = data[data['Minimum Android'].str.count('.') == 5.0]['Minimum Android'].str[:-2]"
   ]
  },
  {
   "cell_type": "markdown",
   "metadata": {
    "id": "mp2Fv6DN5zGX"
   },
   "source": [
    "Trimming off the 3 Digit Versions to 2"
   ]
  },
  {
   "cell_type": "code",
   "execution_count": 21,
   "metadata": {
    "colab": {
     "base_uri": "https://localhost:8080/"
    },
    "id": "HtxJcTHdh0GY",
    "outputId": "0ced72b3-b22b-48be-ca1c-4afad4ee1ac9"
   },
   "outputs": [
    {
     "name": "stdout",
     "output_type": "stream",
     "text": [
      "(2199515, 15)\n"
     ]
    },
    {
     "data": {
      "text/plain": [
       "(2197783, 15)"
      ]
     },
     "execution_count": 21,
     "metadata": {},
     "output_type": "execute_result"
    }
   ],
   "source": [
    "data['Minimum Android'] = data['Minimum Android'].str.replace('W','')\n",
    "print(data.shape)\n",
    "data.drop(data[data['Minimum Android'] == 'Varies with device'].index, inplace = True)\n",
    "data.shape"
   ]
  },
  {
   "cell_type": "markdown",
   "metadata": {
    "id": "L3n2ru5562ho"
   },
   "source": [
    "Dropping and replacing of unwanted strings"
   ]
  },
  {
   "cell_type": "code",
   "execution_count": 22,
   "metadata": {
    "colab": {
     "base_uri": "https://localhost:8080/"
    },
    "id": "_YlSyjfKiWhE",
    "outputId": "87676c23-844a-4531-f00d-722991447e4e"
   },
   "outputs": [
    {
     "data": {
      "text/plain": [
       "2151       4.0.3 - 7.1.1\n",
       "13638          4.4 - 6.0\n",
       "18530          2.1 - 4.4\n",
       "20993          4.0 - 5.0\n",
       "24147        2.0 - 2.3.4\n",
       "               ...      \n",
       "2282236        4.0 - 6.0\n",
       "2282337        2.3 - 4.4\n",
       "2299017        4.0 - 6.0\n",
       "2302402      4.0.3 - 6.0\n",
       "2303669      4.0.3 - 6.0\n",
       "Name: Minimum Android, Length: 383, dtype: object"
      ]
     },
     "execution_count": 22,
     "metadata": {},
     "output_type": "execute_result"
    }
   ],
   "source": [
    "data[data['Minimum Android'].str.count('.') > 5.0]['Minimum Android']"
   ]
  },
  {
   "cell_type": "code",
   "execution_count": 23,
   "metadata": {
    "id": "ZqpJJL-7iqBa"
   },
   "outputs": [],
   "source": [
    "data.drop(data[data['Minimum Android'].str.count('.') > 5.0]['Minimum Android'].index, inplace = True)"
   ]
  },
  {
   "cell_type": "markdown",
   "metadata": {
    "id": "GlGr-c4G683w"
   },
   "source": [
    "As the number of rows which has complex versions are less, we **Drop** them"
   ]
  },
  {
   "cell_type": "code",
   "execution_count": 24,
   "metadata": {
    "colab": {
     "base_uri": "https://localhost:8080/",
     "height": 606
    },
    "id": "6URTCXw5f5Pd",
    "outputId": "50660008-ac66-44d8-f0a5-644b8df86462"
   },
   "outputs": [
    {
     "data": {
      "text/html": [
       "<div>\n",
       "<style scoped>\n",
       "    .dataframe tbody tr th:only-of-type {\n",
       "        vertical-align: middle;\n",
       "    }\n",
       "\n",
       "    .dataframe tbody tr th {\n",
       "        vertical-align: top;\n",
       "    }\n",
       "\n",
       "    .dataframe thead th {\n",
       "        text-align: right;\n",
       "    }\n",
       "</style>\n",
       "<table border=\"1\" class=\"dataframe\">\n",
       "  <thead>\n",
       "    <tr style=\"text-align: right;\">\n",
       "      <th></th>\n",
       "      <th>Category</th>\n",
       "      <th>Rating</th>\n",
       "      <th>Rating Count</th>\n",
       "      <th>Minimum Installs</th>\n",
       "      <th>Free</th>\n",
       "      <th>Price</th>\n",
       "      <th>Size</th>\n",
       "      <th>Minimum Android</th>\n",
       "      <th>Developer Id</th>\n",
       "      <th>Released</th>\n",
       "      <th>Last Updated</th>\n",
       "      <th>Content Rating</th>\n",
       "      <th>Ad Supported</th>\n",
       "      <th>In App Purchases</th>\n",
       "      <th>Rating Sum</th>\n",
       "    </tr>\n",
       "  </thead>\n",
       "  <tbody>\n",
       "    <tr>\n",
       "      <th>0</th>\n",
       "      <td>Adventure</td>\n",
       "      <td>0.0</td>\n",
       "      <td>0</td>\n",
       "      <td>10.0</td>\n",
       "      <td>True</td>\n",
       "      <td>0.0</td>\n",
       "      <td>10.0</td>\n",
       "      <td>7.1</td>\n",
       "      <td>Jean Confident Irénée NIYIZIBYOSE</td>\n",
       "      <td>Feb 26, 2020</td>\n",
       "      <td>Feb 26, 2020</td>\n",
       "      <td>Everyone</td>\n",
       "      <td>False</td>\n",
       "      <td>False</td>\n",
       "      <td>0.0</td>\n",
       "    </tr>\n",
       "    <tr>\n",
       "      <th>1</th>\n",
       "      <td>Tools</td>\n",
       "      <td>4.4</td>\n",
       "      <td>64</td>\n",
       "      <td>5000.0</td>\n",
       "      <td>True</td>\n",
       "      <td>0.0</td>\n",
       "      <td>2.9</td>\n",
       "      <td>5.0</td>\n",
       "      <td>Webserveis</td>\n",
       "      <td>May 21, 2020</td>\n",
       "      <td>May 06, 2021</td>\n",
       "      <td>Everyone</td>\n",
       "      <td>True</td>\n",
       "      <td>False</td>\n",
       "      <td>281.6</td>\n",
       "    </tr>\n",
       "    <tr>\n",
       "      <th>2</th>\n",
       "      <td>Productivity</td>\n",
       "      <td>0.0</td>\n",
       "      <td>0</td>\n",
       "      <td>50.0</td>\n",
       "      <td>True</td>\n",
       "      <td>0.0</td>\n",
       "      <td>3.7</td>\n",
       "      <td>4.0</td>\n",
       "      <td>Cabin Crew</td>\n",
       "      <td>Aug 9, 2019</td>\n",
       "      <td>Aug 19, 2019</td>\n",
       "      <td>Everyone</td>\n",
       "      <td>False</td>\n",
       "      <td>False</td>\n",
       "      <td>0.0</td>\n",
       "    </tr>\n",
       "    <tr>\n",
       "      <th>3</th>\n",
       "      <td>Communication</td>\n",
       "      <td>5.0</td>\n",
       "      <td>5</td>\n",
       "      <td>10.0</td>\n",
       "      <td>True</td>\n",
       "      <td>0.0</td>\n",
       "      <td>1.8</td>\n",
       "      <td>4.0</td>\n",
       "      <td>Climate Smart Tech2</td>\n",
       "      <td>Sep 10, 2018</td>\n",
       "      <td>Oct 13, 2018</td>\n",
       "      <td>Everyone</td>\n",
       "      <td>True</td>\n",
       "      <td>False</td>\n",
       "      <td>25.0</td>\n",
       "    </tr>\n",
       "    <tr>\n",
       "      <th>4</th>\n",
       "      <td>Tools</td>\n",
       "      <td>0.0</td>\n",
       "      <td>0</td>\n",
       "      <td>100.0</td>\n",
       "      <td>True</td>\n",
       "      <td>0.0</td>\n",
       "      <td>6.2</td>\n",
       "      <td>4.1</td>\n",
       "      <td>Rafal Milek-Horodyski</td>\n",
       "      <td>Feb 21, 2020</td>\n",
       "      <td>Nov 12, 2018</td>\n",
       "      <td>Everyone</td>\n",
       "      <td>False</td>\n",
       "      <td>False</td>\n",
       "      <td>0.0</td>\n",
       "    </tr>\n",
       "    <tr>\n",
       "      <th>...</th>\n",
       "      <td>...</td>\n",
       "      <td>...</td>\n",
       "      <td>...</td>\n",
       "      <td>...</td>\n",
       "      <td>...</td>\n",
       "      <td>...</td>\n",
       "      <td>...</td>\n",
       "      <td>...</td>\n",
       "      <td>...</td>\n",
       "      <td>...</td>\n",
       "      <td>...</td>\n",
       "      <td>...</td>\n",
       "      <td>...</td>\n",
       "      <td>...</td>\n",
       "      <td>...</td>\n",
       "    </tr>\n",
       "    <tr>\n",
       "      <th>2311543</th>\n",
       "      <td>Role Playing</td>\n",
       "      <td>4.3</td>\n",
       "      <td>16775</td>\n",
       "      <td>100000.0</td>\n",
       "      <td>True</td>\n",
       "      <td>0.0</td>\n",
       "      <td>77.0</td>\n",
       "      <td>4.1</td>\n",
       "      <td>ALICE GAME</td>\n",
       "      <td>NaN</td>\n",
       "      <td>Jun 01, 2021</td>\n",
       "      <td>Teen</td>\n",
       "      <td>False</td>\n",
       "      <td>False</td>\n",
       "      <td>72132.5</td>\n",
       "    </tr>\n",
       "    <tr>\n",
       "      <th>2311544</th>\n",
       "      <td>Education</td>\n",
       "      <td>0.0</td>\n",
       "      <td>0</td>\n",
       "      <td>100.0</td>\n",
       "      <td>True</td>\n",
       "      <td>0.0</td>\n",
       "      <td>44.0</td>\n",
       "      <td>4.1</td>\n",
       "      <td>3Dream Studios, LLC</td>\n",
       "      <td>Jan 17, 2018</td>\n",
       "      <td>Feb 02, 2018</td>\n",
       "      <td>Everyone</td>\n",
       "      <td>False</td>\n",
       "      <td>False</td>\n",
       "      <td>0.0</td>\n",
       "    </tr>\n",
       "    <tr>\n",
       "      <th>2311545</th>\n",
       "      <td>Education</td>\n",
       "      <td>0.0</td>\n",
       "      <td>0</td>\n",
       "      <td>100.0</td>\n",
       "      <td>True</td>\n",
       "      <td>0.0</td>\n",
       "      <td>29.0</td>\n",
       "      <td>5.0</td>\n",
       "      <td>appoworld</td>\n",
       "      <td>Aug 19, 2018</td>\n",
       "      <td>Aug 19, 2018</td>\n",
       "      <td>Everyone</td>\n",
       "      <td>False</td>\n",
       "      <td>False</td>\n",
       "      <td>0.0</td>\n",
       "    </tr>\n",
       "    <tr>\n",
       "      <th>2311546</th>\n",
       "      <td>Music &amp; Audio</td>\n",
       "      <td>3.5</td>\n",
       "      <td>8</td>\n",
       "      <td>1000.0</td>\n",
       "      <td>True</td>\n",
       "      <td>0.0</td>\n",
       "      <td>10.0</td>\n",
       "      <td>5.0</td>\n",
       "      <td>Bhakti</td>\n",
       "      <td>Aug 1, 2016</td>\n",
       "      <td>May 05, 2021</td>\n",
       "      <td>Everyone</td>\n",
       "      <td>True</td>\n",
       "      <td>False</td>\n",
       "      <td>28.0</td>\n",
       "    </tr>\n",
       "    <tr>\n",
       "      <th>2311547</th>\n",
       "      <td>Trivia</td>\n",
       "      <td>5.0</td>\n",
       "      <td>12</td>\n",
       "      <td>100.0</td>\n",
       "      <td>True</td>\n",
       "      <td>0.0</td>\n",
       "      <td>5.2</td>\n",
       "      <td>5.0</td>\n",
       "      <td>Y Yazılım</td>\n",
       "      <td>Aug 9, 2019</td>\n",
       "      <td>Aug 19, 2019</td>\n",
       "      <td>Everyone</td>\n",
       "      <td>True</td>\n",
       "      <td>False</td>\n",
       "      <td>60.0</td>\n",
       "    </tr>\n",
       "  </tbody>\n",
       "</table>\n",
       "<p>2197400 rows × 15 columns</p>\n",
       "</div>"
      ],
      "text/plain": [
       "              Category  Rating  Rating Count  Minimum Installs  Free  Price  \\\n",
       "0            Adventure     0.0             0              10.0  True    0.0   \n",
       "1                Tools     4.4            64            5000.0  True    0.0   \n",
       "2         Productivity     0.0             0              50.0  True    0.0   \n",
       "3        Communication     5.0             5              10.0  True    0.0   \n",
       "4                Tools     0.0             0             100.0  True    0.0   \n",
       "...                ...     ...           ...               ...   ...    ...   \n",
       "2311543   Role Playing     4.3         16775          100000.0  True    0.0   \n",
       "2311544      Education     0.0             0             100.0  True    0.0   \n",
       "2311545      Education     0.0             0             100.0  True    0.0   \n",
       "2311546  Music & Audio     3.5             8            1000.0  True    0.0   \n",
       "2311547         Trivia     5.0            12             100.0  True    0.0   \n",
       "\n",
       "         Size Minimum Android                       Developer Id  \\\n",
       "0        10.0             7.1  Jean Confident Irénée NIYIZIBYOSE   \n",
       "1         2.9             5.0                         Webserveis   \n",
       "2         3.7             4.0                         Cabin Crew   \n",
       "3         1.8             4.0                Climate Smart Tech2   \n",
       "4         6.2             4.1              Rafal Milek-Horodyski   \n",
       "...       ...             ...                                ...   \n",
       "2311543  77.0             4.1                         ALICE GAME   \n",
       "2311544  44.0             4.1                3Dream Studios, LLC   \n",
       "2311545  29.0             5.0                          appoworld   \n",
       "2311546  10.0             5.0                             Bhakti   \n",
       "2311547   5.2             5.0                          Y Yazılım   \n",
       "\n",
       "             Released  Last Updated Content Rating  Ad Supported  \\\n",
       "0        Feb 26, 2020  Feb 26, 2020       Everyone         False   \n",
       "1        May 21, 2020  May 06, 2021       Everyone          True   \n",
       "2         Aug 9, 2019  Aug 19, 2019       Everyone         False   \n",
       "3        Sep 10, 2018  Oct 13, 2018       Everyone          True   \n",
       "4        Feb 21, 2020  Nov 12, 2018       Everyone         False   \n",
       "...               ...           ...            ...           ...   \n",
       "2311543           NaN  Jun 01, 2021           Teen         False   \n",
       "2311544  Jan 17, 2018  Feb 02, 2018       Everyone         False   \n",
       "2311545  Aug 19, 2018  Aug 19, 2018       Everyone         False   \n",
       "2311546   Aug 1, 2016  May 05, 2021       Everyone          True   \n",
       "2311547   Aug 9, 2019  Aug 19, 2019       Everyone          True   \n",
       "\n",
       "         In App Purchases  Rating Sum  \n",
       "0                   False         0.0  \n",
       "1                   False       281.6  \n",
       "2                   False         0.0  \n",
       "3                   False        25.0  \n",
       "4                   False         0.0  \n",
       "...                   ...         ...  \n",
       "2311543             False     72132.5  \n",
       "2311544             False         0.0  \n",
       "2311545             False         0.0  \n",
       "2311546             False        28.0  \n",
       "2311547             False        60.0  \n",
       "\n",
       "[2197400 rows x 15 columns]"
      ]
     },
     "execution_count": 24,
     "metadata": {},
     "output_type": "execute_result"
    }
   ],
   "source": [
    "data"
   ]
  },
  {
   "cell_type": "code",
   "execution_count": 25,
   "metadata": {
    "id": "-4uPgPQYhf5P"
   },
   "outputs": [],
   "source": [
    "data['Minimum Android'] = data['Minimum Android'].astype(float)"
   ]
  },
  {
   "cell_type": "code",
   "execution_count": 26,
   "metadata": {
    "id": "f7QNRw_9oYUC"
   },
   "outputs": [],
   "source": [
    "data['Minimum Installs'] = data['Minimum Installs'].astype(int)"
   ]
  },
  {
   "cell_type": "code",
   "execution_count": 27,
   "metadata": {
    "id": "tdTbGCQ93CVk"
   },
   "outputs": [],
   "source": [
    "data['Released'] = pd.to_datetime(data['Released'])\n",
    "data['Last Updated'] = pd.to_datetime(data['Last Updated'])"
   ]
  },
  {
   "cell_type": "markdown",
   "metadata": {
    "id": "P1MJgs1v7Iz9"
   },
   "source": [
    "Changing of data types"
   ]
  },
  {
   "cell_type": "code",
   "execution_count": 28,
   "metadata": {
    "colab": {
     "base_uri": "https://localhost:8080/"
    },
    "id": "wsqeMcnnpigL",
    "outputId": "7392fbcd-95d0-4a5e-a9a5-78135d3178ef"
   },
   "outputs": [
    {
     "data": {
      "text/plain": [
       "Category                    object\n",
       "Rating                     float64\n",
       "Rating Count                 int32\n",
       "Minimum Installs             int32\n",
       "Free                          bool\n",
       "Price                      float64\n",
       "Size                       float64\n",
       "Minimum Android            float64\n",
       "Developer Id                object\n",
       "Released            datetime64[ns]\n",
       "Last Updated        datetime64[ns]\n",
       "Content Rating              object\n",
       "Ad Supported                  bool\n",
       "In App Purchases              bool\n",
       "Rating Sum                 float64\n",
       "dtype: object"
      ]
     },
     "execution_count": 28,
     "metadata": {},
     "output_type": "execute_result"
    }
   ],
   "source": [
    "data.dtypes"
   ]
  },
  {
   "cell_type": "code",
   "execution_count": 29,
   "metadata": {
    "colab": {
     "base_uri": "https://localhost:8080/",
     "height": 306
    },
    "id": "LpIRuTVD8IrZ",
    "outputId": "04c7100f-72eb-49bc-dd0b-ab399b843b97"
   },
   "outputs": [
    {
     "data": {
      "text/html": [
       "<div>\n",
       "<style scoped>\n",
       "    .dataframe tbody tr th:only-of-type {\n",
       "        vertical-align: middle;\n",
       "    }\n",
       "\n",
       "    .dataframe tbody tr th {\n",
       "        vertical-align: top;\n",
       "    }\n",
       "\n",
       "    .dataframe thead th {\n",
       "        text-align: right;\n",
       "    }\n",
       "</style>\n",
       "<table border=\"1\" class=\"dataframe\">\n",
       "  <thead>\n",
       "    <tr style=\"text-align: right;\">\n",
       "      <th></th>\n",
       "      <th>Category</th>\n",
       "      <th>Rating</th>\n",
       "      <th>Rating Count</th>\n",
       "      <th>Minimum Installs</th>\n",
       "      <th>Free</th>\n",
       "      <th>Price</th>\n",
       "      <th>Size</th>\n",
       "      <th>Minimum Android</th>\n",
       "      <th>Developer Id</th>\n",
       "      <th>Released</th>\n",
       "      <th>Last Updated</th>\n",
       "      <th>Content Rating</th>\n",
       "      <th>Ad Supported</th>\n",
       "      <th>In App Purchases</th>\n",
       "      <th>Rating Sum</th>\n",
       "    </tr>\n",
       "  </thead>\n",
       "  <tbody>\n",
       "    <tr>\n",
       "      <th>0</th>\n",
       "      <td>Adventure</td>\n",
       "      <td>0.0</td>\n",
       "      <td>0</td>\n",
       "      <td>10</td>\n",
       "      <td>True</td>\n",
       "      <td>0.0</td>\n",
       "      <td>10.0</td>\n",
       "      <td>7.1</td>\n",
       "      <td>Jean Confident Irénée NIYIZIBYOSE</td>\n",
       "      <td>2020-02-26</td>\n",
       "      <td>2020-02-26</td>\n",
       "      <td>Everyone</td>\n",
       "      <td>False</td>\n",
       "      <td>False</td>\n",
       "      <td>0.0</td>\n",
       "    </tr>\n",
       "    <tr>\n",
       "      <th>1</th>\n",
       "      <td>Tools</td>\n",
       "      <td>4.4</td>\n",
       "      <td>64</td>\n",
       "      <td>5000</td>\n",
       "      <td>True</td>\n",
       "      <td>0.0</td>\n",
       "      <td>2.9</td>\n",
       "      <td>5.0</td>\n",
       "      <td>Webserveis</td>\n",
       "      <td>2020-05-21</td>\n",
       "      <td>2021-05-06</td>\n",
       "      <td>Everyone</td>\n",
       "      <td>True</td>\n",
       "      <td>False</td>\n",
       "      <td>281.6</td>\n",
       "    </tr>\n",
       "    <tr>\n",
       "      <th>2</th>\n",
       "      <td>Productivity</td>\n",
       "      <td>0.0</td>\n",
       "      <td>0</td>\n",
       "      <td>50</td>\n",
       "      <td>True</td>\n",
       "      <td>0.0</td>\n",
       "      <td>3.7</td>\n",
       "      <td>4.0</td>\n",
       "      <td>Cabin Crew</td>\n",
       "      <td>2019-08-09</td>\n",
       "      <td>2019-08-19</td>\n",
       "      <td>Everyone</td>\n",
       "      <td>False</td>\n",
       "      <td>False</td>\n",
       "      <td>0.0</td>\n",
       "    </tr>\n",
       "    <tr>\n",
       "      <th>3</th>\n",
       "      <td>Communication</td>\n",
       "      <td>5.0</td>\n",
       "      <td>5</td>\n",
       "      <td>10</td>\n",
       "      <td>True</td>\n",
       "      <td>0.0</td>\n",
       "      <td>1.8</td>\n",
       "      <td>4.0</td>\n",
       "      <td>Climate Smart Tech2</td>\n",
       "      <td>2018-09-10</td>\n",
       "      <td>2018-10-13</td>\n",
       "      <td>Everyone</td>\n",
       "      <td>True</td>\n",
       "      <td>False</td>\n",
       "      <td>25.0</td>\n",
       "    </tr>\n",
       "    <tr>\n",
       "      <th>4</th>\n",
       "      <td>Tools</td>\n",
       "      <td>0.0</td>\n",
       "      <td>0</td>\n",
       "      <td>100</td>\n",
       "      <td>True</td>\n",
       "      <td>0.0</td>\n",
       "      <td>6.2</td>\n",
       "      <td>4.1</td>\n",
       "      <td>Rafal Milek-Horodyski</td>\n",
       "      <td>2020-02-21</td>\n",
       "      <td>2018-11-12</td>\n",
       "      <td>Everyone</td>\n",
       "      <td>False</td>\n",
       "      <td>False</td>\n",
       "      <td>0.0</td>\n",
       "    </tr>\n",
       "  </tbody>\n",
       "</table>\n",
       "</div>"
      ],
      "text/plain": [
       "        Category  Rating  Rating Count  Minimum Installs  Free  Price  Size  \\\n",
       "0      Adventure     0.0             0                10  True    0.0  10.0   \n",
       "1          Tools     4.4            64              5000  True    0.0   2.9   \n",
       "2   Productivity     0.0             0                50  True    0.0   3.7   \n",
       "3  Communication     5.0             5                10  True    0.0   1.8   \n",
       "4          Tools     0.0             0               100  True    0.0   6.2   \n",
       "\n",
       "   Minimum Android                       Developer Id   Released Last Updated  \\\n",
       "0              7.1  Jean Confident Irénée NIYIZIBYOSE 2020-02-26   2020-02-26   \n",
       "1              5.0                         Webserveis 2020-05-21   2021-05-06   \n",
       "2              4.0                         Cabin Crew 2019-08-09   2019-08-19   \n",
       "3              4.0                Climate Smart Tech2 2018-09-10   2018-10-13   \n",
       "4              4.1              Rafal Milek-Horodyski 2020-02-21   2018-11-12   \n",
       "\n",
       "  Content Rating  Ad Supported  In App Purchases  Rating Sum  \n",
       "0       Everyone         False             False         0.0  \n",
       "1       Everyone          True             False       281.6  \n",
       "2       Everyone         False             False         0.0  \n",
       "3       Everyone          True             False        25.0  \n",
       "4       Everyone         False             False         0.0  "
      ]
     },
     "execution_count": 29,
     "metadata": {},
     "output_type": "execute_result"
    }
   ],
   "source": [
    "data.head()"
   ]
  },
  {
   "cell_type": "code",
   "execution_count": 30,
   "metadata": {
    "colab": {
     "base_uri": "https://localhost:8080/"
    },
    "id": "hsegymzmnASS",
    "outputId": "fddd7b6c-e828-4077-eda3-ed38404142fd"
   },
   "outputs": [
    {
     "data": {
      "text/plain": [
       "Category                0\n",
       "Rating                  0\n",
       "Rating Count            0\n",
       "Minimum Installs        0\n",
       "Free                    0\n",
       "Price                   0\n",
       "Size                    0\n",
       "Minimum Android      6282\n",
       "Developer Id           30\n",
       "Released            45512\n",
       "Last Updated            0\n",
       "Content Rating          0\n",
       "Ad Supported            0\n",
       "In App Purchases        0\n",
       "Rating Sum              0\n",
       "dtype: int64"
      ]
     },
     "execution_count": 30,
     "metadata": {},
     "output_type": "execute_result"
    }
   ],
   "source": [
    "data.isna().sum()"
   ]
  },
  {
   "cell_type": "markdown",
   "metadata": {
    "id": "tF6BAC1o71rN"
   },
   "source": [
    "Finally checking and Dropping Null values"
   ]
  },
  {
   "cell_type": "code",
   "execution_count": 31,
   "metadata": {
    "colab": {
     "base_uri": "https://localhost:8080/"
    },
    "id": "1f7RI_EOqiML",
    "outputId": "37164ddc-2561-4e97-8110-14a2c5f957dc"
   },
   "outputs": [
    {
     "data": {
      "text/plain": [
       "(2197400, 15)"
      ]
     },
     "execution_count": 31,
     "metadata": {},
     "output_type": "execute_result"
    }
   ],
   "source": [
    "data.shape"
   ]
  },
  {
   "cell_type": "code",
   "execution_count": 32,
   "metadata": {
    "colab": {
     "base_uri": "https://localhost:8080/"
    },
    "id": "omp37QDGnH2Z",
    "outputId": "01037cf7-d9f7-4616-acff-96def018d56a"
   },
   "outputs": [
    {
     "data": {
      "text/plain": [
       "(2145742, 15)"
      ]
     },
     "execution_count": 32,
     "metadata": {},
     "output_type": "execute_result"
    }
   ],
   "source": [
    "data.dropna(axis = 0, inplace = True)\n",
    "data.shape"
   ]
  },
  {
   "cell_type": "code",
   "execution_count": 33,
   "metadata": {
    "colab": {
     "base_uri": "https://localhost:8080/"
    },
    "id": "CnuepWhQtEEp",
    "outputId": "60405dea-109f-4200-f212-e57fe213cdfc"
   },
   "outputs": [
    {
     "name": "stdout",
     "output_type": "stream",
     "text": [
      "[]\n",
      "[]\n",
      "[]\n"
     ]
    }
   ],
   "source": [
    "for i in [\"Category\",\"Content Rating\",\"Developer Id\"]:\n",
    "    print(data[data[i] == ''].index.to_list())"
   ]
  },
  {
   "cell_type": "code",
   "execution_count": 34,
   "metadata": {
    "colab": {
     "base_uri": "https://localhost:8080/"
    },
    "id": "w5HAZMCw8pvX",
    "outputId": "ba97769d-784c-406d-b52d-0a2760d4a71d"
   },
   "outputs": [
    {
     "name": "stdout",
     "output_type": "stream",
     "text": [
      "[]\n",
      "[]\n"
     ]
    }
   ],
   "source": [
    "for i in [\"Size\",\"Minimum Android\"]:\n",
    "    print(data[data[i] == 0.0].index.to_list())"
   ]
  },
  {
   "cell_type": "markdown",
   "metadata": {
    "id": "2Dhzp8tv8j0X"
   },
   "source": [
    "Checking for **Hidden Null values**"
   ]
  },
  {
   "cell_type": "code",
   "execution_count": 35,
   "metadata": {
    "colab": {
     "base_uri": "https://localhost:8080/",
     "height": 606
    },
    "id": "82iBjk6Pw82j",
    "outputId": "5edf681f-c62d-4753-a713-83c29f6f16b2"
   },
   "outputs": [
    {
     "data": {
      "text/html": [
       "<div>\n",
       "<style scoped>\n",
       "    .dataframe tbody tr th:only-of-type {\n",
       "        vertical-align: middle;\n",
       "    }\n",
       "\n",
       "    .dataframe tbody tr th {\n",
       "        vertical-align: top;\n",
       "    }\n",
       "\n",
       "    .dataframe thead th {\n",
       "        text-align: right;\n",
       "    }\n",
       "</style>\n",
       "<table border=\"1\" class=\"dataframe\">\n",
       "  <thead>\n",
       "    <tr style=\"text-align: right;\">\n",
       "      <th></th>\n",
       "      <th>Category</th>\n",
       "      <th>Rating</th>\n",
       "      <th>Rating Count</th>\n",
       "      <th>Minimum Installs</th>\n",
       "      <th>Free</th>\n",
       "      <th>Price</th>\n",
       "      <th>Size</th>\n",
       "      <th>Minimum Android</th>\n",
       "      <th>Developer Id</th>\n",
       "      <th>Released</th>\n",
       "      <th>Last Updated</th>\n",
       "      <th>Content Rating</th>\n",
       "      <th>Ad Supported</th>\n",
       "      <th>In App Purchases</th>\n",
       "      <th>Rating Sum</th>\n",
       "    </tr>\n",
       "  </thead>\n",
       "  <tbody>\n",
       "    <tr>\n",
       "      <th>0</th>\n",
       "      <td>Adventure</td>\n",
       "      <td>0.0</td>\n",
       "      <td>0</td>\n",
       "      <td>10</td>\n",
       "      <td>True</td>\n",
       "      <td>0.0</td>\n",
       "      <td>10.0</td>\n",
       "      <td>7.1</td>\n",
       "      <td>Jean Confident Irénée NIYIZIBYOSE</td>\n",
       "      <td>2020-02-26</td>\n",
       "      <td>2020-02-26</td>\n",
       "      <td>Everyone</td>\n",
       "      <td>False</td>\n",
       "      <td>False</td>\n",
       "      <td>0.0</td>\n",
       "    </tr>\n",
       "    <tr>\n",
       "      <th>1</th>\n",
       "      <td>Tools</td>\n",
       "      <td>4.4</td>\n",
       "      <td>64</td>\n",
       "      <td>5000</td>\n",
       "      <td>True</td>\n",
       "      <td>0.0</td>\n",
       "      <td>2.9</td>\n",
       "      <td>5.0</td>\n",
       "      <td>Webserveis</td>\n",
       "      <td>2020-05-21</td>\n",
       "      <td>2021-05-06</td>\n",
       "      <td>Everyone</td>\n",
       "      <td>True</td>\n",
       "      <td>False</td>\n",
       "      <td>281.6</td>\n",
       "    </tr>\n",
       "    <tr>\n",
       "      <th>2</th>\n",
       "      <td>Productivity</td>\n",
       "      <td>0.0</td>\n",
       "      <td>0</td>\n",
       "      <td>50</td>\n",
       "      <td>True</td>\n",
       "      <td>0.0</td>\n",
       "      <td>3.7</td>\n",
       "      <td>4.0</td>\n",
       "      <td>Cabin Crew</td>\n",
       "      <td>2019-08-09</td>\n",
       "      <td>2019-08-19</td>\n",
       "      <td>Everyone</td>\n",
       "      <td>False</td>\n",
       "      <td>False</td>\n",
       "      <td>0.0</td>\n",
       "    </tr>\n",
       "    <tr>\n",
       "      <th>3</th>\n",
       "      <td>Communication</td>\n",
       "      <td>5.0</td>\n",
       "      <td>5</td>\n",
       "      <td>10</td>\n",
       "      <td>True</td>\n",
       "      <td>0.0</td>\n",
       "      <td>1.8</td>\n",
       "      <td>4.0</td>\n",
       "      <td>Climate Smart Tech2</td>\n",
       "      <td>2018-09-10</td>\n",
       "      <td>2018-10-13</td>\n",
       "      <td>Everyone</td>\n",
       "      <td>True</td>\n",
       "      <td>False</td>\n",
       "      <td>25.0</td>\n",
       "    </tr>\n",
       "    <tr>\n",
       "      <th>4</th>\n",
       "      <td>Tools</td>\n",
       "      <td>0.0</td>\n",
       "      <td>0</td>\n",
       "      <td>100</td>\n",
       "      <td>True</td>\n",
       "      <td>0.0</td>\n",
       "      <td>6.2</td>\n",
       "      <td>4.1</td>\n",
       "      <td>Rafal Milek-Horodyski</td>\n",
       "      <td>2020-02-21</td>\n",
       "      <td>2018-11-12</td>\n",
       "      <td>Everyone</td>\n",
       "      <td>False</td>\n",
       "      <td>False</td>\n",
       "      <td>0.0</td>\n",
       "    </tr>\n",
       "    <tr>\n",
       "      <th>...</th>\n",
       "      <td>...</td>\n",
       "      <td>...</td>\n",
       "      <td>...</td>\n",
       "      <td>...</td>\n",
       "      <td>...</td>\n",
       "      <td>...</td>\n",
       "      <td>...</td>\n",
       "      <td>...</td>\n",
       "      <td>...</td>\n",
       "      <td>...</td>\n",
       "      <td>...</td>\n",
       "      <td>...</td>\n",
       "      <td>...</td>\n",
       "      <td>...</td>\n",
       "      <td>...</td>\n",
       "    </tr>\n",
       "    <tr>\n",
       "      <th>2311542</th>\n",
       "      <td>Education</td>\n",
       "      <td>3.4</td>\n",
       "      <td>17</td>\n",
       "      <td>1000</td>\n",
       "      <td>True</td>\n",
       "      <td>0.0</td>\n",
       "      <td>10.0</td>\n",
       "      <td>4.1</td>\n",
       "      <td>Julio Augusto Vera</td>\n",
       "      <td>2018-05-22</td>\n",
       "      <td>2018-12-14</td>\n",
       "      <td>Everyone</td>\n",
       "      <td>True</td>\n",
       "      <td>False</td>\n",
       "      <td>57.8</td>\n",
       "    </tr>\n",
       "    <tr>\n",
       "      <th>2311544</th>\n",
       "      <td>Education</td>\n",
       "      <td>0.0</td>\n",
       "      <td>0</td>\n",
       "      <td>100</td>\n",
       "      <td>True</td>\n",
       "      <td>0.0</td>\n",
       "      <td>44.0</td>\n",
       "      <td>4.1</td>\n",
       "      <td>3Dream Studios, LLC</td>\n",
       "      <td>2018-01-17</td>\n",
       "      <td>2018-02-02</td>\n",
       "      <td>Everyone</td>\n",
       "      <td>False</td>\n",
       "      <td>False</td>\n",
       "      <td>0.0</td>\n",
       "    </tr>\n",
       "    <tr>\n",
       "      <th>2311545</th>\n",
       "      <td>Education</td>\n",
       "      <td>0.0</td>\n",
       "      <td>0</td>\n",
       "      <td>100</td>\n",
       "      <td>True</td>\n",
       "      <td>0.0</td>\n",
       "      <td>29.0</td>\n",
       "      <td>5.0</td>\n",
       "      <td>appoworld</td>\n",
       "      <td>2018-08-19</td>\n",
       "      <td>2018-08-19</td>\n",
       "      <td>Everyone</td>\n",
       "      <td>False</td>\n",
       "      <td>False</td>\n",
       "      <td>0.0</td>\n",
       "    </tr>\n",
       "    <tr>\n",
       "      <th>2311546</th>\n",
       "      <td>Music &amp; Audio</td>\n",
       "      <td>3.5</td>\n",
       "      <td>8</td>\n",
       "      <td>1000</td>\n",
       "      <td>True</td>\n",
       "      <td>0.0</td>\n",
       "      <td>10.0</td>\n",
       "      <td>5.0</td>\n",
       "      <td>Bhakti</td>\n",
       "      <td>2016-08-01</td>\n",
       "      <td>2021-05-05</td>\n",
       "      <td>Everyone</td>\n",
       "      <td>True</td>\n",
       "      <td>False</td>\n",
       "      <td>28.0</td>\n",
       "    </tr>\n",
       "    <tr>\n",
       "      <th>2311547</th>\n",
       "      <td>Trivia</td>\n",
       "      <td>5.0</td>\n",
       "      <td>12</td>\n",
       "      <td>100</td>\n",
       "      <td>True</td>\n",
       "      <td>0.0</td>\n",
       "      <td>5.2</td>\n",
       "      <td>5.0</td>\n",
       "      <td>Y Yazılım</td>\n",
       "      <td>2019-08-09</td>\n",
       "      <td>2019-08-19</td>\n",
       "      <td>Everyone</td>\n",
       "      <td>True</td>\n",
       "      <td>False</td>\n",
       "      <td>60.0</td>\n",
       "    </tr>\n",
       "  </tbody>\n",
       "</table>\n",
       "<p>2145742 rows × 15 columns</p>\n",
       "</div>"
      ],
      "text/plain": [
       "              Category  Rating  Rating Count  Minimum Installs  Free  Price  \\\n",
       "0            Adventure     0.0             0                10  True    0.0   \n",
       "1                Tools     4.4            64              5000  True    0.0   \n",
       "2         Productivity     0.0             0                50  True    0.0   \n",
       "3        Communication     5.0             5                10  True    0.0   \n",
       "4                Tools     0.0             0               100  True    0.0   \n",
       "...                ...     ...           ...               ...   ...    ...   \n",
       "2311542      Education     3.4            17              1000  True    0.0   \n",
       "2311544      Education     0.0             0               100  True    0.0   \n",
       "2311545      Education     0.0             0               100  True    0.0   \n",
       "2311546  Music & Audio     3.5             8              1000  True    0.0   \n",
       "2311547         Trivia     5.0            12               100  True    0.0   \n",
       "\n",
       "         Size  Minimum Android                       Developer Id   Released  \\\n",
       "0        10.0              7.1  Jean Confident Irénée NIYIZIBYOSE 2020-02-26   \n",
       "1         2.9              5.0                         Webserveis 2020-05-21   \n",
       "2         3.7              4.0                         Cabin Crew 2019-08-09   \n",
       "3         1.8              4.0                Climate Smart Tech2 2018-09-10   \n",
       "4         6.2              4.1              Rafal Milek-Horodyski 2020-02-21   \n",
       "...       ...              ...                                ...        ...   \n",
       "2311542  10.0              4.1                 Julio Augusto Vera 2018-05-22   \n",
       "2311544  44.0              4.1                3Dream Studios, LLC 2018-01-17   \n",
       "2311545  29.0              5.0                          appoworld 2018-08-19   \n",
       "2311546  10.0              5.0                             Bhakti 2016-08-01   \n",
       "2311547   5.2              5.0                          Y Yazılım 2019-08-09   \n",
       "\n",
       "        Last Updated Content Rating  Ad Supported  In App Purchases  \\\n",
       "0         2020-02-26       Everyone         False             False   \n",
       "1         2021-05-06       Everyone          True             False   \n",
       "2         2019-08-19       Everyone         False             False   \n",
       "3         2018-10-13       Everyone          True             False   \n",
       "4         2018-11-12       Everyone         False             False   \n",
       "...              ...            ...           ...               ...   \n",
       "2311542   2018-12-14       Everyone          True             False   \n",
       "2311544   2018-02-02       Everyone         False             False   \n",
       "2311545   2018-08-19       Everyone         False             False   \n",
       "2311546   2021-05-05       Everyone          True             False   \n",
       "2311547   2019-08-19       Everyone          True             False   \n",
       "\n",
       "         Rating Sum  \n",
       "0               0.0  \n",
       "1             281.6  \n",
       "2               0.0  \n",
       "3              25.0  \n",
       "4               0.0  \n",
       "...             ...  \n",
       "2311542        57.8  \n",
       "2311544         0.0  \n",
       "2311545         0.0  \n",
       "2311546        28.0  \n",
       "2311547        60.0  \n",
       "\n",
       "[2145742 rows x 15 columns]"
      ]
     },
     "execution_count": 35,
     "metadata": {},
     "output_type": "execute_result"
    }
   ],
   "source": [
    "data"
   ]
  },
  {
   "cell_type": "code",
   "execution_count": 36,
   "metadata": {
    "colab": {
     "base_uri": "https://localhost:8080/",
     "height": 606
    },
    "id": "kv7Er3mgyprQ",
    "outputId": "e64c4ac0-e85f-4b8b-d302-29d4c880d750"
   },
   "outputs": [
    {
     "data": {
      "text/html": [
       "<div>\n",
       "<style scoped>\n",
       "    .dataframe tbody tr th:only-of-type {\n",
       "        vertical-align: middle;\n",
       "    }\n",
       "\n",
       "    .dataframe tbody tr th {\n",
       "        vertical-align: top;\n",
       "    }\n",
       "\n",
       "    .dataframe thead th {\n",
       "        text-align: right;\n",
       "    }\n",
       "</style>\n",
       "<table border=\"1\" class=\"dataframe\">\n",
       "  <thead>\n",
       "    <tr style=\"text-align: right;\">\n",
       "      <th></th>\n",
       "      <th>Category</th>\n",
       "      <th>Free</th>\n",
       "      <th>Price</th>\n",
       "      <th>Size</th>\n",
       "      <th>Minimum Android</th>\n",
       "      <th>Developer Id</th>\n",
       "      <th>Released</th>\n",
       "      <th>Last Updated</th>\n",
       "      <th>Content Rating</th>\n",
       "      <th>Ad Supported</th>\n",
       "      <th>In App Purchases</th>\n",
       "      <th>Rating</th>\n",
       "      <th>Rating Count</th>\n",
       "      <th>Rating Sum</th>\n",
       "      <th>Minimum Installs</th>\n",
       "    </tr>\n",
       "  </thead>\n",
       "  <tbody>\n",
       "    <tr>\n",
       "      <th>0</th>\n",
       "      <td>Adventure</td>\n",
       "      <td>True</td>\n",
       "      <td>0.0</td>\n",
       "      <td>10.0</td>\n",
       "      <td>7.1</td>\n",
       "      <td>Jean Confident Irénée NIYIZIBYOSE</td>\n",
       "      <td>2020-02-26</td>\n",
       "      <td>2020-02-26</td>\n",
       "      <td>Everyone</td>\n",
       "      <td>False</td>\n",
       "      <td>False</td>\n",
       "      <td>0.0</td>\n",
       "      <td>0</td>\n",
       "      <td>0.0</td>\n",
       "      <td>10</td>\n",
       "    </tr>\n",
       "    <tr>\n",
       "      <th>1</th>\n",
       "      <td>Tools</td>\n",
       "      <td>True</td>\n",
       "      <td>0.0</td>\n",
       "      <td>2.9</td>\n",
       "      <td>5.0</td>\n",
       "      <td>Webserveis</td>\n",
       "      <td>2020-05-21</td>\n",
       "      <td>2021-05-06</td>\n",
       "      <td>Everyone</td>\n",
       "      <td>True</td>\n",
       "      <td>False</td>\n",
       "      <td>4.4</td>\n",
       "      <td>64</td>\n",
       "      <td>281.6</td>\n",
       "      <td>5000</td>\n",
       "    </tr>\n",
       "    <tr>\n",
       "      <th>2</th>\n",
       "      <td>Productivity</td>\n",
       "      <td>True</td>\n",
       "      <td>0.0</td>\n",
       "      <td>3.7</td>\n",
       "      <td>4.0</td>\n",
       "      <td>Cabin Crew</td>\n",
       "      <td>2019-08-09</td>\n",
       "      <td>2019-08-19</td>\n",
       "      <td>Everyone</td>\n",
       "      <td>False</td>\n",
       "      <td>False</td>\n",
       "      <td>0.0</td>\n",
       "      <td>0</td>\n",
       "      <td>0.0</td>\n",
       "      <td>50</td>\n",
       "    </tr>\n",
       "    <tr>\n",
       "      <th>3</th>\n",
       "      <td>Communication</td>\n",
       "      <td>True</td>\n",
       "      <td>0.0</td>\n",
       "      <td>1.8</td>\n",
       "      <td>4.0</td>\n",
       "      <td>Climate Smart Tech2</td>\n",
       "      <td>2018-09-10</td>\n",
       "      <td>2018-10-13</td>\n",
       "      <td>Everyone</td>\n",
       "      <td>True</td>\n",
       "      <td>False</td>\n",
       "      <td>5.0</td>\n",
       "      <td>5</td>\n",
       "      <td>25.0</td>\n",
       "      <td>10</td>\n",
       "    </tr>\n",
       "    <tr>\n",
       "      <th>4</th>\n",
       "      <td>Tools</td>\n",
       "      <td>True</td>\n",
       "      <td>0.0</td>\n",
       "      <td>6.2</td>\n",
       "      <td>4.1</td>\n",
       "      <td>Rafal Milek-Horodyski</td>\n",
       "      <td>2020-02-21</td>\n",
       "      <td>2018-11-12</td>\n",
       "      <td>Everyone</td>\n",
       "      <td>False</td>\n",
       "      <td>False</td>\n",
       "      <td>0.0</td>\n",
       "      <td>0</td>\n",
       "      <td>0.0</td>\n",
       "      <td>100</td>\n",
       "    </tr>\n",
       "    <tr>\n",
       "      <th>...</th>\n",
       "      <td>...</td>\n",
       "      <td>...</td>\n",
       "      <td>...</td>\n",
       "      <td>...</td>\n",
       "      <td>...</td>\n",
       "      <td>...</td>\n",
       "      <td>...</td>\n",
       "      <td>...</td>\n",
       "      <td>...</td>\n",
       "      <td>...</td>\n",
       "      <td>...</td>\n",
       "      <td>...</td>\n",
       "      <td>...</td>\n",
       "      <td>...</td>\n",
       "      <td>...</td>\n",
       "    </tr>\n",
       "    <tr>\n",
       "      <th>2311542</th>\n",
       "      <td>Education</td>\n",
       "      <td>True</td>\n",
       "      <td>0.0</td>\n",
       "      <td>10.0</td>\n",
       "      <td>4.1</td>\n",
       "      <td>Julio Augusto Vera</td>\n",
       "      <td>2018-05-22</td>\n",
       "      <td>2018-12-14</td>\n",
       "      <td>Everyone</td>\n",
       "      <td>True</td>\n",
       "      <td>False</td>\n",
       "      <td>3.4</td>\n",
       "      <td>17</td>\n",
       "      <td>57.8</td>\n",
       "      <td>1000</td>\n",
       "    </tr>\n",
       "    <tr>\n",
       "      <th>2311544</th>\n",
       "      <td>Education</td>\n",
       "      <td>True</td>\n",
       "      <td>0.0</td>\n",
       "      <td>44.0</td>\n",
       "      <td>4.1</td>\n",
       "      <td>3Dream Studios, LLC</td>\n",
       "      <td>2018-01-17</td>\n",
       "      <td>2018-02-02</td>\n",
       "      <td>Everyone</td>\n",
       "      <td>False</td>\n",
       "      <td>False</td>\n",
       "      <td>0.0</td>\n",
       "      <td>0</td>\n",
       "      <td>0.0</td>\n",
       "      <td>100</td>\n",
       "    </tr>\n",
       "    <tr>\n",
       "      <th>2311545</th>\n",
       "      <td>Education</td>\n",
       "      <td>True</td>\n",
       "      <td>0.0</td>\n",
       "      <td>29.0</td>\n",
       "      <td>5.0</td>\n",
       "      <td>appoworld</td>\n",
       "      <td>2018-08-19</td>\n",
       "      <td>2018-08-19</td>\n",
       "      <td>Everyone</td>\n",
       "      <td>False</td>\n",
       "      <td>False</td>\n",
       "      <td>0.0</td>\n",
       "      <td>0</td>\n",
       "      <td>0.0</td>\n",
       "      <td>100</td>\n",
       "    </tr>\n",
       "    <tr>\n",
       "      <th>2311546</th>\n",
       "      <td>Music &amp; Audio</td>\n",
       "      <td>True</td>\n",
       "      <td>0.0</td>\n",
       "      <td>10.0</td>\n",
       "      <td>5.0</td>\n",
       "      <td>Bhakti</td>\n",
       "      <td>2016-08-01</td>\n",
       "      <td>2021-05-05</td>\n",
       "      <td>Everyone</td>\n",
       "      <td>True</td>\n",
       "      <td>False</td>\n",
       "      <td>3.5</td>\n",
       "      <td>8</td>\n",
       "      <td>28.0</td>\n",
       "      <td>1000</td>\n",
       "    </tr>\n",
       "    <tr>\n",
       "      <th>2311547</th>\n",
       "      <td>Trivia</td>\n",
       "      <td>True</td>\n",
       "      <td>0.0</td>\n",
       "      <td>5.2</td>\n",
       "      <td>5.0</td>\n",
       "      <td>Y Yazılım</td>\n",
       "      <td>2019-08-09</td>\n",
       "      <td>2019-08-19</td>\n",
       "      <td>Everyone</td>\n",
       "      <td>True</td>\n",
       "      <td>False</td>\n",
       "      <td>5.0</td>\n",
       "      <td>12</td>\n",
       "      <td>60.0</td>\n",
       "      <td>100</td>\n",
       "    </tr>\n",
       "  </tbody>\n",
       "</table>\n",
       "<p>2145742 rows × 15 columns</p>\n",
       "</div>"
      ],
      "text/plain": [
       "              Category  Free  Price  Size  Minimum Android  \\\n",
       "0            Adventure  True    0.0  10.0              7.1   \n",
       "1                Tools  True    0.0   2.9              5.0   \n",
       "2         Productivity  True    0.0   3.7              4.0   \n",
       "3        Communication  True    0.0   1.8              4.0   \n",
       "4                Tools  True    0.0   6.2              4.1   \n",
       "...                ...   ...    ...   ...              ...   \n",
       "2311542      Education  True    0.0  10.0              4.1   \n",
       "2311544      Education  True    0.0  44.0              4.1   \n",
       "2311545      Education  True    0.0  29.0              5.0   \n",
       "2311546  Music & Audio  True    0.0  10.0              5.0   \n",
       "2311547         Trivia  True    0.0   5.2              5.0   \n",
       "\n",
       "                              Developer Id   Released Last Updated  \\\n",
       "0        Jean Confident Irénée NIYIZIBYOSE 2020-02-26   2020-02-26   \n",
       "1                               Webserveis 2020-05-21   2021-05-06   \n",
       "2                               Cabin Crew 2019-08-09   2019-08-19   \n",
       "3                      Climate Smart Tech2 2018-09-10   2018-10-13   \n",
       "4                    Rafal Milek-Horodyski 2020-02-21   2018-11-12   \n",
       "...                                    ...        ...          ...   \n",
       "2311542                 Julio Augusto Vera 2018-05-22   2018-12-14   \n",
       "2311544                3Dream Studios, LLC 2018-01-17   2018-02-02   \n",
       "2311545                          appoworld 2018-08-19   2018-08-19   \n",
       "2311546                             Bhakti 2016-08-01   2021-05-05   \n",
       "2311547                          Y Yazılım 2019-08-09   2019-08-19   \n",
       "\n",
       "        Content Rating  Ad Supported  In App Purchases  Rating  Rating Count  \\\n",
       "0             Everyone         False             False     0.0             0   \n",
       "1             Everyone          True             False     4.4            64   \n",
       "2             Everyone         False             False     0.0             0   \n",
       "3             Everyone          True             False     5.0             5   \n",
       "4             Everyone         False             False     0.0             0   \n",
       "...                ...           ...               ...     ...           ...   \n",
       "2311542       Everyone          True             False     3.4            17   \n",
       "2311544       Everyone         False             False     0.0             0   \n",
       "2311545       Everyone         False             False     0.0             0   \n",
       "2311546       Everyone          True             False     3.5             8   \n",
       "2311547       Everyone          True             False     5.0            12   \n",
       "\n",
       "         Rating Sum  Minimum Installs  \n",
       "0               0.0                10  \n",
       "1             281.6              5000  \n",
       "2               0.0                50  \n",
       "3              25.0                10  \n",
       "4               0.0               100  \n",
       "...             ...               ...  \n",
       "2311542        57.8              1000  \n",
       "2311544         0.0               100  \n",
       "2311545         0.0               100  \n",
       "2311546        28.0              1000  \n",
       "2311547        60.0               100  \n",
       "\n",
       "[2145742 rows x 15 columns]"
      ]
     },
     "execution_count": 36,
     "metadata": {},
     "output_type": "execute_result"
    }
   ],
   "source": [
    "data = data[['Category', 'Free', 'Price',\n",
    "       'Size', 'Minimum Android', 'Developer Id', 'Released', 'Last Updated',\n",
    "       'Content Rating', 'Ad Supported', 'In App Purchases','Rating', 'Rating Count', 'Rating Sum' , 'Minimum Installs']]\n",
    "data"
   ]
  },
  {
   "cell_type": "code",
   "execution_count": 37,
   "metadata": {
    "id": "yjolLRb6xDgQ"
   },
   "outputs": [],
   "source": [
    "data.rename(columns = {'Rating Count':'Rating_Count',\n",
    "                       'Minimum Installs':'Min_Downloads',\n",
    "                       'Minimum Android':'Min_Version',\n",
    "                       'Last Updated':'Last_Updated',\n",
    "                       'Content Rating ':'Content',\n",
    "                       'Ad Supported ':'Ad_Support',\n",
    "                       'In App Purchases ':'Inapp_Purchase',\n",
    "                       'Rating Sum ':'Rating_Sum'}, inplace = True)"
   ]
  },
  {
   "cell_type": "code",
   "execution_count": 38,
   "metadata": {
    "colab": {
     "base_uri": "https://localhost:8080/"
    },
    "id": "NO3DdSNGyj_z",
    "outputId": "dc16cbe3-9560-4e84-9601-e437ffd3e88e"
   },
   "outputs": [
    {
     "data": {
      "text/plain": [
       "Index(['Category', 'Free', 'Price', 'Size', 'Min_Version', 'Developer Id',\n",
       "       'Released', 'Last_Updated', 'Content Rating', 'Ad Supported',\n",
       "       'In App Purchases', 'Rating', 'Rating_Count', 'Rating Sum',\n",
       "       'Min_Downloads'],\n",
       "      dtype='object')"
      ]
     },
     "execution_count": 38,
     "metadata": {},
     "output_type": "execute_result"
    }
   ],
   "source": [
    "data.columns"
   ]
  },
  {
   "cell_type": "markdown",
   "metadata": {
    "id": "fAVs1wk98Fs6"
   },
   "source": [
    "Renaming and Reordering **Column Names**"
   ]
  },
  {
   "cell_type": "code",
   "execution_count": 39,
   "metadata": {
    "colab": {
     "base_uri": "https://localhost:8080/",
     "height": 297
    },
    "id": "P4Gu9ud1-YRQ",
    "outputId": "3adc1fff-1854-4527-c727-8ec101ea9b05"
   },
   "outputs": [
    {
     "data": {
      "text/html": [
       "<div>\n",
       "<style scoped>\n",
       "    .dataframe tbody tr th:only-of-type {\n",
       "        vertical-align: middle;\n",
       "    }\n",
       "\n",
       "    .dataframe tbody tr th {\n",
       "        vertical-align: top;\n",
       "    }\n",
       "\n",
       "    .dataframe thead th {\n",
       "        text-align: right;\n",
       "    }\n",
       "</style>\n",
       "<table border=\"1\" class=\"dataframe\">\n",
       "  <thead>\n",
       "    <tr style=\"text-align: right;\">\n",
       "      <th></th>\n",
       "      <th>Price</th>\n",
       "      <th>Size</th>\n",
       "      <th>Min_Version</th>\n",
       "      <th>Rating</th>\n",
       "      <th>Rating_Count</th>\n",
       "      <th>Rating Sum</th>\n",
       "      <th>Min_Downloads</th>\n",
       "    </tr>\n",
       "  </thead>\n",
       "  <tbody>\n",
       "    <tr>\n",
       "      <th>count</th>\n",
       "      <td>2.145742e+06</td>\n",
       "      <td>2.145742e+06</td>\n",
       "      <td>2.145742e+06</td>\n",
       "      <td>2.145742e+06</td>\n",
       "      <td>2.145742e+06</td>\n",
       "      <td>2.145742e+06</td>\n",
       "      <td>2.145742e+06</td>\n",
       "    </tr>\n",
       "    <tr>\n",
       "      <th>mean</th>\n",
       "      <td>9.741567e-02</td>\n",
       "      <td>1.944819e+01</td>\n",
       "      <td>4.363840e+00</td>\n",
       "      <td>2.185392e+00</td>\n",
       "      <td>2.000865e+03</td>\n",
       "      <td>8.600395e+03</td>\n",
       "      <td>1.075696e+05</td>\n",
       "    </tr>\n",
       "    <tr>\n",
       "      <th>std</th>\n",
       "      <td>2.603039e+00</td>\n",
       "      <td>2.398552e+01</td>\n",
       "      <td>8.424665e-01</td>\n",
       "      <td>2.111569e+00</td>\n",
       "      <td>8.865839e+04</td>\n",
       "      <td>3.888005e+05</td>\n",
       "      <td>3.572772e+06</td>\n",
       "    </tr>\n",
       "    <tr>\n",
       "      <th>min</th>\n",
       "      <td>0.000000e+00</td>\n",
       "      <td>1.000000e+00</td>\n",
       "      <td>1.000000e+00</td>\n",
       "      <td>0.000000e+00</td>\n",
       "      <td>0.000000e+00</td>\n",
       "      <td>0.000000e+00</td>\n",
       "      <td>0.000000e+00</td>\n",
       "    </tr>\n",
       "    <tr>\n",
       "      <th>25%</th>\n",
       "      <td>0.000000e+00</td>\n",
       "      <td>5.100000e+00</td>\n",
       "      <td>4.100000e+00</td>\n",
       "      <td>0.000000e+00</td>\n",
       "      <td>0.000000e+00</td>\n",
       "      <td>0.000000e+00</td>\n",
       "      <td>5.000000e+01</td>\n",
       "    </tr>\n",
       "    <tr>\n",
       "      <th>50%</th>\n",
       "      <td>0.000000e+00</td>\n",
       "      <td>1.000000e+01</td>\n",
       "      <td>4.200000e+00</td>\n",
       "      <td>2.900000e+00</td>\n",
       "      <td>6.000000e+00</td>\n",
       "      <td>2.400000e+01</td>\n",
       "      <td>5.000000e+02</td>\n",
       "    </tr>\n",
       "    <tr>\n",
       "      <th>75%</th>\n",
       "      <td>0.000000e+00</td>\n",
       "      <td>2.500000e+01</td>\n",
       "      <td>5.000000e+00</td>\n",
       "      <td>4.300000e+00</td>\n",
       "      <td>3.900000e+01</td>\n",
       "      <td>1.596000e+02</td>\n",
       "      <td>5.000000e+03</td>\n",
       "    </tr>\n",
       "    <tr>\n",
       "      <th>max</th>\n",
       "      <td>4.000000e+02</td>\n",
       "      <td>1.500000e+03</td>\n",
       "      <td>8.000000e+00</td>\n",
       "      <td>5.000000e+00</td>\n",
       "      <td>5.602542e+07</td>\n",
       "      <td>2.521144e+08</td>\n",
       "      <td>1.000000e+09</td>\n",
       "    </tr>\n",
       "  </tbody>\n",
       "</table>\n",
       "</div>"
      ],
      "text/plain": [
       "              Price          Size   Min_Version        Rating  Rating_Count  \\\n",
       "count  2.145742e+06  2.145742e+06  2.145742e+06  2.145742e+06  2.145742e+06   \n",
       "mean   9.741567e-02  1.944819e+01  4.363840e+00  2.185392e+00  2.000865e+03   \n",
       "std    2.603039e+00  2.398552e+01  8.424665e-01  2.111569e+00  8.865839e+04   \n",
       "min    0.000000e+00  1.000000e+00  1.000000e+00  0.000000e+00  0.000000e+00   \n",
       "25%    0.000000e+00  5.100000e+00  4.100000e+00  0.000000e+00  0.000000e+00   \n",
       "50%    0.000000e+00  1.000000e+01  4.200000e+00  2.900000e+00  6.000000e+00   \n",
       "75%    0.000000e+00  2.500000e+01  5.000000e+00  4.300000e+00  3.900000e+01   \n",
       "max    4.000000e+02  1.500000e+03  8.000000e+00  5.000000e+00  5.602542e+07   \n",
       "\n",
       "         Rating Sum  Min_Downloads  \n",
       "count  2.145742e+06   2.145742e+06  \n",
       "mean   8.600395e+03   1.075696e+05  \n",
       "std    3.888005e+05   3.572772e+06  \n",
       "min    0.000000e+00   0.000000e+00  \n",
       "25%    0.000000e+00   5.000000e+01  \n",
       "50%    2.400000e+01   5.000000e+02  \n",
       "75%    1.596000e+02   5.000000e+03  \n",
       "max    2.521144e+08   1.000000e+09  "
      ]
     },
     "execution_count": 39,
     "metadata": {},
     "output_type": "execute_result"
    }
   ],
   "source": [
    "data.describe(include = [np.number])"
   ]
  },
  {
   "cell_type": "code",
   "execution_count": 40,
   "metadata": {
    "colab": {
     "base_uri": "https://localhost:8080/",
     "height": 173
    },
    "id": "J9CaiGsQBB7B",
    "outputId": "3352f728-ccf3-4554-fe3c-19956bdf0f01"
   },
   "outputs": [
    {
     "data": {
      "text/html": [
       "<div>\n",
       "<style scoped>\n",
       "    .dataframe tbody tr th:only-of-type {\n",
       "        vertical-align: middle;\n",
       "    }\n",
       "\n",
       "    .dataframe tbody tr th {\n",
       "        vertical-align: top;\n",
       "    }\n",
       "\n",
       "    .dataframe thead th {\n",
       "        text-align: right;\n",
       "    }\n",
       "</style>\n",
       "<table border=\"1\" class=\"dataframe\">\n",
       "  <thead>\n",
       "    <tr style=\"text-align: right;\">\n",
       "      <th></th>\n",
       "      <th>Category</th>\n",
       "      <th>Developer Id</th>\n",
       "      <th>Content Rating</th>\n",
       "    </tr>\n",
       "  </thead>\n",
       "  <tbody>\n",
       "    <tr>\n",
       "      <th>count</th>\n",
       "      <td>2145742</td>\n",
       "      <td>2145742</td>\n",
       "      <td>2145742</td>\n",
       "    </tr>\n",
       "    <tr>\n",
       "      <th>unique</th>\n",
       "      <td>48</td>\n",
       "      <td>708829</td>\n",
       "      <td>6</td>\n",
       "    </tr>\n",
       "    <tr>\n",
       "      <th>top</th>\n",
       "      <td>Education</td>\n",
       "      <td>Subsplash Inc</td>\n",
       "      <td>Everyone</td>\n",
       "    </tr>\n",
       "    <tr>\n",
       "      <th>freq</th>\n",
       "      <td>227141</td>\n",
       "      <td>5422</td>\n",
       "      <td>1874918</td>\n",
       "    </tr>\n",
       "  </tbody>\n",
       "</table>\n",
       "</div>"
      ],
      "text/plain": [
       "         Category   Developer Id Content Rating\n",
       "count     2145742        2145742        2145742\n",
       "unique         48         708829              6\n",
       "top     Education  Subsplash Inc       Everyone\n",
       "freq       227141           5422        1874918"
      ]
     },
     "execution_count": 40,
     "metadata": {},
     "output_type": "execute_result"
    }
   ],
   "source": [
    "data.describe(include = ['O'])"
   ]
  },
  {
   "cell_type": "code",
   "execution_count": 41,
   "metadata": {
    "id": "Q8NGuV7gzh44"
   },
   "outputs": [],
   "source": [
    "data.to_csv('Playstore-data.csv')"
   ]
  },
  {
   "cell_type": "code",
   "execution_count": null,
   "metadata": {
    "id": "Zlrge0c-BHxC"
   },
   "outputs": [],
   "source": []
  }
 ],
 "metadata": {
  "colab": {
   "collapsed_sections": [],
   "name": "Playstore_cleaning.ipynb",
   "provenance": []
  },
  "kernelspec": {
   "display_name": "Python 3",
   "language": "python",
   "name": "python3"
  },
  "language_info": {
   "codemirror_mode": {
    "name": "ipython",
    "version": 3
   },
   "file_extension": ".py",
   "mimetype": "text/x-python",
   "name": "python",
   "nbconvert_exporter": "python",
   "pygments_lexer": "ipython3",
   "version": "3.8.10"
  }
 },
 "nbformat": 4,
 "nbformat_minor": 1
}
