{
 "cells": [
  {
   "cell_type": "markdown",
   "metadata": {
    "id": "FCHedMXT3JTs"
   },
   "source": [
    "#**Cleaning Data**"
   ]
  },
  {
   "cell_type": "markdown",
   "metadata": {
    "id": "covX1ZDu3c7d"
   },
   "source": [
    "### Importing packages"
   ]
  },
  {
   "cell_type": "code",
   "execution_count": 1,
   "metadata": {
    "id": "iv5Ywi31c4oM"
   },
   "outputs": [],
   "source": [
    "import pandas as pd\n",
    "import numpy as np\n",
    "import matplotlib.pyplot as plt\n",
    "import seaborn as sns"
   ]
  },
  {
   "cell_type": "code",
   "execution_count": 2,
   "metadata": {
    "id": "276rxpnRdxGy"
   },
   "outputs": [],
   "source": [
    "data = pd.read_csv('Google-Playstore.csv')"
   ]
  },
  {
   "cell_type": "code",
   "execution_count": 3,
   "metadata": {
    "colab": {
     "base_uri": "https://localhost:8080/"
    },
    "id": "hHFL_gtueZIF",
    "outputId": "ac2d45cd-8207-4b73-d681-8cdbcf8dc2b0"
   },
   "outputs": [
    {
     "data": {
      "text/plain": [
       "(2312944, 24)"
      ]
     },
     "execution_count": 3,
     "metadata": {},
     "output_type": "execute_result"
    }
   ],
   "source": [
    "data.shape"
   ]
  },
  {
   "cell_type": "code",
   "execution_count": 4,
   "metadata": {
    "colab": {
     "base_uri": "https://localhost:8080/",
     "height": 431
    },
    "id": "XulfMNjyVekG",
    "outputId": "1d292d37-78ae-4f06-e5ec-d2f5c3c6e5fc"
   },
   "outputs": [
    {
     "data": {
      "text/html": [
       "<div>\n",
       "<style scoped>\n",
       "    .dataframe tbody tr th:only-of-type {\n",
       "        vertical-align: middle;\n",
       "    }\n",
       "\n",
       "    .dataframe tbody tr th {\n",
       "        vertical-align: top;\n",
       "    }\n",
       "\n",
       "    .dataframe thead th {\n",
       "        text-align: right;\n",
       "    }\n",
       "</style>\n",
       "<table border=\"1\" class=\"dataframe\">\n",
       "  <thead>\n",
       "    <tr style=\"text-align: right;\">\n",
       "      <th></th>\n",
       "      <th>App Name</th>\n",
       "      <th>App Id</th>\n",
       "      <th>Category</th>\n",
       "      <th>Rating</th>\n",
       "      <th>Rating Count</th>\n",
       "      <th>Installs</th>\n",
       "      <th>Minimum Installs</th>\n",
       "      <th>Maximum Installs</th>\n",
       "      <th>Free</th>\n",
       "      <th>Price</th>\n",
       "      <th>...</th>\n",
       "      <th>Developer Website</th>\n",
       "      <th>Developer Email</th>\n",
       "      <th>Released</th>\n",
       "      <th>Last Updated</th>\n",
       "      <th>Content Rating</th>\n",
       "      <th>Privacy Policy</th>\n",
       "      <th>Ad Supported</th>\n",
       "      <th>In App Purchases</th>\n",
       "      <th>Editors Choice</th>\n",
       "      <th>Scraped Time</th>\n",
       "    </tr>\n",
       "  </thead>\n",
       "  <tbody>\n",
       "    <tr>\n",
       "      <th>0</th>\n",
       "      <td>Gakondo</td>\n",
       "      <td>com.ishakwe.gakondo</td>\n",
       "      <td>Adventure</td>\n",
       "      <td>0.0</td>\n",
       "      <td>0.0</td>\n",
       "      <td>10+</td>\n",
       "      <td>10.0</td>\n",
       "      <td>15</td>\n",
       "      <td>True</td>\n",
       "      <td>0.0</td>\n",
       "      <td>...</td>\n",
       "      <td>https://beniyizibyose.tk/#/</td>\n",
       "      <td>jean21101999@gmail.com</td>\n",
       "      <td>Feb 26, 2020</td>\n",
       "      <td>Feb 26, 2020</td>\n",
       "      <td>Everyone</td>\n",
       "      <td>https://beniyizibyose.tk/projects/</td>\n",
       "      <td>False</td>\n",
       "      <td>False</td>\n",
       "      <td>False</td>\n",
       "      <td>2021-06-15 20:19:35</td>\n",
       "    </tr>\n",
       "    <tr>\n",
       "      <th>1</th>\n",
       "      <td>Ampere Battery Info</td>\n",
       "      <td>com.webserveis.batteryinfo</td>\n",
       "      <td>Tools</td>\n",
       "      <td>4.4</td>\n",
       "      <td>64.0</td>\n",
       "      <td>5,000+</td>\n",
       "      <td>5000.0</td>\n",
       "      <td>7662</td>\n",
       "      <td>True</td>\n",
       "      <td>0.0</td>\n",
       "      <td>...</td>\n",
       "      <td>https://webserveis.netlify.app/</td>\n",
       "      <td>webserveis@gmail.com</td>\n",
       "      <td>May 21, 2020</td>\n",
       "      <td>May 06, 2021</td>\n",
       "      <td>Everyone</td>\n",
       "      <td>https://dev4phones.wordpress.com/licencia-de-uso/</td>\n",
       "      <td>True</td>\n",
       "      <td>False</td>\n",
       "      <td>False</td>\n",
       "      <td>2021-06-15 20:19:35</td>\n",
       "    </tr>\n",
       "    <tr>\n",
       "      <th>2</th>\n",
       "      <td>Vibook</td>\n",
       "      <td>com.doantiepvien.crm</td>\n",
       "      <td>Productivity</td>\n",
       "      <td>0.0</td>\n",
       "      <td>0.0</td>\n",
       "      <td>50+</td>\n",
       "      <td>50.0</td>\n",
       "      <td>58</td>\n",
       "      <td>True</td>\n",
       "      <td>0.0</td>\n",
       "      <td>...</td>\n",
       "      <td>NaN</td>\n",
       "      <td>vnacrewit@gmail.com</td>\n",
       "      <td>Aug 9, 2019</td>\n",
       "      <td>Aug 19, 2019</td>\n",
       "      <td>Everyone</td>\n",
       "      <td>https://www.vietnamairlines.com/vn/en/terms-an...</td>\n",
       "      <td>False</td>\n",
       "      <td>False</td>\n",
       "      <td>False</td>\n",
       "      <td>2021-06-15 20:19:35</td>\n",
       "    </tr>\n",
       "    <tr>\n",
       "      <th>3</th>\n",
       "      <td>Smart City Trichy Public Service Vehicles 17UC...</td>\n",
       "      <td>cst.stJoseph.ug17ucs548</td>\n",
       "      <td>Communication</td>\n",
       "      <td>5.0</td>\n",
       "      <td>5.0</td>\n",
       "      <td>10+</td>\n",
       "      <td>10.0</td>\n",
       "      <td>19</td>\n",
       "      <td>True</td>\n",
       "      <td>0.0</td>\n",
       "      <td>...</td>\n",
       "      <td>http://www.climatesmarttech.com/</td>\n",
       "      <td>climatesmarttech2@gmail.com</td>\n",
       "      <td>Sep 10, 2018</td>\n",
       "      <td>Oct 13, 2018</td>\n",
       "      <td>Everyone</td>\n",
       "      <td>NaN</td>\n",
       "      <td>True</td>\n",
       "      <td>False</td>\n",
       "      <td>False</td>\n",
       "      <td>2021-06-15 20:19:35</td>\n",
       "    </tr>\n",
       "  </tbody>\n",
       "</table>\n",
       "<p>4 rows × 24 columns</p>\n",
       "</div>"
      ],
      "text/plain": [
       "                                            App Name  \\\n",
       "0                                            Gakondo   \n",
       "1                                Ampere Battery Info   \n",
       "2                                             Vibook   \n",
       "3  Smart City Trichy Public Service Vehicles 17UC...   \n",
       "\n",
       "                       App Id       Category  Rating  Rating Count Installs  \\\n",
       "0         com.ishakwe.gakondo      Adventure     0.0           0.0      10+   \n",
       "1  com.webserveis.batteryinfo          Tools     4.4          64.0   5,000+   \n",
       "2        com.doantiepvien.crm   Productivity     0.0           0.0      50+   \n",
       "3     cst.stJoseph.ug17ucs548  Communication     5.0           5.0      10+   \n",
       "\n",
       "   Minimum Installs  Maximum Installs  Free  Price  ...  \\\n",
       "0              10.0                15  True    0.0  ...   \n",
       "1            5000.0              7662  True    0.0  ...   \n",
       "2              50.0                58  True    0.0  ...   \n",
       "3              10.0                19  True    0.0  ...   \n",
       "\n",
       "                  Developer Website              Developer Email  \\\n",
       "0       https://beniyizibyose.tk/#/       jean21101999@gmail.com   \n",
       "1   https://webserveis.netlify.app/         webserveis@gmail.com   \n",
       "2                               NaN          vnacrewit@gmail.com   \n",
       "3  http://www.climatesmarttech.com/  climatesmarttech2@gmail.com   \n",
       "\n",
       "       Released  Last Updated Content Rating  \\\n",
       "0  Feb 26, 2020  Feb 26, 2020       Everyone   \n",
       "1  May 21, 2020  May 06, 2021       Everyone   \n",
       "2   Aug 9, 2019  Aug 19, 2019       Everyone   \n",
       "3  Sep 10, 2018  Oct 13, 2018       Everyone   \n",
       "\n",
       "                                      Privacy Policy Ad Supported  \\\n",
       "0                 https://beniyizibyose.tk/projects/        False   \n",
       "1  https://dev4phones.wordpress.com/licencia-de-uso/         True   \n",
       "2  https://www.vietnamairlines.com/vn/en/terms-an...        False   \n",
       "3                                                NaN         True   \n",
       "\n",
       "  In App Purchases Editors Choice         Scraped Time  \n",
       "0            False          False  2021-06-15 20:19:35  \n",
       "1            False          False  2021-06-15 20:19:35  \n",
       "2            False          False  2021-06-15 20:19:35  \n",
       "3            False          False  2021-06-15 20:19:35  \n",
       "\n",
       "[4 rows x 24 columns]"
      ]
     },
     "execution_count": 4,
     "metadata": {},
     "output_type": "execute_result"
    }
   ],
   "source": [
    "data.head(4)"
   ]
  },
  {
   "cell_type": "code",
   "execution_count": 5,
   "metadata": {
    "colab": {
     "base_uri": "https://localhost:8080/"
    },
    "id": "BTi864ikSeS0",
    "outputId": "69c04a54-369e-400a-807a-099318ddb692"
   },
   "outputs": [
    {
     "data": {
      "text/plain": [
       "Education                  241090\n",
       "Music & Audio              154906\n",
       "Tools                      143988\n",
       "Business                   143771\n",
       "Entertainment              138276\n",
       "Lifestyle                  118331\n",
       "Books & Reference          116728\n",
       "Personalization             89210\n",
       "Health & Fitness            83510\n",
       "Productivity                79698\n",
       "Shopping                    75256\n",
       "Food & Drink                73927\n",
       "Travel & Local              67288\n",
       "Finance                     65466\n",
       "Arcade                      53792\n",
       "Puzzle                      51168\n",
       "Casual                      50813\n",
       "Communication               48167\n",
       "Sports                      47483\n",
       "Social                      44734\n",
       "News & Magazines            42807\n",
       "Photography                 35552\n",
       "Medical                     32065\n",
       "Action                      27555\n",
       "Maps & Navigation           26722\n",
       "Simulation                  23282\n",
       "Adventure                   23203\n",
       "Educational                 21308\n",
       "Art & Design                18539\n",
       "Auto & Vehicles             18280\n",
       "House & Home                14369\n",
       "Video Players & Editors     14015\n",
       "Events                      12841\n",
       "Trivia                      11795\n",
       "Beauty                      11772\n",
       "Board                       10588\n",
       "Racing                      10362\n",
       "Role Playing                10034\n",
       "Word                         8630\n",
       "Strategy                     8526\n",
       "Card                         8179\n",
       "Weather                      7246\n",
       "Dating                       6524\n",
       "Libraries & Demo             5198\n",
       "Casino                       5076\n",
       "Music                        4202\n",
       "Parenting                    3810\n",
       "Comics                       2862\n",
       "Name: Category, dtype: int64"
      ]
     },
     "execution_count": 5,
     "metadata": {},
     "output_type": "execute_result"
    }
   ],
   "source": [
    "data['Category'].value_counts()"
   ]
  },
  {
   "cell_type": "code",
   "execution_count": 6,
   "metadata": {
    "colab": {
     "base_uri": "https://localhost:8080/"
    },
    "id": "NBrp1lfkSkEe",
    "outputId": "968c5e47-5e3f-40c8-cee2-b7380186b2c2"
   },
   "outputs": [
    {
     "data": {
      "text/plain": [
       "48"
      ]
     },
     "execution_count": 6,
     "metadata": {},
     "output_type": "execute_result"
    }
   ],
   "source": [
    "len(data['Category'].value_counts())"
   ]
  },
  {
   "cell_type": "code",
   "execution_count": 7,
   "metadata": {
    "colab": {
     "base_uri": "https://localhost:8080/"
    },
    "id": "SFFtvwUzSzK8",
    "outputId": "b06e8a46-c84f-4977-cb58-e74043476105"
   },
   "outputs": [
    {
     "data": {
      "text/plain": [
       "USD    2311548\n",
       "XXX       1236\n",
       "EUR          6\n",
       "INR          5\n",
       "GBP          3\n",
       "CAD          2\n",
       "RUB          1\n",
       "VND          1\n",
       "BRL          1\n",
       "KRW          1\n",
       "ZAR          1\n",
       "AUD          1\n",
       "TRY          1\n",
       "SGD          1\n",
       "PKR          1\n",
       "Name: Currency, dtype: int64"
      ]
     },
     "execution_count": 7,
     "metadata": {},
     "output_type": "execute_result"
    }
   ],
   "source": [
    "data['Currency'].value_counts()"
   ]
  },
  {
   "cell_type": "code",
   "execution_count": 8,
   "metadata": {
    "id": "h1tXKpEZS4Fq"
   },
   "outputs": [],
   "source": [
    "data = data[data['Currency'] == 'USD']\n",
    "data.drop(['Currency'],1,inplace=True)\n",
    "data = data.reset_index(drop=True)"
   ]
  },
  {
   "cell_type": "markdown",
   "metadata": {
    "id": "aI68gPJwTvzA"
   },
   "source": [
    "Taking the data which has **Currency** as **USD** and dropping the **Currency** column"
   ]
  },
  {
   "cell_type": "code",
   "execution_count": 9,
   "metadata": {
    "colab": {
     "base_uri": "https://localhost:8080/"
    },
    "id": "szFqsEhxTAFV",
    "outputId": "4275eada-4852-4dd1-bb0c-42de0cea3288"
   },
   "outputs": [
    {
     "data": {
      "text/plain": [
       "(2311548, 23)"
      ]
     },
     "execution_count": 9,
     "metadata": {},
     "output_type": "execute_result"
    }
   ],
   "source": [
    "data.shape"
   ]
  },
  {
   "cell_type": "markdown",
   "metadata": {
    "id": "HeQZdzvO30sY"
   },
   "source": [
    "### Dropping unnecessory columns"
   ]
  },
  {
   "cell_type": "code",
   "execution_count": 10,
   "metadata": {
    "colab": {
     "base_uri": "https://localhost:8080/",
     "height": 255
    },
    "id": "WJGEWID1fzb8",
    "outputId": "d46f1de8-e204-4497-e777-d2d6413f9a24"
   },
   "outputs": [
    {
     "data": {
      "text/html": [
       "<div>\n",
       "<style scoped>\n",
       "    .dataframe tbody tr th:only-of-type {\n",
       "        vertical-align: middle;\n",
       "    }\n",
       "\n",
       "    .dataframe tbody tr th {\n",
       "        vertical-align: top;\n",
       "    }\n",
       "\n",
       "    .dataframe thead th {\n",
       "        text-align: right;\n",
       "    }\n",
       "</style>\n",
       "<table border=\"1\" class=\"dataframe\">\n",
       "  <thead>\n",
       "    <tr style=\"text-align: right;\">\n",
       "      <th></th>\n",
       "      <th>Category</th>\n",
       "      <th>Rating</th>\n",
       "      <th>Rating Count</th>\n",
       "      <th>Minimum Installs</th>\n",
       "      <th>Free</th>\n",
       "      <th>Price</th>\n",
       "      <th>Size</th>\n",
       "      <th>Minimum Android</th>\n",
       "      <th>Developer Id</th>\n",
       "      <th>Released</th>\n",
       "      <th>Last Updated</th>\n",
       "      <th>Content Rating</th>\n",
       "      <th>Ad Supported</th>\n",
       "      <th>In App Purchases</th>\n",
       "    </tr>\n",
       "  </thead>\n",
       "  <tbody>\n",
       "    <tr>\n",
       "      <th>0</th>\n",
       "      <td>Adventure</td>\n",
       "      <td>0.0</td>\n",
       "      <td>0.0</td>\n",
       "      <td>10.0</td>\n",
       "      <td>True</td>\n",
       "      <td>0.0</td>\n",
       "      <td>10M</td>\n",
       "      <td>7.1 and up</td>\n",
       "      <td>Jean Confident Irénée NIYIZIBYOSE</td>\n",
       "      <td>Feb 26, 2020</td>\n",
       "      <td>Feb 26, 2020</td>\n",
       "      <td>Everyone</td>\n",
       "      <td>False</td>\n",
       "      <td>False</td>\n",
       "    </tr>\n",
       "    <tr>\n",
       "      <th>1</th>\n",
       "      <td>Tools</td>\n",
       "      <td>4.4</td>\n",
       "      <td>64.0</td>\n",
       "      <td>5000.0</td>\n",
       "      <td>True</td>\n",
       "      <td>0.0</td>\n",
       "      <td>2.9M</td>\n",
       "      <td>5.0 and up</td>\n",
       "      <td>Webserveis</td>\n",
       "      <td>May 21, 2020</td>\n",
       "      <td>May 06, 2021</td>\n",
       "      <td>Everyone</td>\n",
       "      <td>True</td>\n",
       "      <td>False</td>\n",
       "    </tr>\n",
       "    <tr>\n",
       "      <th>2</th>\n",
       "      <td>Productivity</td>\n",
       "      <td>0.0</td>\n",
       "      <td>0.0</td>\n",
       "      <td>50.0</td>\n",
       "      <td>True</td>\n",
       "      <td>0.0</td>\n",
       "      <td>3.7M</td>\n",
       "      <td>4.0.3 and up</td>\n",
       "      <td>Cabin Crew</td>\n",
       "      <td>Aug 9, 2019</td>\n",
       "      <td>Aug 19, 2019</td>\n",
       "      <td>Everyone</td>\n",
       "      <td>False</td>\n",
       "      <td>False</td>\n",
       "    </tr>\n",
       "    <tr>\n",
       "      <th>3</th>\n",
       "      <td>Communication</td>\n",
       "      <td>5.0</td>\n",
       "      <td>5.0</td>\n",
       "      <td>10.0</td>\n",
       "      <td>True</td>\n",
       "      <td>0.0</td>\n",
       "      <td>1.8M</td>\n",
       "      <td>4.0.3 and up</td>\n",
       "      <td>Climate Smart Tech2</td>\n",
       "      <td>Sep 10, 2018</td>\n",
       "      <td>Oct 13, 2018</td>\n",
       "      <td>Everyone</td>\n",
       "      <td>True</td>\n",
       "      <td>False</td>\n",
       "    </tr>\n",
       "    <tr>\n",
       "      <th>4</th>\n",
       "      <td>Tools</td>\n",
       "      <td>0.0</td>\n",
       "      <td>0.0</td>\n",
       "      <td>100.0</td>\n",
       "      <td>True</td>\n",
       "      <td>0.0</td>\n",
       "      <td>6.2M</td>\n",
       "      <td>4.1 and up</td>\n",
       "      <td>Rafal Milek-Horodyski</td>\n",
       "      <td>Feb 21, 2020</td>\n",
       "      <td>Nov 12, 2018</td>\n",
       "      <td>Everyone</td>\n",
       "      <td>False</td>\n",
       "      <td>False</td>\n",
       "    </tr>\n",
       "  </tbody>\n",
       "</table>\n",
       "</div>"
      ],
      "text/plain": [
       "        Category  Rating  Rating Count  Minimum Installs  Free  Price  Size  \\\n",
       "0      Adventure     0.0           0.0              10.0  True    0.0   10M   \n",
       "1          Tools     4.4          64.0            5000.0  True    0.0  2.9M   \n",
       "2   Productivity     0.0           0.0              50.0  True    0.0  3.7M   \n",
       "3  Communication     5.0           5.0              10.0  True    0.0  1.8M   \n",
       "4          Tools     0.0           0.0             100.0  True    0.0  6.2M   \n",
       "\n",
       "  Minimum Android                       Developer Id      Released  \\\n",
       "0      7.1 and up  Jean Confident Irénée NIYIZIBYOSE  Feb 26, 2020   \n",
       "1      5.0 and up                         Webserveis  May 21, 2020   \n",
       "2    4.0.3 and up                         Cabin Crew   Aug 9, 2019   \n",
       "3    4.0.3 and up                Climate Smart Tech2  Sep 10, 2018   \n",
       "4      4.1 and up              Rafal Milek-Horodyski  Feb 21, 2020   \n",
       "\n",
       "   Last Updated Content Rating  Ad Supported  In App Purchases  \n",
       "0  Feb 26, 2020       Everyone         False             False  \n",
       "1  May 06, 2021       Everyone          True             False  \n",
       "2  Aug 19, 2019       Everyone         False             False  \n",
       "3  Oct 13, 2018       Everyone          True             False  \n",
       "4  Nov 12, 2018       Everyone         False             False  "
      ]
     },
     "execution_count": 10,
     "metadata": {},
     "output_type": "execute_result"
    }
   ],
   "source": [
    "data.drop(['App Name','App Id','Developer Website','Developer Email','Privacy Policy','Scraped Time','Installs','Maximum Installs','Editors Choice'],1,inplace=True)\n",
    "data.head()"
   ]
  },
  {
   "cell_type": "markdown",
   "metadata": {
    "id": "I0KUfaKLlSJx"
   },
   "source": [
    "- Analyse **Catagory**\n",
    "- Change the data type of **Minimum Installs** and **Minimum Installs**\n",
    "- Combine **Rating** and **Rating Count** as **Sum of Ratings**\n",
    "- One hot encode the column **Free**\n",
    "- Remove **M** in **Size** column and make it as float64\n",
    "- Remove the text in **Minimum Android** and make it as float64 data type and rename it\n",
    "- Check data types of **Released** and **Last Updated** \n",
    "- Analyse the column **Content Rating**\n",
    "- One hot encode the columns --> **Ad Supported, In App Purchase, Editors**\n"
   ]
  },
  {
   "cell_type": "code",
   "execution_count": 11,
   "metadata": {
    "colab": {
     "base_uri": "https://localhost:8080/"
    },
    "id": "L4I5BntKfsJk",
    "outputId": "2f7db588-830e-4986-9d87-6bdf07ca9c68"
   },
   "outputs": [
    {
     "data": {
      "text/plain": [
       "Index(['Category', 'Rating', 'Rating Count', 'Minimum Installs', 'Free',\n",
       "       'Price', 'Size', 'Minimum Android', 'Developer Id', 'Released',\n",
       "       'Last Updated', 'Content Rating', 'Ad Supported', 'In App Purchases'],\n",
       "      dtype='object')"
      ]
     },
     "execution_count": 11,
     "metadata": {},
     "output_type": "execute_result"
    }
   ],
   "source": [
    "data.columns"
   ]
  },
  {
   "cell_type": "code",
   "execution_count": 12,
   "metadata": {
    "colab": {
     "base_uri": "https://localhost:8080/"
    },
    "id": "gKEQks9XgyH9",
    "outputId": "ed11ba42-5099-44d8-8ccb-31590e74603e"
   },
   "outputs": [
    {
     "data": {
      "text/plain": [
       "Everyone           2020913\n",
       "Teen                196224\n",
       "Mature 17+           60254\n",
       "Everyone 10+         33868\n",
       "Unrated                154\n",
       "Adults only 18+        135\n",
       "Name: Content Rating, dtype: int64"
      ]
     },
     "execution_count": 12,
     "metadata": {},
     "output_type": "execute_result"
    }
   ],
   "source": [
    "data['Content Rating'].value_counts()"
   ]
  },
  {
   "cell_type": "markdown",
   "metadata": {
    "id": "GmFyEQDr386Q"
   },
   "source": [
    "Can apply **One Hot Encoding**"
   ]
  },
  {
   "cell_type": "code",
   "execution_count": 13,
   "metadata": {
    "colab": {
     "base_uri": "https://localhost:8080/"
    },
    "id": "u1-3rfhBAIQX",
    "outputId": "e20711e2-e696-4262-8b5a-bbf44c8390db"
   },
   "outputs": [
    {
     "name": "stdout",
     "output_type": "stream",
     "text": [
      "(2311548, 14)\n"
     ]
    },
    {
     "data": {
      "text/plain": [
       "(2288801, 14)"
      ]
     },
     "execution_count": 13,
     "metadata": {},
     "output_type": "execute_result"
    }
   ],
   "source": [
    "print(data.shape)\n",
    "data.dropna(subset=['Rating Count','Rating'],axis=0,inplace=True)\n",
    "data.shape"
   ]
  },
  {
   "cell_type": "markdown",
   "metadata": {
    "id": "onIZezV64Dz7"
   },
   "source": [
    "Dropping null values from **Rating Count and Rating** to create **Rating**"
   ]
  },
  {
   "cell_type": "code",
   "execution_count": 14,
   "metadata": {
    "colab": {
     "base_uri": "https://localhost:8080/",
     "height": 289
    },
    "id": "FuiAMR_h_q2h",
    "outputId": "8ba9fb6e-c7a6-4280-a207-44832540201a"
   },
   "outputs": [
    {
     "data": {
      "text/html": [
       "<div>\n",
       "<style scoped>\n",
       "    .dataframe tbody tr th:only-of-type {\n",
       "        vertical-align: middle;\n",
       "    }\n",
       "\n",
       "    .dataframe tbody tr th {\n",
       "        vertical-align: top;\n",
       "    }\n",
       "\n",
       "    .dataframe thead th {\n",
       "        text-align: right;\n",
       "    }\n",
       "</style>\n",
       "<table border=\"1\" class=\"dataframe\">\n",
       "  <thead>\n",
       "    <tr style=\"text-align: right;\">\n",
       "      <th></th>\n",
       "      <th>Category</th>\n",
       "      <th>Rating</th>\n",
       "      <th>Rating Count</th>\n",
       "      <th>Minimum Installs</th>\n",
       "      <th>Free</th>\n",
       "      <th>Price</th>\n",
       "      <th>Size</th>\n",
       "      <th>Minimum Android</th>\n",
       "      <th>Developer Id</th>\n",
       "      <th>Released</th>\n",
       "      <th>Last Updated</th>\n",
       "      <th>Content Rating</th>\n",
       "      <th>Ad Supported</th>\n",
       "      <th>In App Purchases</th>\n",
       "      <th>Rating Sum</th>\n",
       "    </tr>\n",
       "  </thead>\n",
       "  <tbody>\n",
       "    <tr>\n",
       "      <th>0</th>\n",
       "      <td>Adventure</td>\n",
       "      <td>0.0</td>\n",
       "      <td>0</td>\n",
       "      <td>10.0</td>\n",
       "      <td>True</td>\n",
       "      <td>0.0</td>\n",
       "      <td>10M</td>\n",
       "      <td>7.1 and up</td>\n",
       "      <td>Jean Confident Irénée NIYIZIBYOSE</td>\n",
       "      <td>Feb 26, 2020</td>\n",
       "      <td>Feb 26, 2020</td>\n",
       "      <td>Everyone</td>\n",
       "      <td>False</td>\n",
       "      <td>False</td>\n",
       "      <td>0.0</td>\n",
       "    </tr>\n",
       "    <tr>\n",
       "      <th>1</th>\n",
       "      <td>Tools</td>\n",
       "      <td>4.4</td>\n",
       "      <td>64</td>\n",
       "      <td>5000.0</td>\n",
       "      <td>True</td>\n",
       "      <td>0.0</td>\n",
       "      <td>2.9M</td>\n",
       "      <td>5.0 and up</td>\n",
       "      <td>Webserveis</td>\n",
       "      <td>May 21, 2020</td>\n",
       "      <td>May 06, 2021</td>\n",
       "      <td>Everyone</td>\n",
       "      <td>True</td>\n",
       "      <td>False</td>\n",
       "      <td>281.6</td>\n",
       "    </tr>\n",
       "    <tr>\n",
       "      <th>2</th>\n",
       "      <td>Productivity</td>\n",
       "      <td>0.0</td>\n",
       "      <td>0</td>\n",
       "      <td>50.0</td>\n",
       "      <td>True</td>\n",
       "      <td>0.0</td>\n",
       "      <td>3.7M</td>\n",
       "      <td>4.0.3 and up</td>\n",
       "      <td>Cabin Crew</td>\n",
       "      <td>Aug 9, 2019</td>\n",
       "      <td>Aug 19, 2019</td>\n",
       "      <td>Everyone</td>\n",
       "      <td>False</td>\n",
       "      <td>False</td>\n",
       "      <td>0.0</td>\n",
       "    </tr>\n",
       "    <tr>\n",
       "      <th>3</th>\n",
       "      <td>Communication</td>\n",
       "      <td>5.0</td>\n",
       "      <td>5</td>\n",
       "      <td>10.0</td>\n",
       "      <td>True</td>\n",
       "      <td>0.0</td>\n",
       "      <td>1.8M</td>\n",
       "      <td>4.0.3 and up</td>\n",
       "      <td>Climate Smart Tech2</td>\n",
       "      <td>Sep 10, 2018</td>\n",
       "      <td>Oct 13, 2018</td>\n",
       "      <td>Everyone</td>\n",
       "      <td>True</td>\n",
       "      <td>False</td>\n",
       "      <td>25.0</td>\n",
       "    </tr>\n",
       "    <tr>\n",
       "      <th>4</th>\n",
       "      <td>Tools</td>\n",
       "      <td>0.0</td>\n",
       "      <td>0</td>\n",
       "      <td>100.0</td>\n",
       "      <td>True</td>\n",
       "      <td>0.0</td>\n",
       "      <td>6.2M</td>\n",
       "      <td>4.1 and up</td>\n",
       "      <td>Rafal Milek-Horodyski</td>\n",
       "      <td>Feb 21, 2020</td>\n",
       "      <td>Nov 12, 2018</td>\n",
       "      <td>Everyone</td>\n",
       "      <td>False</td>\n",
       "      <td>False</td>\n",
       "      <td>0.0</td>\n",
       "    </tr>\n",
       "  </tbody>\n",
       "</table>\n",
       "</div>"
      ],
      "text/plain": [
       "        Category  Rating  Rating Count  Minimum Installs  Free  Price  Size  \\\n",
       "0      Adventure     0.0             0              10.0  True    0.0   10M   \n",
       "1          Tools     4.4            64            5000.0  True    0.0  2.9M   \n",
       "2   Productivity     0.0             0              50.0  True    0.0  3.7M   \n",
       "3  Communication     5.0             5              10.0  True    0.0  1.8M   \n",
       "4          Tools     0.0             0             100.0  True    0.0  6.2M   \n",
       "\n",
       "  Minimum Android                       Developer Id      Released  \\\n",
       "0      7.1 and up  Jean Confident Irénée NIYIZIBYOSE  Feb 26, 2020   \n",
       "1      5.0 and up                         Webserveis  May 21, 2020   \n",
       "2    4.0.3 and up                         Cabin Crew   Aug 9, 2019   \n",
       "3    4.0.3 and up                Climate Smart Tech2  Sep 10, 2018   \n",
       "4      4.1 and up              Rafal Milek-Horodyski  Feb 21, 2020   \n",
       "\n",
       "   Last Updated Content Rating  Ad Supported  In App Purchases  Rating Sum  \n",
       "0  Feb 26, 2020       Everyone         False             False         0.0  \n",
       "1  May 06, 2021       Everyone          True             False       281.6  \n",
       "2  Aug 19, 2019       Everyone         False             False         0.0  \n",
       "3  Oct 13, 2018       Everyone          True             False        25.0  \n",
       "4  Nov 12, 2018       Everyone         False             False         0.0  "
      ]
     },
     "execution_count": 14,
     "metadata": {},
     "output_type": "execute_result"
    }
   ],
   "source": [
    "data['Rating Count'] = data['Rating Count'].astype(int)\n",
    "data['Rating Sum'] = data['Rating Count'] * data['Rating']\n",
    "data.head()"
   ]
  },
  {
   "cell_type": "code",
   "execution_count": 15,
   "metadata": {
    "id": "6jZ2xc21miYg"
   },
   "outputs": [],
   "source": [
    "data['Size'] = data['Size'].str.replace('M','')\n",
    "data['Size'] = data['Size'].str.replace(',','')\n",
    "data.drop(data[data['Size'] == 'Varies with device'].index, inplace = True)\n",
    "data.drop(data[data['Size'].str.contains(\"k\") == True].index, inplace = True)"
   ]
  },
  {
   "cell_type": "markdown",
   "metadata": {
    "id": "nSpMcz0u4abi"
   },
   "source": [
    "Dropping Unnecessory rows with respect to **Size** and replacing string values to null to make it as **float** data type"
   ]
  },
  {
   "cell_type": "code",
   "execution_count": 16,
   "metadata": {
    "colab": {
     "base_uri": "https://localhost:8080/"
    },
    "id": "RAaKZWpowlOp",
    "outputId": "74ac6c45-9143-42a5-f627-86f42c22edee"
   },
   "outputs": [
    {
     "name": "stdout",
     "output_type": "stream",
     "text": [
      "13\n"
     ]
    }
   ],
   "source": [
    "index_lst_G = data[data['Size'].str.contains(\"G\") == True].index.to_list()\n",
    "print(len(index_lst_G))"
   ]
  },
  {
   "cell_type": "markdown",
   "metadata": {
    "id": "DWER1sav5Lry"
   },
   "source": [
    "Checking for number of rows with GB sized apps.\n",
    "- As it is less for is affordable to covert them into MB sized data"
   ]
  },
  {
   "cell_type": "code",
   "execution_count": 17,
   "metadata": {
    "id": "gbU0zP25yE9E"
   },
   "outputs": [],
   "source": [
    "for i in index_lst_G:\n",
    "    data.loc[i,'Size'] = data.loc[i,'Size'].replace('G','')\n",
    "    val = float(data.loc[i,'Size'])*1000\n",
    "    data.loc[i,'Size'] = str(val)"
   ]
  },
  {
   "cell_type": "code",
   "execution_count": 18,
   "metadata": {
    "id": "y9sdMQsrsJje"
   },
   "outputs": [],
   "source": [
    "data['Size'] = data['Size'].astype(float)"
   ]
  },
  {
   "cell_type": "markdown",
   "metadata": {
    "id": "IonR3zKx5dyC"
   },
   "source": [
    "Converting the data type of **Size**"
   ]
  },
  {
   "cell_type": "code",
   "execution_count": 19,
   "metadata": {
    "colab": {
     "base_uri": "https://localhost:8080/"
    },
    "id": "Y8pIywP1m5L5",
    "outputId": "0500f2ab-27df-4ff0-92c0-969fc07af720"
   },
   "outputs": [
    {
     "data": {
      "text/plain": [
       "0            7.1\n",
       "1            5.0\n",
       "2          4.0.3\n",
       "3          4.0.3\n",
       "4            4.1\n",
       "           ...  \n",
       "2311543      4.1\n",
       "2311544      4.1\n",
       "2311545      5.0\n",
       "2311546      5.0\n",
       "2311547      5.0\n",
       "Name: Minimum Android, Length: 2199515, dtype: object"
      ]
     },
     "execution_count": 19,
     "metadata": {},
     "output_type": "execute_result"
    }
   ],
   "source": [
    "data['Minimum Android'] = data['Minimum Android'].str.replace(' and up','')\n",
    "data['Minimum Android']"
   ]
  },
  {
   "cell_type": "markdown",
   "metadata": {
    "id": "GrF7YMs15sm4"
   },
   "source": [
    "Replacing Unnecessory Strings to empty String"
   ]
  },
  {
   "cell_type": "code",
   "execution_count": 20,
   "metadata": {
    "id": "yJ30LqfiAuib"
   },
   "outputs": [],
   "source": [
    "data.loc[data['Minimum Android'].str.count('.') == 5.0,'Minimum Android'] = data[data['Minimum Android'].str.count('.') == 5.0]['Minimum Android'].str[:-2]"
   ]
  },
  {
   "cell_type": "markdown",
   "metadata": {
    "id": "mp2Fv6DN5zGX"
   },
   "source": [
    "Trimming off the 3 Digit Versions to 2"
   ]
  },
  {
   "cell_type": "code",
   "execution_count": 21,
   "metadata": {
    "colab": {
     "base_uri": "https://localhost:8080/"
    },
    "id": "HtxJcTHdh0GY",
    "outputId": "268de3a9-a7eb-4f01-8265-b4b3630ff234"
   },
   "outputs": [
    {
     "name": "stdout",
     "output_type": "stream",
     "text": [
      "(2199515, 15)\n"
     ]
    },
    {
     "data": {
      "text/plain": [
       "(2197783, 15)"
      ]
     },
     "execution_count": 21,
     "metadata": {},
     "output_type": "execute_result"
    }
   ],
   "source": [
    "data['Minimum Android'] = data['Minimum Android'].str.replace('W','')\n",
    "print(data.shape)\n",
    "data.drop(data[data['Minimum Android'] == 'Varies with device'].index, inplace = True)\n",
    "data.shape"
   ]
  },
  {
   "cell_type": "markdown",
   "metadata": {
    "id": "L3n2ru5562ho"
   },
   "source": [
    "Dropping and replacing of unwanted strings"
   ]
  },
  {
   "cell_type": "code",
   "execution_count": 22,
   "metadata": {
    "colab": {
     "base_uri": "https://localhost:8080/"
    },
    "id": "_YlSyjfKiWhE",
    "outputId": "37a39eb2-46b3-42b3-9f2a-62442d605392"
   },
   "outputs": [
    {
     "data": {
      "text/plain": [
       "2151       4.0.3 - 7.1.1\n",
       "13638          4.4 - 6.0\n",
       "18530          2.1 - 4.4\n",
       "20993          4.0 - 5.0\n",
       "24147        2.0 - 2.3.4\n",
       "               ...      \n",
       "2282236        4.0 - 6.0\n",
       "2282337        2.3 - 4.4\n",
       "2299017        4.0 - 6.0\n",
       "2302402      4.0.3 - 6.0\n",
       "2303669      4.0.3 - 6.0\n",
       "Name: Minimum Android, Length: 383, dtype: object"
      ]
     },
     "execution_count": 22,
     "metadata": {},
     "output_type": "execute_result"
    }
   ],
   "source": [
    "data[data['Minimum Android'].str.count('.') > 5.0]['Minimum Android']"
   ]
  },
  {
   "cell_type": "code",
   "execution_count": 23,
   "metadata": {
    "id": "ZqpJJL-7iqBa"
   },
   "outputs": [],
   "source": [
    "data.drop(data[data['Minimum Android'].str.count('.') > 5.0]['Minimum Android'].index, inplace = True)"
   ]
  },
  {
   "cell_type": "markdown",
   "metadata": {
    "id": "GlGr-c4G683w"
   },
   "source": [
    "As the number of rows which has complex versions are less, we **Drop** them"
   ]
  },
  {
   "cell_type": "code",
   "execution_count": 24,
   "metadata": {
    "colab": {
     "base_uri": "https://localhost:8080/",
     "height": 606
    },
    "id": "6URTCXw5f5Pd",
    "outputId": "fa53f281-b84f-483f-f9bf-1428c72f0bda"
   },
   "outputs": [
    {
     "data": {
      "text/html": [
       "<div>\n",
       "<style scoped>\n",
       "    .dataframe tbody tr th:only-of-type {\n",
       "        vertical-align: middle;\n",
       "    }\n",
       "\n",
       "    .dataframe tbody tr th {\n",
       "        vertical-align: top;\n",
       "    }\n",
       "\n",
       "    .dataframe thead th {\n",
       "        text-align: right;\n",
       "    }\n",
       "</style>\n",
       "<table border=\"1\" class=\"dataframe\">\n",
       "  <thead>\n",
       "    <tr style=\"text-align: right;\">\n",
       "      <th></th>\n",
       "      <th>Category</th>\n",
       "      <th>Rating</th>\n",
       "      <th>Rating Count</th>\n",
       "      <th>Minimum Installs</th>\n",
       "      <th>Free</th>\n",
       "      <th>Price</th>\n",
       "      <th>Size</th>\n",
       "      <th>Minimum Android</th>\n",
       "      <th>Developer Id</th>\n",
       "      <th>Released</th>\n",
       "      <th>Last Updated</th>\n",
       "      <th>Content Rating</th>\n",
       "      <th>Ad Supported</th>\n",
       "      <th>In App Purchases</th>\n",
       "      <th>Rating Sum</th>\n",
       "    </tr>\n",
       "  </thead>\n",
       "  <tbody>\n",
       "    <tr>\n",
       "      <th>0</th>\n",
       "      <td>Adventure</td>\n",
       "      <td>0.0</td>\n",
       "      <td>0</td>\n",
       "      <td>10.0</td>\n",
       "      <td>True</td>\n",
       "      <td>0.0</td>\n",
       "      <td>10.0</td>\n",
       "      <td>7.1</td>\n",
       "      <td>Jean Confident Irénée NIYIZIBYOSE</td>\n",
       "      <td>Feb 26, 2020</td>\n",
       "      <td>Feb 26, 2020</td>\n",
       "      <td>Everyone</td>\n",
       "      <td>False</td>\n",
       "      <td>False</td>\n",
       "      <td>0.0</td>\n",
       "    </tr>\n",
       "    <tr>\n",
       "      <th>1</th>\n",
       "      <td>Tools</td>\n",
       "      <td>4.4</td>\n",
       "      <td>64</td>\n",
       "      <td>5000.0</td>\n",
       "      <td>True</td>\n",
       "      <td>0.0</td>\n",
       "      <td>2.9</td>\n",
       "      <td>5.0</td>\n",
       "      <td>Webserveis</td>\n",
       "      <td>May 21, 2020</td>\n",
       "      <td>May 06, 2021</td>\n",
       "      <td>Everyone</td>\n",
       "      <td>True</td>\n",
       "      <td>False</td>\n",
       "      <td>281.6</td>\n",
       "    </tr>\n",
       "    <tr>\n",
       "      <th>2</th>\n",
       "      <td>Productivity</td>\n",
       "      <td>0.0</td>\n",
       "      <td>0</td>\n",
       "      <td>50.0</td>\n",
       "      <td>True</td>\n",
       "      <td>0.0</td>\n",
       "      <td>3.7</td>\n",
       "      <td>4.0</td>\n",
       "      <td>Cabin Crew</td>\n",
       "      <td>Aug 9, 2019</td>\n",
       "      <td>Aug 19, 2019</td>\n",
       "      <td>Everyone</td>\n",
       "      <td>False</td>\n",
       "      <td>False</td>\n",
       "      <td>0.0</td>\n",
       "    </tr>\n",
       "    <tr>\n",
       "      <th>3</th>\n",
       "      <td>Communication</td>\n",
       "      <td>5.0</td>\n",
       "      <td>5</td>\n",
       "      <td>10.0</td>\n",
       "      <td>True</td>\n",
       "      <td>0.0</td>\n",
       "      <td>1.8</td>\n",
       "      <td>4.0</td>\n",
       "      <td>Climate Smart Tech2</td>\n",
       "      <td>Sep 10, 2018</td>\n",
       "      <td>Oct 13, 2018</td>\n",
       "      <td>Everyone</td>\n",
       "      <td>True</td>\n",
       "      <td>False</td>\n",
       "      <td>25.0</td>\n",
       "    </tr>\n",
       "    <tr>\n",
       "      <th>4</th>\n",
       "      <td>Tools</td>\n",
       "      <td>0.0</td>\n",
       "      <td>0</td>\n",
       "      <td>100.0</td>\n",
       "      <td>True</td>\n",
       "      <td>0.0</td>\n",
       "      <td>6.2</td>\n",
       "      <td>4.1</td>\n",
       "      <td>Rafal Milek-Horodyski</td>\n",
       "      <td>Feb 21, 2020</td>\n",
       "      <td>Nov 12, 2018</td>\n",
       "      <td>Everyone</td>\n",
       "      <td>False</td>\n",
       "      <td>False</td>\n",
       "      <td>0.0</td>\n",
       "    </tr>\n",
       "    <tr>\n",
       "      <th>...</th>\n",
       "      <td>...</td>\n",
       "      <td>...</td>\n",
       "      <td>...</td>\n",
       "      <td>...</td>\n",
       "      <td>...</td>\n",
       "      <td>...</td>\n",
       "      <td>...</td>\n",
       "      <td>...</td>\n",
       "      <td>...</td>\n",
       "      <td>...</td>\n",
       "      <td>...</td>\n",
       "      <td>...</td>\n",
       "      <td>...</td>\n",
       "      <td>...</td>\n",
       "      <td>...</td>\n",
       "    </tr>\n",
       "    <tr>\n",
       "      <th>2311543</th>\n",
       "      <td>Role Playing</td>\n",
       "      <td>4.3</td>\n",
       "      <td>16775</td>\n",
       "      <td>100000.0</td>\n",
       "      <td>True</td>\n",
       "      <td>0.0</td>\n",
       "      <td>77.0</td>\n",
       "      <td>4.1</td>\n",
       "      <td>ALICE GAME</td>\n",
       "      <td>NaN</td>\n",
       "      <td>Jun 01, 2021</td>\n",
       "      <td>Teen</td>\n",
       "      <td>False</td>\n",
       "      <td>False</td>\n",
       "      <td>72132.5</td>\n",
       "    </tr>\n",
       "    <tr>\n",
       "      <th>2311544</th>\n",
       "      <td>Education</td>\n",
       "      <td>0.0</td>\n",
       "      <td>0</td>\n",
       "      <td>100.0</td>\n",
       "      <td>True</td>\n",
       "      <td>0.0</td>\n",
       "      <td>44.0</td>\n",
       "      <td>4.1</td>\n",
       "      <td>3Dream Studios, LLC</td>\n",
       "      <td>Jan 17, 2018</td>\n",
       "      <td>Feb 02, 2018</td>\n",
       "      <td>Everyone</td>\n",
       "      <td>False</td>\n",
       "      <td>False</td>\n",
       "      <td>0.0</td>\n",
       "    </tr>\n",
       "    <tr>\n",
       "      <th>2311545</th>\n",
       "      <td>Education</td>\n",
       "      <td>0.0</td>\n",
       "      <td>0</td>\n",
       "      <td>100.0</td>\n",
       "      <td>True</td>\n",
       "      <td>0.0</td>\n",
       "      <td>29.0</td>\n",
       "      <td>5.0</td>\n",
       "      <td>appoworld</td>\n",
       "      <td>Aug 19, 2018</td>\n",
       "      <td>Aug 19, 2018</td>\n",
       "      <td>Everyone</td>\n",
       "      <td>False</td>\n",
       "      <td>False</td>\n",
       "      <td>0.0</td>\n",
       "    </tr>\n",
       "    <tr>\n",
       "      <th>2311546</th>\n",
       "      <td>Music &amp; Audio</td>\n",
       "      <td>3.5</td>\n",
       "      <td>8</td>\n",
       "      <td>1000.0</td>\n",
       "      <td>True</td>\n",
       "      <td>0.0</td>\n",
       "      <td>10.0</td>\n",
       "      <td>5.0</td>\n",
       "      <td>Bhakti</td>\n",
       "      <td>Aug 1, 2016</td>\n",
       "      <td>May 05, 2021</td>\n",
       "      <td>Everyone</td>\n",
       "      <td>True</td>\n",
       "      <td>False</td>\n",
       "      <td>28.0</td>\n",
       "    </tr>\n",
       "    <tr>\n",
       "      <th>2311547</th>\n",
       "      <td>Trivia</td>\n",
       "      <td>5.0</td>\n",
       "      <td>12</td>\n",
       "      <td>100.0</td>\n",
       "      <td>True</td>\n",
       "      <td>0.0</td>\n",
       "      <td>5.2</td>\n",
       "      <td>5.0</td>\n",
       "      <td>Y Yazılım</td>\n",
       "      <td>Aug 9, 2019</td>\n",
       "      <td>Aug 19, 2019</td>\n",
       "      <td>Everyone</td>\n",
       "      <td>True</td>\n",
       "      <td>False</td>\n",
       "      <td>60.0</td>\n",
       "    </tr>\n",
       "  </tbody>\n",
       "</table>\n",
       "<p>2197400 rows × 15 columns</p>\n",
       "</div>"
      ],
      "text/plain": [
       "              Category  Rating  Rating Count  Minimum Installs  Free  Price  \\\n",
       "0            Adventure     0.0             0              10.0  True    0.0   \n",
       "1                Tools     4.4            64            5000.0  True    0.0   \n",
       "2         Productivity     0.0             0              50.0  True    0.0   \n",
       "3        Communication     5.0             5              10.0  True    0.0   \n",
       "4                Tools     0.0             0             100.0  True    0.0   \n",
       "...                ...     ...           ...               ...   ...    ...   \n",
       "2311543   Role Playing     4.3         16775          100000.0  True    0.0   \n",
       "2311544      Education     0.0             0             100.0  True    0.0   \n",
       "2311545      Education     0.0             0             100.0  True    0.0   \n",
       "2311546  Music & Audio     3.5             8            1000.0  True    0.0   \n",
       "2311547         Trivia     5.0            12             100.0  True    0.0   \n",
       "\n",
       "         Size Minimum Android                       Developer Id  \\\n",
       "0        10.0             7.1  Jean Confident Irénée NIYIZIBYOSE   \n",
       "1         2.9             5.0                         Webserveis   \n",
       "2         3.7             4.0                         Cabin Crew   \n",
       "3         1.8             4.0                Climate Smart Tech2   \n",
       "4         6.2             4.1              Rafal Milek-Horodyski   \n",
       "...       ...             ...                                ...   \n",
       "2311543  77.0             4.1                         ALICE GAME   \n",
       "2311544  44.0             4.1                3Dream Studios, LLC   \n",
       "2311545  29.0             5.0                          appoworld   \n",
       "2311546  10.0             5.0                             Bhakti   \n",
       "2311547   5.2             5.0                          Y Yazılım   \n",
       "\n",
       "             Released  Last Updated Content Rating  Ad Supported  \\\n",
       "0        Feb 26, 2020  Feb 26, 2020       Everyone         False   \n",
       "1        May 21, 2020  May 06, 2021       Everyone          True   \n",
       "2         Aug 9, 2019  Aug 19, 2019       Everyone         False   \n",
       "3        Sep 10, 2018  Oct 13, 2018       Everyone          True   \n",
       "4        Feb 21, 2020  Nov 12, 2018       Everyone         False   \n",
       "...               ...           ...            ...           ...   \n",
       "2311543           NaN  Jun 01, 2021           Teen         False   \n",
       "2311544  Jan 17, 2018  Feb 02, 2018       Everyone         False   \n",
       "2311545  Aug 19, 2018  Aug 19, 2018       Everyone         False   \n",
       "2311546   Aug 1, 2016  May 05, 2021       Everyone          True   \n",
       "2311547   Aug 9, 2019  Aug 19, 2019       Everyone          True   \n",
       "\n",
       "         In App Purchases  Rating Sum  \n",
       "0                   False         0.0  \n",
       "1                   False       281.6  \n",
       "2                   False         0.0  \n",
       "3                   False        25.0  \n",
       "4                   False         0.0  \n",
       "...                   ...         ...  \n",
       "2311543             False     72132.5  \n",
       "2311544             False         0.0  \n",
       "2311545             False         0.0  \n",
       "2311546             False        28.0  \n",
       "2311547             False        60.0  \n",
       "\n",
       "[2197400 rows x 15 columns]"
      ]
     },
     "execution_count": 24,
     "metadata": {},
     "output_type": "execute_result"
    }
   ],
   "source": [
    "data"
   ]
  },
  {
   "cell_type": "code",
   "execution_count": 25,
   "metadata": {
    "id": "-4uPgPQYhf5P"
   },
   "outputs": [],
   "source": [
    "data['Minimum Android'] = data['Minimum Android'].astype(float)"
   ]
  },
  {
   "cell_type": "code",
   "execution_count": 26,
   "metadata": {
    "id": "f7QNRw_9oYUC"
   },
   "outputs": [],
   "source": [
    "data['Minimum Installs'] = data['Minimum Installs'].astype(int)"
   ]
  },
  {
   "cell_type": "code",
   "execution_count": null,
   "metadata": {
    "id": "tdTbGCQ93CVk"
   },
   "outputs": [],
   "source": [
    "data['Released'] = pd.to_datetime(data['Released'])\n",
    "data['Last Updated'] = pd.to_datetime(data['Last Updated'])"
   ]
  },
  {
   "cell_type": "markdown",
   "metadata": {
    "id": "P1MJgs1v7Iz9"
   },
   "source": [
    "Changing of data types"
   ]
  },
  {
   "cell_type": "code",
   "execution_count": null,
   "metadata": {
    "colab": {
     "base_uri": "https://localhost:8080/"
    },
    "id": "wsqeMcnnpigL",
    "outputId": "7e5f4f7c-9286-4c64-872d-85f39fa3e3d8"
   },
   "outputs": [],
   "source": [
    "data.dtypes"
   ]
  },
  {
   "cell_type": "code",
   "execution_count": null,
   "metadata": {
    "colab": {
     "base_uri": "https://localhost:8080/",
     "height": 306
    },
    "id": "LpIRuTVD8IrZ",
    "outputId": "adaf6557-c69f-494b-dbae-4caa09c91589"
   },
   "outputs": [],
   "source": [
    "data.head()"
   ]
  },
  {
   "cell_type": "code",
   "execution_count": null,
   "metadata": {
    "colab": {
     "base_uri": "https://localhost:8080/"
    },
    "id": "hsegymzmnASS",
    "outputId": "e589f596-826b-4b82-f391-399a0bd9a80f"
   },
   "outputs": [],
   "source": [
    "data.isna().sum()"
   ]
  },
  {
   "cell_type": "markdown",
   "metadata": {
    "id": "tF6BAC1o71rN"
   },
   "source": [
    "Finally checking and Dropping Null values"
   ]
  },
  {
   "cell_type": "code",
   "execution_count": null,
   "metadata": {
    "colab": {
     "base_uri": "https://localhost:8080/"
    },
    "id": "1f7RI_EOqiML",
    "outputId": "94928ab7-49a7-4f03-c98f-bd144ac94a97"
   },
   "outputs": [],
   "source": [
    "data.shape"
   ]
  },
  {
   "cell_type": "code",
   "execution_count": null,
   "metadata": {
    "colab": {
     "base_uri": "https://localhost:8080/"
    },
    "id": "omp37QDGnH2Z",
    "outputId": "82f37bfc-7647-4bb0-fb15-e1f4877c1c58"
   },
   "outputs": [],
   "source": [
    "data.dropna(axis = 0, inplace = True)\n",
    "data.shape"
   ]
  },
  {
   "cell_type": "code",
   "execution_count": null,
   "metadata": {
    "colab": {
     "base_uri": "https://localhost:8080/"
    },
    "id": "CnuepWhQtEEp",
    "outputId": "f93614cd-9a9e-4f32-cf4d-01bd906ccef4"
   },
   "outputs": [],
   "source": [
    "for i in [\"Category\",\"Content Rating\",\"Developer Id\"]:\n",
    "    print(data[data[i] == ''].index.to_list())"
   ]
  },
  {
   "cell_type": "code",
   "execution_count": null,
   "metadata": {
    "colab": {
     "base_uri": "https://localhost:8080/"
    },
    "id": "w5HAZMCw8pvX",
    "outputId": "6df5a2de-e0a8-4b34-9270-f56ddee5b428"
   },
   "outputs": [],
   "source": [
    "for i in [\"Size\",\"Minimum Android\"]:\n",
    "    print(data[data[i] == 0.0].index.to_list())"
   ]
  },
  {
   "cell_type": "markdown",
   "metadata": {
    "id": "2Dhzp8tv8j0X"
   },
   "source": [
    "Checking for **Hidden Null values**"
   ]
  },
  {
   "cell_type": "code",
   "execution_count": null,
   "metadata": {
    "colab": {
     "base_uri": "https://localhost:8080/",
     "height": 606
    },
    "id": "82iBjk6Pw82j",
    "outputId": "a096ff42-04f5-4e26-9823-97ee529f0517"
   },
   "outputs": [],
   "source": [
    "data"
   ]
  },
  {
   "cell_type": "code",
   "execution_count": null,
   "metadata": {
    "colab": {
     "base_uri": "https://localhost:8080/",
     "height": 606
    },
    "id": "kv7Er3mgyprQ",
    "outputId": "36a51e55-0bc7-40ba-9a86-e37271931498"
   },
   "outputs": [],
   "source": [
    "data = data[['Category', 'Free', 'Price',\n",
    "       'Size', 'Minimum Android', 'Developer Id', 'Released', 'Last Updated',\n",
    "       'Content Rating', 'Ad Supported', 'In App Purchases','Rating', 'Rating Count', 'Rating Sum' , 'Minimum Installs']]\n",
    "data"
   ]
  },
  {
   "cell_type": "code",
   "execution_count": null,
   "metadata": {
    "id": "yjolLRb6xDgQ"
   },
   "outputs": [],
   "source": [
    "data.rename(columns = {'Rating Count':'Rating_Count',\n",
    "                       'Minimum Installs':'Min_Downloads',\n",
    "                       'Minimum Android':'Min_Version',\n",
    "                       'Last Updated':'Last_Updated',\n",
    "                       'Content Rating':'Content',\n",
    "                       'Ad Supported':'Ad_Support',\n",
    "                       'In App Purchases':'Inapp_Purchase',\n",
    "                       'Rating Sum':'Rating_Sum',\n",
    "                       'Developer Id':'DeveloperId'}, inplace = True)"
   ]
  },
  {
   "cell_type": "code",
   "execution_count": null,
   "metadata": {
    "colab": {
     "base_uri": "https://localhost:8080/"
    },
    "id": "NO3DdSNGyj_z",
    "outputId": "fe03db0c-dc6d-4fc2-e6d7-fa87e55a6db2"
   },
   "outputs": [],
   "source": [
    "data.columns"
   ]
  },
  {
   "cell_type": "markdown",
   "metadata": {
    "id": "fAVs1wk98Fs6"
   },
   "source": [
    "Renaming and Reordering **Column Names**"
   ]
  },
  {
   "cell_type": "code",
   "execution_count": null,
   "metadata": {
    "colab": {
     "base_uri": "https://localhost:8080/",
     "height": 297
    },
    "id": "P4Gu9ud1-YRQ",
    "outputId": "e2247f6c-22e4-4700-e320-98b63ef4154c"
   },
   "outputs": [],
   "source": [
    "data.describe(include = [np.number])"
   ]
  },
  {
   "cell_type": "code",
   "execution_count": null,
   "metadata": {
    "colab": {
     "base_uri": "https://localhost:8080/",
     "height": 173
    },
    "id": "J9CaiGsQBB7B",
    "outputId": "68626168-8b1e-4a2e-8423-840c9f32bbfb"
   },
   "outputs": [],
   "source": [
    "data.describe(include = ['O'])"
   ]
  },
  {
   "cell_type": "code",
   "execution_count": null,
   "metadata": {
    "id": "Q8NGuV7gzh44"
   },
   "outputs": [],
   "source": [
    "data.to_csv('Playstore-data.csv')"
   ]
  },
  {
   "cell_type": "code",
   "execution_count": null,
   "metadata": {
    "id": "Zlrge0c-BHxC"
   },
   "outputs": [],
   "source": []
  }
 ],
 "metadata": {
  "colab": {
   "collapsed_sections": [],
   "name": "Playstore_cleaning.ipynb",
   "provenance": []
  },
  "kernelspec": {
   "display_name": "Python 3",
   "language": "python",
   "name": "python3"
  },
  "language_info": {
   "codemirror_mode": {
    "name": "ipython",
    "version": 3
   },
   "file_extension": ".py",
   "mimetype": "text/x-python",
   "name": "python",
   "nbconvert_exporter": "python",
   "pygments_lexer": "ipython3",
   "version": "3.8.10"
  }
 },
 "nbformat": 4,
 "nbformat_minor": 1
}
