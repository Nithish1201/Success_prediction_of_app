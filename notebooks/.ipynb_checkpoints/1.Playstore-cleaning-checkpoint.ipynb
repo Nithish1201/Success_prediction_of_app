{
 "cells": [
  {
   "cell_type": "markdown",
   "metadata": {
    "id": "FCHedMXT3JTs"
   },
   "source": [
    "# **Cleaning Data**"
   ]
  },
  {
   "cell_type": "markdown",
   "metadata": {
    "id": "covX1ZDu3c7d"
   },
   "source": [
    "### Importing packages"
   ]
  },
  {
   "cell_type": "code",
   "execution_count": 1,
   "metadata": {
    "id": "iv5Ywi31c4oM"
   },
   "outputs": [],
   "source": [
    "import pandas as pd\n",
    "import numpy as np\n",
    "import matplotlib.pyplot as plt\n",
    "import seaborn as sns"
   ]
  },
  {
   "cell_type": "code",
   "execution_count": 2,
   "metadata": {},
   "outputs": [
    {
     "name": "stdout",
     "output_type": "stream",
     "text": [
      "Requirement already satisfied: opendatasets in f:\\nordic internship\\projects\\dsbjun21\\lib\\site-packages (0.1.20)\n",
      "Requirement already satisfied: click in f:\\nordic internship\\projects\\dsbjun21\\lib\\site-packages (from opendatasets) (7.1.2)\n",
      "Requirement already satisfied: kaggle in f:\\nordic internship\\projects\\dsbjun21\\lib\\site-packages (from opendatasets) (1.5.12)\n",
      "Requirement already satisfied: tqdm in f:\\nordic internship\\projects\\dsbjun21\\lib\\site-packages (from opendatasets) (4.62.2)\n",
      "Requirement already satisfied: six>=1.10 in f:\\nordic internship\\projects\\dsbjun21\\lib\\site-packages (from kaggle->opendatasets) (1.15.0)\n",
      "Requirement already satisfied: certifi in f:\\nordic internship\\projects\\dsbjun21\\lib\\site-packages (from kaggle->opendatasets) (2021.5.30)\n",
      "Requirement already satisfied: python-dateutil in f:\\nordic internship\\projects\\dsbjun21\\lib\\site-packages (from kaggle->opendatasets) (2.8.1)\n",
      "Requirement already satisfied: requests in f:\\nordic internship\\projects\\dsbjun21\\lib\\site-packages (from kaggle->opendatasets) (2.26.0)\n",
      "Requirement already satisfied: urllib3 in f:\\nordic internship\\projects\\dsbjun21\\lib\\site-packages (from kaggle->opendatasets) (1.26.6)\n",
      "Requirement already satisfied: python-slugify in f:\\nordic internship\\projects\\dsbjun21\\lib\\site-packages (from kaggle->opendatasets) (5.0.2)\n",
      "Requirement already satisfied: text-unidecode>=1.3 in f:\\nordic internship\\projects\\dsbjun21\\lib\\site-packages (from python-slugify->kaggle->opendatasets) (1.3)\n",
      "Requirement already satisfied: charset-normalizer~=2.0.0 in f:\\nordic internship\\projects\\dsbjun21\\lib\\site-packages (from requests->kaggle->opendatasets) (2.0.4)\n",
      "Requirement already satisfied: idna<4,>=2.5 in f:\\nordic internship\\projects\\dsbjun21\\lib\\site-packages (from requests->kaggle->opendatasets) (3.2)\n",
      "Requirement already satisfied: colorama in f:\\nordic internship\\projects\\dsbjun21\\lib\\site-packages (from tqdm->opendatasets) (0.4.4)\n"
     ]
    },
    {
     "name": "stderr",
     "output_type": "stream",
     "text": [
      "WARNING: You are using pip version 21.1.1; however, version 21.2.4 is available.\n",
      "You should consider upgrading via the 'f:\\nordic internship\\projects\\dsbjun21\\scripts\\python.exe -m pip install --upgrade pip' command.\n"
     ]
    }
   ],
   "source": [
    "!pip install opendatasets"
   ]
  },
  {
   "cell_type": "code",
   "execution_count": 3,
   "metadata": {},
   "outputs": [],
   "source": [
    "import opendatasets as od"
   ]
  },
  {
   "cell_type": "code",
   "execution_count": null,
   "metadata": {},
   "outputs": [
    {
     "name": "stdout",
     "output_type": "stream",
     "text": [
      "Please provide your Kaggle credentials to download this dataset. Learn more: http://bit.ly/kaggle-creds\n",
      "Your Kaggle username: nithish1201\n",
      "Your Kaggle Key: "
     ]
    }
   ],
   "source": [
    "od.download(\"https://www.kaggle.com/gauthamp10/google-playstore-apps\")"
   ]
  },
  {
   "cell_type": "code",
   "execution_count": null,
   "metadata": {},
   "outputs": [],
   "source": [
    "!dir"
   ]
  },
  {
   "cell_type": "code",
   "execution_count": null,
   "metadata": {},
   "outputs": [],
   "source": [
    "data = pd.read_csv('google-playstore-apps/Google-Playstore.csv')"
   ]
  },
  {
   "cell_type": "code",
   "execution_count": null,
   "metadata": {
    "colab": {
     "base_uri": "https://localhost:8080/"
    },
    "id": "hHFL_gtueZIF",
    "outputId": "ac2d45cd-8207-4b73-d681-8cdbcf8dc2b0"
   },
   "outputs": [],
   "source": [
    "data.shape"
   ]
  },
  {
   "cell_type": "code",
   "execution_count": null,
   "metadata": {
    "colab": {
     "base_uri": "https://localhost:8080/",
     "height": 431
    },
    "id": "XulfMNjyVekG",
    "outputId": "1d292d37-78ae-4f06-e5ec-d2f5c3c6e5fc"
   },
   "outputs": [],
   "source": [
    "data.head(4)"
   ]
  },
  {
   "cell_type": "code",
   "execution_count": null,
   "metadata": {
    "colab": {
     "base_uri": "https://localhost:8080/"
    },
    "id": "BTi864ikSeS0",
    "outputId": "69c04a54-369e-400a-807a-099318ddb692"
   },
   "outputs": [],
   "source": [
    "data['Category'].value_counts()"
   ]
  },
  {
   "cell_type": "code",
   "execution_count": null,
   "metadata": {
    "colab": {
     "base_uri": "https://localhost:8080/"
    },
    "id": "NBrp1lfkSkEe",
    "outputId": "968c5e47-5e3f-40c8-cee2-b7380186b2c2"
   },
   "outputs": [],
   "source": [
    "len(data['Category'].value_counts())"
   ]
  },
  {
   "cell_type": "code",
   "execution_count": null,
   "metadata": {
    "colab": {
     "base_uri": "https://localhost:8080/"
    },
    "id": "SFFtvwUzSzK8",
    "outputId": "b06e8a46-c84f-4977-cb58-e74043476105"
   },
   "outputs": [],
   "source": [
    "data['Currency'].value_counts()"
   ]
  },
  {
   "cell_type": "code",
   "execution_count": null,
   "metadata": {
    "id": "h1tXKpEZS4Fq"
   },
   "outputs": [],
   "source": [
    "data = data[data['Currency'] == 'USD']\n",
    "data.drop(['Currency'],1,inplace=True)\n",
    "data = data.reset_index(drop=True)"
   ]
  },
  {
   "cell_type": "markdown",
   "metadata": {
    "id": "aI68gPJwTvzA"
   },
   "source": [
    "Taking the data which has **Currency** as **USD** and dropping the **Currency** column"
   ]
  },
  {
   "cell_type": "code",
   "execution_count": null,
   "metadata": {
    "colab": {
     "base_uri": "https://localhost:8080/"
    },
    "id": "szFqsEhxTAFV",
    "outputId": "4275eada-4852-4dd1-bb0c-42de0cea3288"
   },
   "outputs": [],
   "source": [
    "data.shape"
   ]
  },
  {
   "cell_type": "markdown",
   "metadata": {
    "id": "HeQZdzvO30sY"
   },
   "source": [
    "### Dropping unnecessory columns"
   ]
  },
  {
   "cell_type": "code",
   "execution_count": null,
   "metadata": {
    "colab": {
     "base_uri": "https://localhost:8080/",
     "height": 255
    },
    "id": "WJGEWID1fzb8",
    "outputId": "d46f1de8-e204-4497-e777-d2d6413f9a24"
   },
   "outputs": [],
   "source": [
    "data.drop(['App Name','App Id','Developer Website','Developer Email','Privacy Policy','Scraped Time','Installs','Editors Choice','Rating','Rating Count'],1,inplace=True)\n",
    "data.head()"
   ]
  },
  {
   "cell_type": "markdown",
   "metadata": {
    "id": "I0KUfaKLlSJx"
   },
   "source": [
    "- Analyse **Catagory**\n",
    "- Change the data type of **Minimum Installs** and **Minimum Installs**\n",
    "- Combine **Rating** and **Rating Count** as **Sum of Ratings**\n",
    "- One hot encode the column **Free**\n",
    "- Remove **M** in **Size** column and make it as float64\n",
    "- Remove the text in **Minimum Android** and make it as float64 data type and rename it\n",
    "- Check data types of **Released** and **Last Updated** \n",
    "- Analyse the column **Content Rating**\n",
    "- One hot encode the columns --> **Ad Supported, In App Purchase, Editors**\n"
   ]
  },
  {
   "cell_type": "code",
   "execution_count": null,
   "metadata": {
    "colab": {
     "base_uri": "https://localhost:8080/"
    },
    "id": "L4I5BntKfsJk",
    "outputId": "2f7db588-830e-4986-9d87-6bdf07ca9c68"
   },
   "outputs": [],
   "source": [
    "data.columns"
   ]
  },
  {
   "cell_type": "code",
   "execution_count": null,
   "metadata": {
    "colab": {
     "base_uri": "https://localhost:8080/"
    },
    "id": "gKEQks9XgyH9",
    "outputId": "ed11ba42-5099-44d8-8ccb-31590e74603e"
   },
   "outputs": [],
   "source": [
    "data['Content Rating'].value_counts()"
   ]
  },
  {
   "cell_type": "markdown",
   "metadata": {
    "id": "GmFyEQDr386Q"
   },
   "source": [
    "Can apply **One Hot Encoding**"
   ]
  },
  {
   "cell_type": "code",
   "execution_count": null,
   "metadata": {
    "id": "6jZ2xc21miYg"
   },
   "outputs": [],
   "source": [
    "data['Size'] = data['Size'].str.replace('M','')\n",
    "data['Size'] = data['Size'].str.replace(',','')\n",
    "data.drop(data[data['Size'] == 'Varies with device'].index, inplace = True)\n",
    "data.drop(data[data['Size'].str.contains(\"k\") == True].index, inplace = True)"
   ]
  },
  {
   "cell_type": "markdown",
   "metadata": {
    "id": "nSpMcz0u4abi"
   },
   "source": [
    "Dropping Unnecessory rows with respect to **Size** and replacing string values to null to make it as **float** data type"
   ]
  },
  {
   "cell_type": "code",
   "execution_count": null,
   "metadata": {
    "colab": {
     "base_uri": "https://localhost:8080/"
    },
    "id": "RAaKZWpowlOp",
    "outputId": "74ac6c45-9143-42a5-f627-86f42c22edee"
   },
   "outputs": [],
   "source": [
    "index_lst_G = data[data['Size'].str.contains(\"G\") == True].index.to_list()\n",
    "print(len(index_lst_G))"
   ]
  },
  {
   "cell_type": "markdown",
   "metadata": {
    "id": "DWER1sav5Lry"
   },
   "source": [
    "Checking for number of rows with GB sized apps.\n",
    "- As it is less for is affordable to covert them into MB sized data"
   ]
  },
  {
   "cell_type": "code",
   "execution_count": null,
   "metadata": {
    "id": "gbU0zP25yE9E"
   },
   "outputs": [],
   "source": [
    "for i in index_lst_G:\n",
    "    data.loc[i,'Size'] = data.loc[i,'Size'].replace('G','')\n",
    "    val = float(data.loc[i,'Size'])*1000\n",
    "    data.loc[i,'Size'] = str(val)"
   ]
  },
  {
   "cell_type": "code",
   "execution_count": null,
   "metadata": {
    "id": "y9sdMQsrsJje"
   },
   "outputs": [],
   "source": [
    "data['Size'] = data['Size'].astype(float)"
   ]
  },
  {
   "cell_type": "markdown",
   "metadata": {
    "id": "IonR3zKx5dyC"
   },
   "source": [
    "Converting the data type of **Size**"
   ]
  },
  {
   "cell_type": "code",
   "execution_count": null,
   "metadata": {
    "colab": {
     "base_uri": "https://localhost:8080/"
    },
    "id": "Y8pIywP1m5L5",
    "outputId": "0500f2ab-27df-4ff0-92c0-969fc07af720"
   },
   "outputs": [],
   "source": [
    "data['Minimum Android'] = data['Minimum Android'].str.replace(' and up','')\n",
    "data['Minimum Android']"
   ]
  },
  {
   "cell_type": "markdown",
   "metadata": {
    "id": "GrF7YMs15sm4"
   },
   "source": [
    "Replacing Unnecessory Strings to empty String"
   ]
  },
  {
   "cell_type": "code",
   "execution_count": null,
   "metadata": {
    "id": "yJ30LqfiAuib"
   },
   "outputs": [],
   "source": [
    "data.loc[data['Minimum Android'].str.count('.') == 5.0,'Minimum Android'] = data[data['Minimum Android'].str.count('.') == 5.0]['Minimum Android'].str[:-2]"
   ]
  },
  {
   "cell_type": "markdown",
   "metadata": {
    "id": "mp2Fv6DN5zGX"
   },
   "source": [
    "Trimming off the 3 Digit Versions to 2"
   ]
  },
  {
   "cell_type": "code",
   "execution_count": null,
   "metadata": {
    "colab": {
     "base_uri": "https://localhost:8080/"
    },
    "id": "HtxJcTHdh0GY",
    "outputId": "268de3a9-a7eb-4f01-8265-b4b3630ff234"
   },
   "outputs": [],
   "source": [
    "data['Minimum Android'] = data['Minimum Android'].str.replace('W','')\n",
    "print(data.shape)\n",
    "data.drop(data[data['Minimum Android'] == 'Varies with device'].index, inplace = True)\n",
    "data.shape"
   ]
  },
  {
   "cell_type": "markdown",
   "metadata": {
    "id": "L3n2ru5562ho"
   },
   "source": [
    "Dropping and replacing of unwanted strings"
   ]
  },
  {
   "cell_type": "code",
   "execution_count": null,
   "metadata": {
    "colab": {
     "base_uri": "https://localhost:8080/"
    },
    "id": "_YlSyjfKiWhE",
    "outputId": "37a39eb2-46b3-42b3-9f2a-62442d605392"
   },
   "outputs": [],
   "source": [
    "data[data['Minimum Android'].str.count('.') > 5.0]['Minimum Android']"
   ]
  },
  {
   "cell_type": "code",
   "execution_count": null,
   "metadata": {
    "id": "ZqpJJL-7iqBa"
   },
   "outputs": [],
   "source": [
    "data.drop(data[data['Minimum Android'].str.count('.') > 5.0]['Minimum Android'].index, inplace = True)"
   ]
  },
  {
   "cell_type": "markdown",
   "metadata": {
    "id": "GlGr-c4G683w"
   },
   "source": [
    "As the number of rows which has complex versions are less, we **Drop** them"
   ]
  },
  {
   "cell_type": "code",
   "execution_count": null,
   "metadata": {
    "colab": {
     "base_uri": "https://localhost:8080/",
     "height": 606
    },
    "id": "6URTCXw5f5Pd",
    "outputId": "fa53f281-b84f-483f-f9bf-1428c72f0bda"
   },
   "outputs": [],
   "source": [
    "data"
   ]
  },
  {
   "cell_type": "code",
   "execution_count": null,
   "metadata": {
    "id": "-4uPgPQYhf5P"
   },
   "outputs": [],
   "source": [
    "data['Minimum Android'] = data['Minimum Android'].astype(float)"
   ]
  },
  {
   "cell_type": "code",
   "execution_count": null,
   "metadata": {
    "id": "f7QNRw_9oYUC"
   },
   "outputs": [],
   "source": [
    "data['Minimum Installs'] = data['Minimum Installs'].astype(int)"
   ]
  },
  {
   "cell_type": "code",
   "execution_count": null,
   "metadata": {
    "id": "tdTbGCQ93CVk"
   },
   "outputs": [],
   "source": [
    "data['Released'] = pd.to_datetime(data['Released'])\n",
    "data['Last Updated'] = pd.to_datetime(data['Last Updated'])"
   ]
  },
  {
   "cell_type": "markdown",
   "metadata": {
    "id": "P1MJgs1v7Iz9"
   },
   "source": [
    "Changing of data types"
   ]
  },
  {
   "cell_type": "code",
   "execution_count": null,
   "metadata": {
    "colab": {
     "base_uri": "https://localhost:8080/"
    },
    "id": "wsqeMcnnpigL",
    "outputId": "7e5f4f7c-9286-4c64-872d-85f39fa3e3d8"
   },
   "outputs": [],
   "source": [
    "data.dtypes"
   ]
  },
  {
   "cell_type": "code",
   "execution_count": null,
   "metadata": {
    "colab": {
     "base_uri": "https://localhost:8080/",
     "height": 306
    },
    "id": "LpIRuTVD8IrZ",
    "outputId": "adaf6557-c69f-494b-dbae-4caa09c91589"
   },
   "outputs": [],
   "source": [
    "data.head()"
   ]
  },
  {
   "cell_type": "code",
   "execution_count": null,
   "metadata": {
    "colab": {
     "base_uri": "https://localhost:8080/"
    },
    "id": "hsegymzmnASS",
    "outputId": "e589f596-826b-4b82-f391-399a0bd9a80f"
   },
   "outputs": [],
   "source": [
    "data.isna().sum()"
   ]
  },
  {
   "cell_type": "markdown",
   "metadata": {
    "id": "tF6BAC1o71rN"
   },
   "source": [
    "Finally checking and Dropping Null values"
   ]
  },
  {
   "cell_type": "code",
   "execution_count": null,
   "metadata": {
    "colab": {
     "base_uri": "https://localhost:8080/"
    },
    "id": "1f7RI_EOqiML",
    "outputId": "94928ab7-49a7-4f03-c98f-bd144ac94a97"
   },
   "outputs": [],
   "source": [
    "data.shape"
   ]
  },
  {
   "cell_type": "code",
   "execution_count": null,
   "metadata": {
    "colab": {
     "base_uri": "https://localhost:8080/"
    },
    "id": "omp37QDGnH2Z",
    "outputId": "82f37bfc-7647-4bb0-fb15-e1f4877c1c58"
   },
   "outputs": [],
   "source": [
    "data.dropna(axis = 0, inplace = True)\n",
    "data.shape"
   ]
  },
  {
   "cell_type": "code",
   "execution_count": null,
   "metadata": {
    "colab": {
     "base_uri": "https://localhost:8080/"
    },
    "id": "CnuepWhQtEEp",
    "outputId": "f93614cd-9a9e-4f32-cf4d-01bd906ccef4"
   },
   "outputs": [],
   "source": [
    "for i in [\"Category\",\"Content Rating\",\"Developer Id\"]:\n",
    "    print(data[data[i] == ''].index.to_list())"
   ]
  },
  {
   "cell_type": "code",
   "execution_count": null,
   "metadata": {
    "colab": {
     "base_uri": "https://localhost:8080/"
    },
    "id": "w5HAZMCw8pvX",
    "outputId": "6df5a2de-e0a8-4b34-9270-f56ddee5b428"
   },
   "outputs": [],
   "source": [
    "for i in [\"Size\",\"Minimum Android\"]:\n",
    "    print(data[data[i] == 0.0].index.to_list())"
   ]
  },
  {
   "cell_type": "markdown",
   "metadata": {
    "id": "2Dhzp8tv8j0X"
   },
   "source": [
    "Checking for **Hidden Null values**"
   ]
  },
  {
   "cell_type": "code",
   "execution_count": null,
   "metadata": {
    "colab": {
     "base_uri": "https://localhost:8080/",
     "height": 606
    },
    "id": "82iBjk6Pw82j",
    "outputId": "a096ff42-04f5-4e26-9823-97ee529f0517"
   },
   "outputs": [],
   "source": [
    "data"
   ]
  },
  {
   "cell_type": "code",
   "execution_count": null,
   "metadata": {},
   "outputs": [],
   "source": [
    "data.rename(columns = {'Rating Count':'Rating_Count',\n",
    "                       'Minimum Installs':'Min_Downloads',\n",
    "                       'Maximum Installs':'Max_Downloads',\n",
    "                       'Minimum Android':'Min_Version',\n",
    "                       'Last Updated':'Last_Updated',\n",
    "                       'Content Rating':'Content',\n",
    "                       'Ad Supported':'Ad_Support',\n",
    "                       'In App Purchases':'Inapp_Purchase',\n",
    "                       'Developer Id':'DeveloperId'}, inplace = True)"
   ]
  },
  {
   "cell_type": "code",
   "execution_count": null,
   "metadata": {},
   "outputs": [],
   "source": [
    "from datetime import date\n",
    "today = date.today()\n",
    "today = pd.to_datetime(today)\n",
    "today"
   ]
  },
  {
   "cell_type": "code",
   "execution_count": null,
   "metadata": {},
   "outputs": [],
   "source": [
    "data['Released_Before'] = ((today - data.Released)/np.timedelta64(1, 'M'))\n",
    "data['Updated_Before'] = ((today - data.Last_Updated)/np.timedelta64(1, 'M'))\n",
    "data['Released_Before'] = data['Released_Before'].astype(int)\n",
    "data['Updated_Before'] = data['Updated_Before'].astype(int)"
   ]
  },
  {
   "cell_type": "code",
   "execution_count": null,
   "metadata": {},
   "outputs": [],
   "source": [
    "data"
   ]
  },
  {
   "cell_type": "code",
   "execution_count": null,
   "metadata": {},
   "outputs": [],
   "source": [
    "data.drop(['Released','Last_Updated'],1,inplace=True)\n",
    "data"
   ]
  },
  {
   "cell_type": "code",
   "execution_count": null,
   "metadata": {
    "colab": {
     "base_uri": "https://localhost:8080/",
     "height": 606
    },
    "id": "kv7Er3mgyprQ",
    "outputId": "36a51e55-0bc7-40ba-9a86-e37271931498"
   },
   "outputs": [],
   "source": [
    "data = data[['Category', 'Free', 'Price',\n",
    "       'Size', 'Min_Version', 'DeveloperId', 'Released_Before', 'Updated_Before',\n",
    "       'Content', 'Ad_Support', 'Inapp_Purchase' , 'Min_Downloads' ,'Max_Downloads']]\n",
    "data"
   ]
  },
  {
   "cell_type": "code",
   "execution_count": null,
   "metadata": {
    "colab": {
     "base_uri": "https://localhost:8080/"
    },
    "id": "NO3DdSNGyj_z",
    "outputId": "fe03db0c-dc6d-4fc2-e6d7-fa87e55a6db2"
   },
   "outputs": [],
   "source": [
    "data.columns"
   ]
  },
  {
   "cell_type": "markdown",
   "metadata": {
    "id": "fAVs1wk98Fs6"
   },
   "source": [
    "Renaming and Reordering **Column Names**"
   ]
  },
  {
   "cell_type": "markdown",
   "metadata": {},
   "source": [
    "#### Making a meaningful **feature** from ```Min_Downloads``` and ```Max_Downloads``` to make it continuous"
   ]
  },
  {
   "cell_type": "code",
   "execution_count": null,
   "metadata": {},
   "outputs": [],
   "source": [
    "data[data[\"Max_Downloads\"] == 0].shape"
   ]
  },
  {
   "cell_type": "markdown",
   "metadata": {},
   "source": [
    "Checking for zeros in ```Max_downloads```"
   ]
  },
  {
   "cell_type": "code",
   "execution_count": null,
   "metadata": {},
   "outputs": [],
   "source": [
    "print(data.shape)\n",
    "data.drop(data[data[\"Max_Downloads\"] == 0].index,inplace=True)\n",
    "data.reset_index(drop=True,inplace=True)\n",
    "data.shape"
   ]
  },
  {
   "cell_type": "markdown",
   "metadata": {},
   "source": [
    "we drop them because it may cause *Non-definite* values when divide ```0``` with ```2```"
   ]
  },
  {
   "cell_type": "code",
   "execution_count": null,
   "metadata": {},
   "outputs": [],
   "source": [
    "data['Average_Downloads'] = data['Min_Downloads'] +((data['Max_Downloads'] - data['Min_Downloads'])/2)\n",
    "data.drop(['Max_Downloads','DeveloperId'],1,inplace=True)"
   ]
  },
  {
   "cell_type": "code",
   "execution_count": null,
   "metadata": {},
   "outputs": [],
   "source": [
    "data.reset_index(drop=True,inplace=True)\n",
    "data"
   ]
  },
  {
   "cell_type": "markdown",
   "metadata": {},
   "source": [
    "#### making the newly created columns to **```integer```**"
   ]
  },
  {
   "cell_type": "code",
   "execution_count": null,
   "metadata": {},
   "outputs": [],
   "source": [
    "data[\"Average_Downloads\"] = data['Average_Downloads'].apply(np.int64)\n",
    "data.head()"
   ]
  },
  {
   "cell_type": "code",
   "execution_count": null,
   "metadata": {
    "colab": {
     "base_uri": "https://localhost:8080/",
     "height": 297
    },
    "id": "P4Gu9ud1-YRQ",
    "outputId": "e2247f6c-22e4-4700-e320-98b63ef4154c"
   },
   "outputs": [],
   "source": [
    "data.describe(include = [np.number])"
   ]
  },
  {
   "cell_type": "code",
   "execution_count": null,
   "metadata": {
    "colab": {
     "base_uri": "https://localhost:8080/",
     "height": 173
    },
    "id": "J9CaiGsQBB7B",
    "outputId": "68626168-8b1e-4a2e-8423-840c9f32bbfb"
   },
   "outputs": [],
   "source": [
    "data.describe(include = ['O'])"
   ]
  },
  {
   "cell_type": "code",
   "execution_count": null,
   "metadata": {
    "id": "Q8NGuV7gzh44"
   },
   "outputs": [],
   "source": [
    "data.to_csv('Playstore-data.csv.gz',compression='gzip')"
   ]
  },
  {
   "cell_type": "code",
   "execution_count": null,
   "metadata": {
    "id": "Zlrge0c-BHxC"
   },
   "outputs": [],
   "source": []
  },
  {
   "cell_type": "code",
   "execution_count": null,
   "metadata": {},
   "outputs": [],
   "source": []
  }
 ],
 "metadata": {
  "colab": {
   "collapsed_sections": [],
   "name": "Playstore_cleaning.ipynb",
   "provenance": []
  },
  "kernelspec": {
   "display_name": "Python 3",
   "language": "python",
   "name": "python3"
  },
  "language_info": {
   "codemirror_mode": {
    "name": "ipython",
    "version": 3
   },
   "file_extension": ".py",
   "mimetype": "text/x-python",
   "name": "python",
   "nbconvert_exporter": "python",
   "pygments_lexer": "ipython3",
   "version": "3.8.10"
  }
 },
 "nbformat": 4,
 "nbformat_minor": 1
}
