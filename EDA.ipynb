{
 "cells": [
  {
   "cell_type": "code",
   "execution_count": 85,
   "id": "b5c7a53e",
   "metadata": {},
   "outputs": [],
   "source": [
    "import pandas as pd\n",
    "import numpy as np\n",
    "import matplotlib.pyplot as plt\n",
    "import seaborn as sns"
   ]
  },
  {
   "cell_type": "code",
   "execution_count": 86,
   "id": "ef27b435",
   "metadata": {},
   "outputs": [],
   "source": [
    "data = pd.read_csv('playstore-data.csv.gz',compression='gzip')"
   ]
  },
  {
   "cell_type": "code",
   "execution_count": 87,
   "id": "31b92603",
   "metadata": {},
   "outputs": [
    {
     "data": {
      "text/html": [
       "<div>\n",
       "<style scoped>\n",
       "    .dataframe tbody tr th:only-of-type {\n",
       "        vertical-align: middle;\n",
       "    }\n",
       "\n",
       "    .dataframe tbody tr th {\n",
       "        vertical-align: top;\n",
       "    }\n",
       "\n",
       "    .dataframe thead th {\n",
       "        text-align: right;\n",
       "    }\n",
       "</style>\n",
       "<table border=\"1\" class=\"dataframe\">\n",
       "  <thead>\n",
       "    <tr style=\"text-align: right;\">\n",
       "      <th></th>\n",
       "      <th>Unnamed: 0</th>\n",
       "      <th>Category</th>\n",
       "      <th>Free</th>\n",
       "      <th>Price</th>\n",
       "      <th>Size</th>\n",
       "      <th>Min_Version</th>\n",
       "      <th>DeveloperId</th>\n",
       "      <th>Released_Before</th>\n",
       "      <th>Updated_Before</th>\n",
       "      <th>Content</th>\n",
       "      <th>Ad_Support</th>\n",
       "      <th>Inapp_Purchase</th>\n",
       "      <th>Rating</th>\n",
       "      <th>Rating_Count</th>\n",
       "      <th>Rating_Sum</th>\n",
       "      <th>Min_Downloads</th>\n",
       "    </tr>\n",
       "  </thead>\n",
       "  <tbody>\n",
       "    <tr>\n",
       "      <th>0</th>\n",
       "      <td>0</td>\n",
       "      <td>Adventure</td>\n",
       "      <td>True</td>\n",
       "      <td>0.0</td>\n",
       "      <td>10.0</td>\n",
       "      <td>7.1</td>\n",
       "      <td>Jean Confident Irénée NIYIZIBYOSE</td>\n",
       "      <td>18</td>\n",
       "      <td>18</td>\n",
       "      <td>Everyone</td>\n",
       "      <td>False</td>\n",
       "      <td>False</td>\n",
       "      <td>0.0</td>\n",
       "      <td>0</td>\n",
       "      <td>0.0</td>\n",
       "      <td>10</td>\n",
       "    </tr>\n",
       "    <tr>\n",
       "      <th>1</th>\n",
       "      <td>1</td>\n",
       "      <td>Tools</td>\n",
       "      <td>True</td>\n",
       "      <td>0.0</td>\n",
       "      <td>2.9</td>\n",
       "      <td>5.0</td>\n",
       "      <td>Webserveis</td>\n",
       "      <td>15</td>\n",
       "      <td>4</td>\n",
       "      <td>Everyone</td>\n",
       "      <td>True</td>\n",
       "      <td>False</td>\n",
       "      <td>4.4</td>\n",
       "      <td>64</td>\n",
       "      <td>281.6</td>\n",
       "      <td>5000</td>\n",
       "    </tr>\n",
       "    <tr>\n",
       "      <th>2</th>\n",
       "      <td>2</td>\n",
       "      <td>Productivity</td>\n",
       "      <td>True</td>\n",
       "      <td>0.0</td>\n",
       "      <td>3.7</td>\n",
       "      <td>4.0</td>\n",
       "      <td>Cabin Crew</td>\n",
       "      <td>25</td>\n",
       "      <td>24</td>\n",
       "      <td>Everyone</td>\n",
       "      <td>False</td>\n",
       "      <td>False</td>\n",
       "      <td>0.0</td>\n",
       "      <td>0</td>\n",
       "      <td>0.0</td>\n",
       "      <td>50</td>\n",
       "    </tr>\n",
       "    <tr>\n",
       "      <th>3</th>\n",
       "      <td>3</td>\n",
       "      <td>Communication</td>\n",
       "      <td>True</td>\n",
       "      <td>0.0</td>\n",
       "      <td>1.8</td>\n",
       "      <td>4.0</td>\n",
       "      <td>Climate Smart Tech2</td>\n",
       "      <td>36</td>\n",
       "      <td>34</td>\n",
       "      <td>Everyone</td>\n",
       "      <td>True</td>\n",
       "      <td>False</td>\n",
       "      <td>5.0</td>\n",
       "      <td>5</td>\n",
       "      <td>25.0</td>\n",
       "      <td>10</td>\n",
       "    </tr>\n",
       "    <tr>\n",
       "      <th>4</th>\n",
       "      <td>4</td>\n",
       "      <td>Tools</td>\n",
       "      <td>True</td>\n",
       "      <td>0.0</td>\n",
       "      <td>6.2</td>\n",
       "      <td>4.1</td>\n",
       "      <td>Rafal Milek-Horodyski</td>\n",
       "      <td>18</td>\n",
       "      <td>34</td>\n",
       "      <td>Everyone</td>\n",
       "      <td>False</td>\n",
       "      <td>False</td>\n",
       "      <td>0.0</td>\n",
       "      <td>0</td>\n",
       "      <td>0.0</td>\n",
       "      <td>100</td>\n",
       "    </tr>\n",
       "  </tbody>\n",
       "</table>\n",
       "</div>"
      ],
      "text/plain": [
       "   Unnamed: 0       Category  Free  Price  Size  Min_Version  \\\n",
       "0           0      Adventure  True    0.0  10.0          7.1   \n",
       "1           1          Tools  True    0.0   2.9          5.0   \n",
       "2           2   Productivity  True    0.0   3.7          4.0   \n",
       "3           3  Communication  True    0.0   1.8          4.0   \n",
       "4           4          Tools  True    0.0   6.2          4.1   \n",
       "\n",
       "                         DeveloperId  Released_Before  Updated_Before  \\\n",
       "0  Jean Confident Irénée NIYIZIBYOSE               18              18   \n",
       "1                         Webserveis               15               4   \n",
       "2                         Cabin Crew               25              24   \n",
       "3                Climate Smart Tech2               36              34   \n",
       "4              Rafal Milek-Horodyski               18              34   \n",
       "\n",
       "    Content  Ad_Support  Inapp_Purchase  Rating  Rating_Count  Rating_Sum  \\\n",
       "0  Everyone       False           False     0.0             0         0.0   \n",
       "1  Everyone        True           False     4.4            64       281.6   \n",
       "2  Everyone       False           False     0.0             0         0.0   \n",
       "3  Everyone        True           False     5.0             5        25.0   \n",
       "4  Everyone       False           False     0.0             0         0.0   \n",
       "\n",
       "   Min_Downloads  \n",
       "0             10  \n",
       "1           5000  \n",
       "2             50  \n",
       "3             10  \n",
       "4            100  "
      ]
     },
     "execution_count": 87,
     "metadata": {},
     "output_type": "execute_result"
    }
   ],
   "source": [
    "data.head()"
   ]
  },
  {
   "cell_type": "code",
   "execution_count": 88,
   "id": "b3a93fe0",
   "metadata": {},
   "outputs": [
    {
     "name": "stdout",
     "output_type": "stream",
     "text": [
      "(1005064, 16)\n"
     ]
    },
    {
     "data": {
      "text/plain": [
       "(1005064, 16)"
      ]
     },
     "execution_count": 88,
     "metadata": {},
     "output_type": "execute_result"
    }
   ],
   "source": [
    "print(data[data['Rating'] == 0.0].shape)\n",
    "df = data[data['Rating'] == 0.0]\n",
    "df[df['Rating_Count'] == 0].shape"
   ]
  },
  {
   "cell_type": "code",
   "execution_count": 89,
   "id": "844aa9e9",
   "metadata": {},
   "outputs": [
    {
     "name": "stdout",
     "output_type": "stream",
     "text": [
      "(2145742, 16)\n"
     ]
    },
    {
     "data": {
      "text/plain": [
       "(1140678, 16)"
      ]
     },
     "execution_count": 89,
     "metadata": {},
     "output_type": "execute_result"
    }
   ],
   "source": [
    "print(data.shape)\n",
    "data.drop(data[data['Rating'] == 0.0].index,inplace=True)\n",
    "data.shape"
   ]
  },
  {
   "cell_type": "code",
   "execution_count": 90,
   "id": "8603616e",
   "metadata": {},
   "outputs": [],
   "source": [
    "data.drop(['Unnamed: 0'],1,inplace=True)"
   ]
  },
  {
   "cell_type": "code",
   "execution_count": 101,
   "id": "fe6ae1de",
   "metadata": {},
   "outputs": [
    {
     "data": {
      "text/html": [
       "<div>\n",
       "<style scoped>\n",
       "    .dataframe tbody tr th:only-of-type {\n",
       "        vertical-align: middle;\n",
       "    }\n",
       "\n",
       "    .dataframe tbody tr th {\n",
       "        vertical-align: top;\n",
       "    }\n",
       "\n",
       "    .dataframe thead th {\n",
       "        text-align: right;\n",
       "    }\n",
       "</style>\n",
       "<table border=\"1\" class=\"dataframe\">\n",
       "  <thead>\n",
       "    <tr style=\"text-align: right;\">\n",
       "      <th></th>\n",
       "      <th>Category</th>\n",
       "      <th>Free</th>\n",
       "      <th>Price</th>\n",
       "      <th>Size</th>\n",
       "      <th>Min_Version</th>\n",
       "      <th>DeveloperId</th>\n",
       "      <th>Released_Before</th>\n",
       "      <th>Updated_Before</th>\n",
       "      <th>Content</th>\n",
       "      <th>Ad_Support</th>\n",
       "      <th>Inapp_Purchase</th>\n",
       "      <th>Rating</th>\n",
       "      <th>Rating_Count</th>\n",
       "      <th>Rating_Sum</th>\n",
       "      <th>Min_Downloads</th>\n",
       "    </tr>\n",
       "  </thead>\n",
       "  <tbody>\n",
       "    <tr>\n",
       "      <th>1</th>\n",
       "      <td>Tools</td>\n",
       "      <td>True</td>\n",
       "      <td>0.0</td>\n",
       "      <td>2.9</td>\n",
       "      <td>5.0</td>\n",
       "      <td>Webserveis</td>\n",
       "      <td>15</td>\n",
       "      <td>4</td>\n",
       "      <td>Everyone</td>\n",
       "      <td>True</td>\n",
       "      <td>False</td>\n",
       "      <td>4.4</td>\n",
       "      <td>64</td>\n",
       "      <td>281.6</td>\n",
       "      <td>5000</td>\n",
       "    </tr>\n",
       "    <tr>\n",
       "      <th>3</th>\n",
       "      <td>Communication</td>\n",
       "      <td>True</td>\n",
       "      <td>0.0</td>\n",
       "      <td>1.8</td>\n",
       "      <td>4.0</td>\n",
       "      <td>Climate Smart Tech2</td>\n",
       "      <td>36</td>\n",
       "      <td>34</td>\n",
       "      <td>Everyone</td>\n",
       "      <td>True</td>\n",
       "      <td>False</td>\n",
       "      <td>5.0</td>\n",
       "      <td>5</td>\n",
       "      <td>25.0</td>\n",
       "      <td>10</td>\n",
       "    </tr>\n",
       "    <tr>\n",
       "      <th>6</th>\n",
       "      <td>Libraries &amp; Demo</td>\n",
       "      <td>True</td>\n",
       "      <td>0.0</td>\n",
       "      <td>2.5</td>\n",
       "      <td>4.1</td>\n",
       "      <td>android developer779</td>\n",
       "      <td>23</td>\n",
       "      <td>23</td>\n",
       "      <td>Everyone</td>\n",
       "      <td>True</td>\n",
       "      <td>False</td>\n",
       "      <td>4.5</td>\n",
       "      <td>12</td>\n",
       "      <td>54.0</td>\n",
       "      <td>1000</td>\n",
       "    </tr>\n",
       "    <tr>\n",
       "      <th>7</th>\n",
       "      <td>Lifestyle</td>\n",
       "      <td>True</td>\n",
       "      <td>0.0</td>\n",
       "      <td>16.0</td>\n",
       "      <td>5.0</td>\n",
       "      <td>Mozaix LLC</td>\n",
       "      <td>26</td>\n",
       "      <td>26</td>\n",
       "      <td>Everyone</td>\n",
       "      <td>False</td>\n",
       "      <td>False</td>\n",
       "      <td>2.0</td>\n",
       "      <td>39</td>\n",
       "      <td>78.0</td>\n",
       "      <td>500</td>\n",
       "    </tr>\n",
       "    <tr>\n",
       "      <th>8</th>\n",
       "      <td>Personalization</td>\n",
       "      <td>True</td>\n",
       "      <td>0.0</td>\n",
       "      <td>3.5</td>\n",
       "      <td>4.1</td>\n",
       "      <td>Free 2021 Themes for Emoji keyboard</td>\n",
       "      <td>23</td>\n",
       "      <td>11</td>\n",
       "      <td>Everyone</td>\n",
       "      <td>True</td>\n",
       "      <td>False</td>\n",
       "      <td>4.7</td>\n",
       "      <td>820</td>\n",
       "      <td>3854.0</td>\n",
       "      <td>50000</td>\n",
       "    </tr>\n",
       "    <tr>\n",
       "      <th>...</th>\n",
       "      <td>...</td>\n",
       "      <td>...</td>\n",
       "      <td>...</td>\n",
       "      <td>...</td>\n",
       "      <td>...</td>\n",
       "      <td>...</td>\n",
       "      <td>...</td>\n",
       "      <td>...</td>\n",
       "      <td>...</td>\n",
       "      <td>...</td>\n",
       "      <td>...</td>\n",
       "      <td>...</td>\n",
       "      <td>...</td>\n",
       "      <td>...</td>\n",
       "      <td>...</td>\n",
       "    </tr>\n",
       "    <tr>\n",
       "      <th>2145731</th>\n",
       "      <td>Action</td>\n",
       "      <td>True</td>\n",
       "      <td>0.0</td>\n",
       "      <td>37.0</td>\n",
       "      <td>4.0</td>\n",
       "      <td>Upopa Games</td>\n",
       "      <td>70</td>\n",
       "      <td>54</td>\n",
       "      <td>Teen</td>\n",
       "      <td>True</td>\n",
       "      <td>True</td>\n",
       "      <td>4.3</td>\n",
       "      <td>103466</td>\n",
       "      <td>444903.8</td>\n",
       "      <td>5000000</td>\n",
       "    </tr>\n",
       "    <tr>\n",
       "      <th>2145732</th>\n",
       "      <td>Music &amp; Audio</td>\n",
       "      <td>True</td>\n",
       "      <td>0.0</td>\n",
       "      <td>4.1</td>\n",
       "      <td>2.2</td>\n",
       "      <td>Single Cell Software</td>\n",
       "      <td>81</td>\n",
       "      <td>81</td>\n",
       "      <td>Everyone</td>\n",
       "      <td>False</td>\n",
       "      <td>False</td>\n",
       "      <td>4.0</td>\n",
       "      <td>344</td>\n",
       "      <td>1376.0</td>\n",
       "      <td>500000</td>\n",
       "    </tr>\n",
       "    <tr>\n",
       "      <th>2145737</th>\n",
       "      <td>Education</td>\n",
       "      <td>True</td>\n",
       "      <td>0.0</td>\n",
       "      <td>10.0</td>\n",
       "      <td>4.1</td>\n",
       "      <td>Julio Augusto Vera</td>\n",
       "      <td>39</td>\n",
       "      <td>32</td>\n",
       "      <td>Everyone</td>\n",
       "      <td>True</td>\n",
       "      <td>False</td>\n",
       "      <td>3.4</td>\n",
       "      <td>17</td>\n",
       "      <td>57.8</td>\n",
       "      <td>1000</td>\n",
       "    </tr>\n",
       "    <tr>\n",
       "      <th>2145740</th>\n",
       "      <td>Music &amp; Audio</td>\n",
       "      <td>True</td>\n",
       "      <td>0.0</td>\n",
       "      <td>10.0</td>\n",
       "      <td>5.0</td>\n",
       "      <td>Bhakti</td>\n",
       "      <td>61</td>\n",
       "      <td>4</td>\n",
       "      <td>Everyone</td>\n",
       "      <td>True</td>\n",
       "      <td>False</td>\n",
       "      <td>3.5</td>\n",
       "      <td>8</td>\n",
       "      <td>28.0</td>\n",
       "      <td>1000</td>\n",
       "    </tr>\n",
       "    <tr>\n",
       "      <th>2145741</th>\n",
       "      <td>Trivia</td>\n",
       "      <td>True</td>\n",
       "      <td>0.0</td>\n",
       "      <td>5.2</td>\n",
       "      <td>5.0</td>\n",
       "      <td>Y Yazılım</td>\n",
       "      <td>25</td>\n",
       "      <td>24</td>\n",
       "      <td>Everyone</td>\n",
       "      <td>True</td>\n",
       "      <td>False</td>\n",
       "      <td>5.0</td>\n",
       "      <td>12</td>\n",
       "      <td>60.0</td>\n",
       "      <td>100</td>\n",
       "    </tr>\n",
       "  </tbody>\n",
       "</table>\n",
       "<p>1140678 rows × 15 columns</p>\n",
       "</div>"
      ],
      "text/plain": [
       "                 Category  Free  Price  Size  Min_Version  \\\n",
       "1                   Tools  True    0.0   2.9          5.0   \n",
       "3           Communication  True    0.0   1.8          4.0   \n",
       "6        Libraries & Demo  True    0.0   2.5          4.1   \n",
       "7               Lifestyle  True    0.0  16.0          5.0   \n",
       "8         Personalization  True    0.0   3.5          4.1   \n",
       "...                   ...   ...    ...   ...          ...   \n",
       "2145731            Action  True    0.0  37.0          4.0   \n",
       "2145732     Music & Audio  True    0.0   4.1          2.2   \n",
       "2145737         Education  True    0.0  10.0          4.1   \n",
       "2145740     Music & Audio  True    0.0  10.0          5.0   \n",
       "2145741            Trivia  True    0.0   5.2          5.0   \n",
       "\n",
       "                                 DeveloperId  Released_Before  Updated_Before  \\\n",
       "1                                 Webserveis               15               4   \n",
       "3                        Climate Smart Tech2               36              34   \n",
       "6                       android developer779               23              23   \n",
       "7                                 Mozaix LLC               26              26   \n",
       "8        Free 2021 Themes for Emoji keyboard               23              11   \n",
       "...                                      ...              ...             ...   \n",
       "2145731                          Upopa Games               70              54   \n",
       "2145732                 Single Cell Software               81              81   \n",
       "2145737                   Julio Augusto Vera               39              32   \n",
       "2145740                               Bhakti               61               4   \n",
       "2145741                            Y Yazılım               25              24   \n",
       "\n",
       "          Content  Ad_Support  Inapp_Purchase  Rating  Rating_Count  \\\n",
       "1        Everyone        True           False     4.4            64   \n",
       "3        Everyone        True           False     5.0             5   \n",
       "6        Everyone        True           False     4.5            12   \n",
       "7        Everyone       False           False     2.0            39   \n",
       "8        Everyone        True           False     4.7           820   \n",
       "...           ...         ...             ...     ...           ...   \n",
       "2145731      Teen        True            True     4.3        103466   \n",
       "2145732  Everyone       False           False     4.0           344   \n",
       "2145737  Everyone        True           False     3.4            17   \n",
       "2145740  Everyone        True           False     3.5             8   \n",
       "2145741  Everyone        True           False     5.0            12   \n",
       "\n",
       "         Rating_Sum  Min_Downloads  \n",
       "1             281.6           5000  \n",
       "3              25.0             10  \n",
       "6              54.0           1000  \n",
       "7              78.0            500  \n",
       "8            3854.0          50000  \n",
       "...             ...            ...  \n",
       "2145731    444903.8        5000000  \n",
       "2145732      1376.0         500000  \n",
       "2145737        57.8           1000  \n",
       "2145740        28.0           1000  \n",
       "2145741        60.0            100  \n",
       "\n",
       "[1140678 rows x 15 columns]"
      ]
     },
     "execution_count": 101,
     "metadata": {},
     "output_type": "execute_result"
    }
   ],
   "source": [
    "data"
   ]
  },
  {
   "cell_type": "code",
   "execution_count": 91,
   "id": "da5b0a9b",
   "metadata": {},
   "outputs": [
    {
     "data": {
      "text/plain": [
       "Category            object\n",
       "Free                  bool\n",
       "Price              float64\n",
       "Size               float64\n",
       "Min_Version        float64\n",
       "DeveloperId         object\n",
       "Released_Before      int64\n",
       "Updated_Before       int64\n",
       "Content             object\n",
       "Ad_Support            bool\n",
       "Inapp_Purchase        bool\n",
       "Rating             float64\n",
       "Rating_Count         int64\n",
       "Rating_Sum         float64\n",
       "Min_Downloads        int64\n",
       "dtype: object"
      ]
     },
     "execution_count": 91,
     "metadata": {},
     "output_type": "execute_result"
    }
   ],
   "source": [
    "data.dtypes"
   ]
  },
  {
   "cell_type": "code",
   "execution_count": 92,
   "id": "62da05f7",
   "metadata": {},
   "outputs": [
    {
     "name": "stdout",
     "output_type": "stream",
     "text": [
      "['Price', 'Size', 'Min_Version', 'Released_Before', 'Updated_Before', 'Rating', 'Rating_Count', 'Rating_Sum', 'Min_Downloads'] ['Category', 'DeveloperId', 'Content']\n"
     ]
    }
   ],
   "source": [
    "numerical_features = [feature for feature in data.columns if data[feature].dtypes != 'O' and data[feature].dtypes != 'bool']\n",
    "categorical_features = [feature for feature in data.columns if data[feature].dtypes == 'O']\n",
    "print(numerical_features,categorical_features)"
   ]
  },
  {
   "cell_type": "code",
   "execution_count": 93,
   "id": "96808b79",
   "metadata": {},
   "outputs": [],
   "source": [
    "discreate_feature = ['Min_Version','Min_Downloads']\n",
    "continuous_feature = [features for features in numerical_features if features not in discreate_feature]"
   ]
  },
  {
   "cell_type": "code",
   "execution_count": 94,
   "id": "6aaaea83",
   "metadata": {},
   "outputs": [
    {
     "name": "stdout",
     "output_type": "stream",
     "text": [
      "['Price', 'Size', 'Released_Before', 'Updated_Before', 'Rating', 'Rating_Count', 'Rating_Sum'] ['Min_Version', 'Min_Downloads']\n"
     ]
    }
   ],
   "source": [
    "print(continuous_feature,discreate_feature)"
   ]
  },
  {
   "cell_type": "code",
   "execution_count": 100,
   "id": "30aff264",
   "metadata": {},
   "outputs": [
    {
     "data": {
      "text/plain": [
       "<AxesSubplot:>"
      ]
     },
     "execution_count": 100,
     "metadata": {},
     "output_type": "execute_result"
    },
    {
     "data": {
      "image/png": "[encoded data removed]",
      "text/plain": [
       "<Figure size 432x288 with 1 Axes>"
      ]
     },
     "metadata": {
      "needs_background": "light"
     },
     "output_type": "display_data"
    }
   ],
   "source": [
    "data[\"Rating_Sum\"].hist(bins = 25)"
   ]
  },
  {
   "cell_type": "code",
   "execution_count": 99,
   "id": "f6f3b80d",
   "metadata": {},
   "outputs": [
    {
     "data": {
      "image/png": "[encoded data removed]",
      "text/plain": [
       "<Figure size 432x288 with 1 Axes>"
      ]
     },
     "metadata": {
      "needs_background": "light"
     },
     "output_type": "display_data"
    },
    {
     "data": {
      "image/png": "[encoded data removed]",
      "text/plain": [
       "<Figure size 432x288 with 1 Axes>"
      ]
     },
     "metadata": {
      "needs_background": "light"
     },
     "output_type": "display_data"
    },
    {
     "data": {
      "image/png": "[encoded data removed]",
      "text/plain": [
       "<Figure size 432x288 with 1 Axes>"
      ]
     },
     "metadata": {
      "needs_background": "light"
     },
     "output_type": "display_data"
    },
    {
     "data": {
      "image/png": "[encoded data removed]",
      "text/plain": [
       "<Figure size 432x288 with 1 Axes>"
      ]
     },
     "metadata": {
      "needs_background": "light"
     },
     "output_type": "display_data"
    },
    {
     "data": {
      "image/png": "[encoded data removed]",
      "text/plain": [
       "<Figure size 432x288 with 1 Axes>"
      ]
     },
     "metadata": {
      "needs_background": "light"
     },
     "output_type": "display_data"
    },
    {
     "data": {
      "image/png": "[encoded data removed]",
      "text/plain": [
       "<Figure size 432x288 with 1 Axes>"
      ]
     },
     "metadata": {
      "needs_background": "light"
     },
     "output_type": "display_data"
    },
    {
     "data": {
      "image/png": "[encoded data removed]",
      "text/plain": [
       "<Figure size 432x288 with 1 Axes>"
      ]
     },
     "metadata": {
      "needs_background": "light"
     },
     "output_type": "display_data"
    }
   ],
   "source": [
    "for feature in continuous_feature:\n",
    "    plt.scatter(data[feature],data['Rating_Sum'])\n",
    "    plt.xlabel(feature)\n",
    "    plt.ylabel('Rating_Sum')\n",
    "    plt.ticklabel_format(useOffset=False,style='Plain')\n",
    "    plt.show()"
   ]
  },
  {
   "cell_type": "code",
   "execution_count": null,
   "id": "41ceb0c4",
   "metadata": {},
   "outputs": [],
   "source": []
  }
 ],
 "metadata": {
  "kernelspec": {
   "display_name": "Python 3",
   "language": "python",
   "name": "python3"
  },
  "language_info": {
   "codemirror_mode": {
    "name": "ipython",
    "version": 3
   },
   "file_extension": ".py",
   "mimetype": "text/x-python",
   "name": "python",
   "nbconvert_exporter": "python",
   "pygments_lexer": "ipython3",
   "version": "3.8.10"
  }
 },
 "nbformat": 4,
 "nbformat_minor": 5
}
